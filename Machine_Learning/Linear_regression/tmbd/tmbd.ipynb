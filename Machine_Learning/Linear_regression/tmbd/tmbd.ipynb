{
 "cells": [
  {
   "cell_type": "code",
   "execution_count": 1,
   "metadata": {},
   "outputs": [],
   "source": [
    "import numpy as np\n",
    "import pandas as pd\n",
    "import matplotlib.pyplot as plt\n",
    "import seaborn as sns"
   ]
  },
  {
   "cell_type": "code",
   "execution_count": 2,
   "metadata": {},
   "outputs": [
    {
     "data": {
      "text/html": [
       "<div>\n",
       "<style scoped>\n",
       "    .dataframe tbody tr th:only-of-type {\n",
       "        vertical-align: middle;\n",
       "    }\n",
       "\n",
       "    .dataframe tbody tr th {\n",
       "        vertical-align: top;\n",
       "    }\n",
       "\n",
       "    .dataframe thead th {\n",
       "        text-align: right;\n",
       "    }\n",
       "</style>\n",
       "<table border=\"1\" class=\"dataframe\">\n",
       "  <thead>\n",
       "    <tr style=\"text-align: right;\">\n",
       "      <th></th>\n",
       "      <th>id</th>\n",
       "      <th>belongs_to_collection</th>\n",
       "      <th>budget</th>\n",
       "      <th>genres</th>\n",
       "      <th>homepage</th>\n",
       "      <th>imdb_id</th>\n",
       "      <th>original_language</th>\n",
       "      <th>original_title</th>\n",
       "      <th>overview</th>\n",
       "      <th>popularity</th>\n",
       "      <th>...</th>\n",
       "      <th>release_date</th>\n",
       "      <th>runtime</th>\n",
       "      <th>spoken_languages</th>\n",
       "      <th>status</th>\n",
       "      <th>tagline</th>\n",
       "      <th>title</th>\n",
       "      <th>Keywords</th>\n",
       "      <th>cast</th>\n",
       "      <th>crew</th>\n",
       "      <th>revenue</th>\n",
       "    </tr>\n",
       "  </thead>\n",
       "  <tbody>\n",
       "    <tr>\n",
       "      <th>0</th>\n",
       "      <td>1</td>\n",
       "      <td>[{'id': 313576, 'name': 'Hot Tub Time Machine ...</td>\n",
       "      <td>14000000</td>\n",
       "      <td>[{'id': 35, 'name': 'Comedy'}]</td>\n",
       "      <td>NaN</td>\n",
       "      <td>tt2637294</td>\n",
       "      <td>en</td>\n",
       "      <td>Hot Tub Time Machine 2</td>\n",
       "      <td>When Lou, who has become the \"father of the In...</td>\n",
       "      <td>6.575393</td>\n",
       "      <td>...</td>\n",
       "      <td>2/20/15</td>\n",
       "      <td>93.0</td>\n",
       "      <td>[{'iso_639_1': 'en', 'name': 'English'}]</td>\n",
       "      <td>Released</td>\n",
       "      <td>The Laws of Space and Time are About to be Vio...</td>\n",
       "      <td>Hot Tub Time Machine 2</td>\n",
       "      <td>[{'id': 4379, 'name': 'time travel'}, {'id': 9...</td>\n",
       "      <td>[{'cast_id': 4, 'character': 'Lou', 'credit_id...</td>\n",
       "      <td>[{'credit_id': '59ac067c92514107af02c8c8', 'de...</td>\n",
       "      <td>12314651</td>\n",
       "    </tr>\n",
       "    <tr>\n",
       "      <th>1</th>\n",
       "      <td>2</td>\n",
       "      <td>[{'id': 107674, 'name': 'The Princess Diaries ...</td>\n",
       "      <td>40000000</td>\n",
       "      <td>[{'id': 35, 'name': 'Comedy'}, {'id': 18, 'nam...</td>\n",
       "      <td>NaN</td>\n",
       "      <td>tt0368933</td>\n",
       "      <td>en</td>\n",
       "      <td>The Princess Diaries 2: Royal Engagement</td>\n",
       "      <td>Mia Thermopolis is now a college graduate and ...</td>\n",
       "      <td>8.248895</td>\n",
       "      <td>...</td>\n",
       "      <td>8/6/04</td>\n",
       "      <td>113.0</td>\n",
       "      <td>[{'iso_639_1': 'en', 'name': 'English'}]</td>\n",
       "      <td>Released</td>\n",
       "      <td>It can take a lifetime to find true love; she'...</td>\n",
       "      <td>The Princess Diaries 2: Royal Engagement</td>\n",
       "      <td>[{'id': 2505, 'name': 'coronation'}, {'id': 42...</td>\n",
       "      <td>[{'cast_id': 1, 'character': 'Mia Thermopolis'...</td>\n",
       "      <td>[{'credit_id': '52fe43fe9251416c7502563d', 'de...</td>\n",
       "      <td>95149435</td>\n",
       "    </tr>\n",
       "    <tr>\n",
       "      <th>2</th>\n",
       "      <td>3</td>\n",
       "      <td>NaN</td>\n",
       "      <td>3300000</td>\n",
       "      <td>[{'id': 18, 'name': 'Drama'}]</td>\n",
       "      <td>http://sonyclassics.com/whiplash/</td>\n",
       "      <td>tt2582802</td>\n",
       "      <td>en</td>\n",
       "      <td>Whiplash</td>\n",
       "      <td>Under the direction of a ruthless instructor, ...</td>\n",
       "      <td>64.299990</td>\n",
       "      <td>...</td>\n",
       "      <td>10/10/14</td>\n",
       "      <td>105.0</td>\n",
       "      <td>[{'iso_639_1': 'en', 'name': 'English'}]</td>\n",
       "      <td>Released</td>\n",
       "      <td>The road to greatness can take you to the edge.</td>\n",
       "      <td>Whiplash</td>\n",
       "      <td>[{'id': 1416, 'name': 'jazz'}, {'id': 1523, 'n...</td>\n",
       "      <td>[{'cast_id': 5, 'character': 'Andrew Neimann',...</td>\n",
       "      <td>[{'credit_id': '54d5356ec3a3683ba0000039', 'de...</td>\n",
       "      <td>13092000</td>\n",
       "    </tr>\n",
       "    <tr>\n",
       "      <th>3</th>\n",
       "      <td>4</td>\n",
       "      <td>NaN</td>\n",
       "      <td>1200000</td>\n",
       "      <td>[{'id': 53, 'name': 'Thriller'}, {'id': 18, 'n...</td>\n",
       "      <td>http://kahaanithefilm.com/</td>\n",
       "      <td>tt1821480</td>\n",
       "      <td>hi</td>\n",
       "      <td>Kahaani</td>\n",
       "      <td>Vidya Bagchi (Vidya Balan) arrives in Kolkata ...</td>\n",
       "      <td>3.174936</td>\n",
       "      <td>...</td>\n",
       "      <td>3/9/12</td>\n",
       "      <td>122.0</td>\n",
       "      <td>[{'iso_639_1': 'en', 'name': 'English'}, {'iso...</td>\n",
       "      <td>Released</td>\n",
       "      <td>NaN</td>\n",
       "      <td>Kahaani</td>\n",
       "      <td>[{'id': 10092, 'name': 'mystery'}, {'id': 1054...</td>\n",
       "      <td>[{'cast_id': 1, 'character': 'Vidya Bagchi', '...</td>\n",
       "      <td>[{'credit_id': '52fe48779251416c9108d6eb', 'de...</td>\n",
       "      <td>16000000</td>\n",
       "    </tr>\n",
       "    <tr>\n",
       "      <th>4</th>\n",
       "      <td>5</td>\n",
       "      <td>NaN</td>\n",
       "      <td>0</td>\n",
       "      <td>[{'id': 28, 'name': 'Action'}, {'id': 53, 'nam...</td>\n",
       "      <td>NaN</td>\n",
       "      <td>tt1380152</td>\n",
       "      <td>ko</td>\n",
       "      <td>마린보이</td>\n",
       "      <td>Marine Boy is the story of a former national s...</td>\n",
       "      <td>1.148070</td>\n",
       "      <td>...</td>\n",
       "      <td>2/5/09</td>\n",
       "      <td>118.0</td>\n",
       "      <td>[{'iso_639_1': 'ko', 'name': '한국어/조선말'}]</td>\n",
       "      <td>Released</td>\n",
       "      <td>NaN</td>\n",
       "      <td>Marine Boy</td>\n",
       "      <td>NaN</td>\n",
       "      <td>[{'cast_id': 3, 'character': 'Chun-soo', 'cred...</td>\n",
       "      <td>[{'credit_id': '52fe464b9251416c75073b43', 'de...</td>\n",
       "      <td>3923970</td>\n",
       "    </tr>\n",
       "  </tbody>\n",
       "</table>\n",
       "<p>5 rows × 23 columns</p>\n",
       "</div>"
      ],
      "text/plain": [
       "   id                              belongs_to_collection    budget  \\\n",
       "0   1  [{'id': 313576, 'name': 'Hot Tub Time Machine ...  14000000   \n",
       "1   2  [{'id': 107674, 'name': 'The Princess Diaries ...  40000000   \n",
       "2   3                                                NaN   3300000   \n",
       "3   4                                                NaN   1200000   \n",
       "4   5                                                NaN         0   \n",
       "\n",
       "                                              genres  \\\n",
       "0                     [{'id': 35, 'name': 'Comedy'}]   \n",
       "1  [{'id': 35, 'name': 'Comedy'}, {'id': 18, 'nam...   \n",
       "2                      [{'id': 18, 'name': 'Drama'}]   \n",
       "3  [{'id': 53, 'name': 'Thriller'}, {'id': 18, 'n...   \n",
       "4  [{'id': 28, 'name': 'Action'}, {'id': 53, 'nam...   \n",
       "\n",
       "                            homepage    imdb_id original_language  \\\n",
       "0                                NaN  tt2637294                en   \n",
       "1                                NaN  tt0368933                en   \n",
       "2  http://sonyclassics.com/whiplash/  tt2582802                en   \n",
       "3         http://kahaanithefilm.com/  tt1821480                hi   \n",
       "4                                NaN  tt1380152                ko   \n",
       "\n",
       "                             original_title  \\\n",
       "0                    Hot Tub Time Machine 2   \n",
       "1  The Princess Diaries 2: Royal Engagement   \n",
       "2                                  Whiplash   \n",
       "3                                   Kahaani   \n",
       "4                                      마린보이   \n",
       "\n",
       "                                            overview  popularity  ...  \\\n",
       "0  When Lou, who has become the \"father of the In...    6.575393  ...   \n",
       "1  Mia Thermopolis is now a college graduate and ...    8.248895  ...   \n",
       "2  Under the direction of a ruthless instructor, ...   64.299990  ...   \n",
       "3  Vidya Bagchi (Vidya Balan) arrives in Kolkata ...    3.174936  ...   \n",
       "4  Marine Boy is the story of a former national s...    1.148070  ...   \n",
       "\n",
       "  release_date runtime                                   spoken_languages  \\\n",
       "0      2/20/15    93.0           [{'iso_639_1': 'en', 'name': 'English'}]   \n",
       "1       8/6/04   113.0           [{'iso_639_1': 'en', 'name': 'English'}]   \n",
       "2     10/10/14   105.0           [{'iso_639_1': 'en', 'name': 'English'}]   \n",
       "3       3/9/12   122.0  [{'iso_639_1': 'en', 'name': 'English'}, {'iso...   \n",
       "4       2/5/09   118.0           [{'iso_639_1': 'ko', 'name': '한국어/조선말'}]   \n",
       "\n",
       "     status                                            tagline  \\\n",
       "0  Released  The Laws of Space and Time are About to be Vio...   \n",
       "1  Released  It can take a lifetime to find true love; she'...   \n",
       "2  Released    The road to greatness can take you to the edge.   \n",
       "3  Released                                                NaN   \n",
       "4  Released                                                NaN   \n",
       "\n",
       "                                      title  \\\n",
       "0                    Hot Tub Time Machine 2   \n",
       "1  The Princess Diaries 2: Royal Engagement   \n",
       "2                                  Whiplash   \n",
       "3                                   Kahaani   \n",
       "4                                Marine Boy   \n",
       "\n",
       "                                            Keywords  \\\n",
       "0  [{'id': 4379, 'name': 'time travel'}, {'id': 9...   \n",
       "1  [{'id': 2505, 'name': 'coronation'}, {'id': 42...   \n",
       "2  [{'id': 1416, 'name': 'jazz'}, {'id': 1523, 'n...   \n",
       "3  [{'id': 10092, 'name': 'mystery'}, {'id': 1054...   \n",
       "4                                                NaN   \n",
       "\n",
       "                                                cast  \\\n",
       "0  [{'cast_id': 4, 'character': 'Lou', 'credit_id...   \n",
       "1  [{'cast_id': 1, 'character': 'Mia Thermopolis'...   \n",
       "2  [{'cast_id': 5, 'character': 'Andrew Neimann',...   \n",
       "3  [{'cast_id': 1, 'character': 'Vidya Bagchi', '...   \n",
       "4  [{'cast_id': 3, 'character': 'Chun-soo', 'cred...   \n",
       "\n",
       "                                                crew   revenue  \n",
       "0  [{'credit_id': '59ac067c92514107af02c8c8', 'de...  12314651  \n",
       "1  [{'credit_id': '52fe43fe9251416c7502563d', 'de...  95149435  \n",
       "2  [{'credit_id': '54d5356ec3a3683ba0000039', 'de...  13092000  \n",
       "3  [{'credit_id': '52fe48779251416c9108d6eb', 'de...  16000000  \n",
       "4  [{'credit_id': '52fe464b9251416c75073b43', 'de...   3923970  \n",
       "\n",
       "[5 rows x 23 columns]"
      ]
     },
     "execution_count": 2,
     "metadata": {},
     "output_type": "execute_result"
    }
   ],
   "source": [
    "train=pd.read_csv('train.csv')\n",
    "train.head()"
   ]
  },
  {
   "cell_type": "code",
   "execution_count": 3,
   "metadata": {},
   "outputs": [
    {
     "data": {
      "text/html": [
       "<div>\n",
       "<style scoped>\n",
       "    .dataframe tbody tr th:only-of-type {\n",
       "        vertical-align: middle;\n",
       "    }\n",
       "\n",
       "    .dataframe tbody tr th {\n",
       "        vertical-align: top;\n",
       "    }\n",
       "\n",
       "    .dataframe thead th {\n",
       "        text-align: right;\n",
       "    }\n",
       "</style>\n",
       "<table border=\"1\" class=\"dataframe\">\n",
       "  <thead>\n",
       "    <tr style=\"text-align: right;\">\n",
       "      <th></th>\n",
       "      <th>id</th>\n",
       "      <th>belongs_to_collection</th>\n",
       "      <th>budget</th>\n",
       "      <th>genres</th>\n",
       "      <th>homepage</th>\n",
       "      <th>imdb_id</th>\n",
       "      <th>original_language</th>\n",
       "      <th>original_title</th>\n",
       "      <th>overview</th>\n",
       "      <th>popularity</th>\n",
       "      <th>...</th>\n",
       "      <th>production_countries</th>\n",
       "      <th>release_date</th>\n",
       "      <th>runtime</th>\n",
       "      <th>spoken_languages</th>\n",
       "      <th>status</th>\n",
       "      <th>tagline</th>\n",
       "      <th>title</th>\n",
       "      <th>Keywords</th>\n",
       "      <th>cast</th>\n",
       "      <th>crew</th>\n",
       "    </tr>\n",
       "  </thead>\n",
       "  <tbody>\n",
       "    <tr>\n",
       "      <th>0</th>\n",
       "      <td>3001</td>\n",
       "      <td>[{'id': 34055, 'name': 'Pokémon Collection', '...</td>\n",
       "      <td>0</td>\n",
       "      <td>[{'id': 12, 'name': 'Adventure'}, {'id': 16, '...</td>\n",
       "      <td>http://www.pokemon.com/us/movies/movie-pokemon...</td>\n",
       "      <td>tt1226251</td>\n",
       "      <td>ja</td>\n",
       "      <td>ディアルガVSパルキアVSダークライ</td>\n",
       "      <td>Ash and friends (this time accompanied by newc...</td>\n",
       "      <td>3.851534</td>\n",
       "      <td>...</td>\n",
       "      <td>[{'iso_3166_1': 'JP', 'name': 'Japan'}, {'iso_...</td>\n",
       "      <td>7/14/07</td>\n",
       "      <td>90.0</td>\n",
       "      <td>[{'iso_639_1': 'en', 'name': 'English'}, {'iso...</td>\n",
       "      <td>Released</td>\n",
       "      <td>Somewhere Between Time &amp; Space... A Legend Is ...</td>\n",
       "      <td>Pokémon: The Rise of Darkrai</td>\n",
       "      <td>[{'id': 11451, 'name': 'pok√©mon'}, {'id': 115...</td>\n",
       "      <td>[{'cast_id': 3, 'character': 'Tonio', 'credit_...</td>\n",
       "      <td>[{'credit_id': '52fe44e7c3a368484e03d683', 'de...</td>\n",
       "    </tr>\n",
       "    <tr>\n",
       "      <th>1</th>\n",
       "      <td>3002</td>\n",
       "      <td>NaN</td>\n",
       "      <td>88000</td>\n",
       "      <td>[{'id': 27, 'name': 'Horror'}, {'id': 878, 'na...</td>\n",
       "      <td>NaN</td>\n",
       "      <td>tt0051380</td>\n",
       "      <td>en</td>\n",
       "      <td>Attack of the 50 Foot Woman</td>\n",
       "      <td>When an abused wife grows to giant size becaus...</td>\n",
       "      <td>3.559789</td>\n",
       "      <td>...</td>\n",
       "      <td>[{'iso_3166_1': 'US', 'name': 'United States o...</td>\n",
       "      <td>5/19/58</td>\n",
       "      <td>65.0</td>\n",
       "      <td>[{'iso_639_1': 'en', 'name': 'English'}]</td>\n",
       "      <td>Released</td>\n",
       "      <td>A titanic beauty spreads a macabre wave of hor...</td>\n",
       "      <td>Attack of the 50 Foot Woman</td>\n",
       "      <td>[{'id': 9748, 'name': 'revenge'}, {'id': 9951,...</td>\n",
       "      <td>[{'cast_id': 2, 'character': 'Nancy Fowler Arc...</td>\n",
       "      <td>[{'credit_id': '55807805c3a3685b1300060b', 'de...</td>\n",
       "    </tr>\n",
       "    <tr>\n",
       "      <th>2</th>\n",
       "      <td>3003</td>\n",
       "      <td>NaN</td>\n",
       "      <td>0</td>\n",
       "      <td>[{'id': 35, 'name': 'Comedy'}, {'id': 10749, '...</td>\n",
       "      <td>NaN</td>\n",
       "      <td>tt0118556</td>\n",
       "      <td>en</td>\n",
       "      <td>Addicted to Love</td>\n",
       "      <td>Good-natured astronomer Sam is devastated when...</td>\n",
       "      <td>8.085194</td>\n",
       "      <td>...</td>\n",
       "      <td>[{'iso_3166_1': 'US', 'name': 'United States o...</td>\n",
       "      <td>5/23/97</td>\n",
       "      <td>100.0</td>\n",
       "      <td>[{'iso_639_1': 'en', 'name': 'English'}]</td>\n",
       "      <td>Released</td>\n",
       "      <td>A Comedy About Lost Loves And Last Laughs</td>\n",
       "      <td>Addicted to Love</td>\n",
       "      <td>[{'id': 931, 'name': 'jealousy'}, {'id': 9673,...</td>\n",
       "      <td>[{'cast_id': 11, 'character': 'Maggie', 'credi...</td>\n",
       "      <td>[{'credit_id': '52fe4330c3a36847f8041367', 'de...</td>\n",
       "    </tr>\n",
       "    <tr>\n",
       "      <th>3</th>\n",
       "      <td>3004</td>\n",
       "      <td>NaN</td>\n",
       "      <td>6800000</td>\n",
       "      <td>[{'id': 18, 'name': 'Drama'}, {'id': 10752, 'n...</td>\n",
       "      <td>http://www.sonyclassics.com/incendies/</td>\n",
       "      <td>tt1255953</td>\n",
       "      <td>fr</td>\n",
       "      <td>Incendies</td>\n",
       "      <td>A mother's last wishes send twins Jeanne and S...</td>\n",
       "      <td>8.596012</td>\n",
       "      <td>...</td>\n",
       "      <td>[{'iso_3166_1': 'CA', 'name': 'Canada'}, {'iso...</td>\n",
       "      <td>9/4/10</td>\n",
       "      <td>130.0</td>\n",
       "      <td>[{'iso_639_1': 'fr', 'name': 'Français'}, {'is...</td>\n",
       "      <td>Released</td>\n",
       "      <td>The search began at the opening of their mothe...</td>\n",
       "      <td>Incendies</td>\n",
       "      <td>[{'id': 378, 'name': 'prison'}, {'id': 539, 'n...</td>\n",
       "      <td>[{'cast_id': 6, 'character': 'Nawal', 'credit_...</td>\n",
       "      <td>[{'credit_id': '56478092c3a36826140043af', 'de...</td>\n",
       "    </tr>\n",
       "    <tr>\n",
       "      <th>4</th>\n",
       "      <td>3005</td>\n",
       "      <td>NaN</td>\n",
       "      <td>2000000</td>\n",
       "      <td>[{'id': 36, 'name': 'History'}, {'id': 99, 'na...</td>\n",
       "      <td>NaN</td>\n",
       "      <td>tt0418753</td>\n",
       "      <td>en</td>\n",
       "      <td>Inside Deep Throat</td>\n",
       "      <td>In 1972, a seemingly typical shoestring budget...</td>\n",
       "      <td>3.217680</td>\n",
       "      <td>...</td>\n",
       "      <td>[{'iso_3166_1': 'US', 'name': 'United States o...</td>\n",
       "      <td>2/11/05</td>\n",
       "      <td>92.0</td>\n",
       "      <td>[{'iso_639_1': 'en', 'name': 'English'}]</td>\n",
       "      <td>Released</td>\n",
       "      <td>It was filmed in 6 days for 25 thousand dollar...</td>\n",
       "      <td>Inside Deep Throat</td>\n",
       "      <td>[{'id': 279, 'name': 'usa'}, {'id': 1228, 'nam...</td>\n",
       "      <td>[{'cast_id': 1, 'character': 'Narrator (voice)...</td>\n",
       "      <td>[{'credit_id': '52fe44ce9251416c75041967', 'de...</td>\n",
       "    </tr>\n",
       "  </tbody>\n",
       "</table>\n",
       "<p>5 rows × 22 columns</p>\n",
       "</div>"
      ],
      "text/plain": [
       "     id                              belongs_to_collection   budget  \\\n",
       "0  3001  [{'id': 34055, 'name': 'Pokémon Collection', '...        0   \n",
       "1  3002                                                NaN    88000   \n",
       "2  3003                                                NaN        0   \n",
       "3  3004                                                NaN  6800000   \n",
       "4  3005                                                NaN  2000000   \n",
       "\n",
       "                                              genres  \\\n",
       "0  [{'id': 12, 'name': 'Adventure'}, {'id': 16, '...   \n",
       "1  [{'id': 27, 'name': 'Horror'}, {'id': 878, 'na...   \n",
       "2  [{'id': 35, 'name': 'Comedy'}, {'id': 10749, '...   \n",
       "3  [{'id': 18, 'name': 'Drama'}, {'id': 10752, 'n...   \n",
       "4  [{'id': 36, 'name': 'History'}, {'id': 99, 'na...   \n",
       "\n",
       "                                            homepage    imdb_id  \\\n",
       "0  http://www.pokemon.com/us/movies/movie-pokemon...  tt1226251   \n",
       "1                                                NaN  tt0051380   \n",
       "2                                                NaN  tt0118556   \n",
       "3             http://www.sonyclassics.com/incendies/  tt1255953   \n",
       "4                                                NaN  tt0418753   \n",
       "\n",
       "  original_language               original_title  \\\n",
       "0                ja           ディアルガVSパルキアVSダークライ   \n",
       "1                en  Attack of the 50 Foot Woman   \n",
       "2                en             Addicted to Love   \n",
       "3                fr                    Incendies   \n",
       "4                en           Inside Deep Throat   \n",
       "\n",
       "                                            overview  popularity  ...  \\\n",
       "0  Ash and friends (this time accompanied by newc...    3.851534  ...   \n",
       "1  When an abused wife grows to giant size becaus...    3.559789  ...   \n",
       "2  Good-natured astronomer Sam is devastated when...    8.085194  ...   \n",
       "3  A mother's last wishes send twins Jeanne and S...    8.596012  ...   \n",
       "4  In 1972, a seemingly typical shoestring budget...    3.217680  ...   \n",
       "\n",
       "                                production_countries release_date runtime  \\\n",
       "0  [{'iso_3166_1': 'JP', 'name': 'Japan'}, {'iso_...      7/14/07    90.0   \n",
       "1  [{'iso_3166_1': 'US', 'name': 'United States o...      5/19/58    65.0   \n",
       "2  [{'iso_3166_1': 'US', 'name': 'United States o...      5/23/97   100.0   \n",
       "3  [{'iso_3166_1': 'CA', 'name': 'Canada'}, {'iso...       9/4/10   130.0   \n",
       "4  [{'iso_3166_1': 'US', 'name': 'United States o...      2/11/05    92.0   \n",
       "\n",
       "                                    spoken_languages    status  \\\n",
       "0  [{'iso_639_1': 'en', 'name': 'English'}, {'iso...  Released   \n",
       "1           [{'iso_639_1': 'en', 'name': 'English'}]  Released   \n",
       "2           [{'iso_639_1': 'en', 'name': 'English'}]  Released   \n",
       "3  [{'iso_639_1': 'fr', 'name': 'Français'}, {'is...  Released   \n",
       "4           [{'iso_639_1': 'en', 'name': 'English'}]  Released   \n",
       "\n",
       "                                             tagline  \\\n",
       "0  Somewhere Between Time & Space... A Legend Is ...   \n",
       "1  A titanic beauty spreads a macabre wave of hor...   \n",
       "2          A Comedy About Lost Loves And Last Laughs   \n",
       "3  The search began at the opening of their mothe...   \n",
       "4  It was filmed in 6 days for 25 thousand dollar...   \n",
       "\n",
       "                          title  \\\n",
       "0  Pokémon: The Rise of Darkrai   \n",
       "1   Attack of the 50 Foot Woman   \n",
       "2              Addicted to Love   \n",
       "3                     Incendies   \n",
       "4            Inside Deep Throat   \n",
       "\n",
       "                                            Keywords  \\\n",
       "0  [{'id': 11451, 'name': 'pok√©mon'}, {'id': 115...   \n",
       "1  [{'id': 9748, 'name': 'revenge'}, {'id': 9951,...   \n",
       "2  [{'id': 931, 'name': 'jealousy'}, {'id': 9673,...   \n",
       "3  [{'id': 378, 'name': 'prison'}, {'id': 539, 'n...   \n",
       "4  [{'id': 279, 'name': 'usa'}, {'id': 1228, 'nam...   \n",
       "\n",
       "                                                cast  \\\n",
       "0  [{'cast_id': 3, 'character': 'Tonio', 'credit_...   \n",
       "1  [{'cast_id': 2, 'character': 'Nancy Fowler Arc...   \n",
       "2  [{'cast_id': 11, 'character': 'Maggie', 'credi...   \n",
       "3  [{'cast_id': 6, 'character': 'Nawal', 'credit_...   \n",
       "4  [{'cast_id': 1, 'character': 'Narrator (voice)...   \n",
       "\n",
       "                                                crew  \n",
       "0  [{'credit_id': '52fe44e7c3a368484e03d683', 'de...  \n",
       "1  [{'credit_id': '55807805c3a3685b1300060b', 'de...  \n",
       "2  [{'credit_id': '52fe4330c3a36847f8041367', 'de...  \n",
       "3  [{'credit_id': '56478092c3a36826140043af', 'de...  \n",
       "4  [{'credit_id': '52fe44ce9251416c75041967', 'de...  \n",
       "\n",
       "[5 rows x 22 columns]"
      ]
     },
     "execution_count": 3,
     "metadata": {},
     "output_type": "execute_result"
    }
   ],
   "source": [
    "test=pd.read_csv('test.csv')\n",
    "test.head()"
   ]
  },
  {
   "cell_type": "code",
   "execution_count": 4,
   "metadata": {},
   "outputs": [
    {
     "name": "stdout",
     "output_type": "stream",
     "text": [
      "train.shape  (3000, 23)\n",
      "test.shape  (4398, 22)\n"
     ]
    }
   ],
   "source": [
    "print(\"train.shape \",train.shape)\n",
    "print(\"test.shape \",test.shape)"
   ]
  },
  {
   "cell_type": "code",
   "execution_count": 5,
   "metadata": {},
   "outputs": [
    {
     "data": {
      "text/plain": [
       "id                          0\n",
       "belongs_to_collection    2396\n",
       "budget                      0\n",
       "genres                      7\n",
       "homepage                 2054\n",
       "imdb_id                     0\n",
       "original_language           0\n",
       "original_title              0\n",
       "overview                    8\n",
       "popularity                  0\n",
       "poster_path                 1\n",
       "production_companies      156\n",
       "production_countries       55\n",
       "release_date                0\n",
       "runtime                     2\n",
       "spoken_languages           20\n",
       "status                      0\n",
       "tagline                   597\n",
       "title                       0\n",
       "Keywords                  276\n",
       "cast                       13\n",
       "crew                       16\n",
       "revenue                     0\n",
       "dtype: int64"
      ]
     },
     "execution_count": 5,
     "metadata": {},
     "output_type": "execute_result"
    }
   ],
   "source": [
    "train.isnull().sum()"
   ]
  },
  {
   "cell_type": "markdown",
   "metadata": {},
   "source": [
    "# Droping Unwanted Columns"
   ]
  },
  {
   "cell_type": "code",
   "execution_count": 6,
   "metadata": {},
   "outputs": [],
   "source": [
    "train.drop(['homepage','tagline','belongs_to_collection'],axis=1,inplace=True)"
   ]
  },
  {
   "cell_type": "code",
   "execution_count": 7,
   "metadata": {},
   "outputs": [],
   "source": [
    "test.drop(['homepage','tagline','belongs_to_collection'],axis=1,inplace=True)"
   ]
  },
  {
   "cell_type": "code",
   "execution_count": 8,
   "metadata": {},
   "outputs": [
    {
     "data": {
      "text/plain": [
       "(4398, 19)"
      ]
     },
     "execution_count": 8,
     "metadata": {},
     "output_type": "execute_result"
    }
   ],
   "source": [
    "train.shape\n",
    "test.shape"
   ]
  },
  {
   "cell_type": "markdown",
   "metadata": {},
   "source": [
    "# Encoding Original Languages"
   ]
  },
  {
   "cell_type": "code",
   "execution_count": 9,
   "metadata": {},
   "outputs": [
    {
     "data": {
      "text/plain": [
       "array(['en', 'hi', 'ko', 'sr', 'fr', 'it', 'nl', 'zh', 'es', 'cs', 'ta',\n",
       "       'cn', 'ru', 'tr', 'ja', 'fa', 'sv', 'de', 'te', 'pt', 'mr', 'da',\n",
       "       'fi', 'el', 'ur', 'he', 'no', 'ar', 'nb', 'ro', 'vi', 'pl', 'hu',\n",
       "       'ml', 'bn', 'id'], dtype=object)"
      ]
     },
     "execution_count": 9,
     "metadata": {},
     "output_type": "execute_result"
    }
   ],
   "source": [
    "train.original_language.unique()"
   ]
  },
  {
   "cell_type": "code",
   "execution_count": 10,
   "metadata": {},
   "outputs": [],
   "source": [
    "from sklearn.preprocessing import LabelEncoder"
   ]
  },
  {
   "cell_type": "code",
   "execution_count": 11,
   "metadata": {},
   "outputs": [],
   "source": [
    "enc = LabelEncoder()"
   ]
  },
  {
   "cell_type": "code",
   "execution_count": 12,
   "metadata": {},
   "outputs": [],
   "source": [
    "train['original_language'] = enc.fit_transform(train['original_language'])"
   ]
  },
  {
   "cell_type": "code",
   "execution_count": 13,
   "metadata": {},
   "outputs": [],
   "source": [
    "test['original_language'] = enc.fit_transform(test['original_language'])"
   ]
  },
  {
   "cell_type": "markdown",
   "metadata": {},
   "source": [
    "# Creating new features based on release date"
   ]
  },
  {
   "cell_type": "code",
   "execution_count": 14,
   "metadata": {},
   "outputs": [],
   "source": [
    "train['release_date'] = pd.to_datetime(train['release_date'])\n",
    "test['release_date'] = pd.to_datetime(test['release_date'])"
   ]
  },
  {
   "cell_type": "markdown",
   "metadata": {},
   "source": [
    "## Year"
   ]
  },
  {
   "cell_type": "code",
   "execution_count": 15,
   "metadata": {},
   "outputs": [],
   "source": [
    "train['release_year'] = pd.DatetimeIndex(train['release_date']).year\n",
    "test['release_year'] = pd.DatetimeIndex(test['release_date']).year"
   ]
  },
  {
   "cell_type": "code",
   "execution_count": null,
   "metadata": {},
   "outputs": [],
   "source": []
  },
  {
   "cell_type": "markdown",
   "metadata": {},
   "source": [
    "## Month"
   ]
  },
  {
   "cell_type": "code",
   "execution_count": 16,
   "metadata": {},
   "outputs": [],
   "source": [
    "train['release_month'] = pd.DatetimeIndex(train['release_date']).month\n",
    "test['release_month'] = pd.DatetimeIndex(test['release_date']).month"
   ]
  },
  {
   "cell_type": "markdown",
   "metadata": {},
   "source": [
    "## Day"
   ]
  },
  {
   "cell_type": "code",
   "execution_count": 17,
   "metadata": {},
   "outputs": [],
   "source": [
    "train['Day_of_Week'] = train['release_date'].dt.day_name()\n",
    "test['Day_of_Week'] = test['release_date'].dt.day_name()\n"
   ]
  },
  {
   "cell_type": "code",
   "execution_count": 18,
   "metadata": {},
   "outputs": [
    {
     "data": {
      "text/html": [
       "<div>\n",
       "<style scoped>\n",
       "    .dataframe tbody tr th:only-of-type {\n",
       "        vertical-align: middle;\n",
       "    }\n",
       "\n",
       "    .dataframe tbody tr th {\n",
       "        vertical-align: top;\n",
       "    }\n",
       "\n",
       "    .dataframe thead th {\n",
       "        text-align: right;\n",
       "    }\n",
       "</style>\n",
       "<table border=\"1\" class=\"dataframe\">\n",
       "  <thead>\n",
       "    <tr style=\"text-align: right;\">\n",
       "      <th></th>\n",
       "      <th>id</th>\n",
       "      <th>budget</th>\n",
       "      <th>genres</th>\n",
       "      <th>imdb_id</th>\n",
       "      <th>original_language</th>\n",
       "      <th>original_title</th>\n",
       "      <th>overview</th>\n",
       "      <th>popularity</th>\n",
       "      <th>poster_path</th>\n",
       "      <th>production_companies</th>\n",
       "      <th>...</th>\n",
       "      <th>spoken_languages</th>\n",
       "      <th>status</th>\n",
       "      <th>title</th>\n",
       "      <th>Keywords</th>\n",
       "      <th>cast</th>\n",
       "      <th>crew</th>\n",
       "      <th>revenue</th>\n",
       "      <th>release_year</th>\n",
       "      <th>release_month</th>\n",
       "      <th>Day_of_Week</th>\n",
       "    </tr>\n",
       "  </thead>\n",
       "  <tbody>\n",
       "    <tr>\n",
       "      <th>0</th>\n",
       "      <td>1</td>\n",
       "      <td>14000000</td>\n",
       "      <td>[{'id': 35, 'name': 'Comedy'}]</td>\n",
       "      <td>tt2637294</td>\n",
       "      <td>7</td>\n",
       "      <td>Hot Tub Time Machine 2</td>\n",
       "      <td>When Lou, who has become the \"father of the In...</td>\n",
       "      <td>6.575393</td>\n",
       "      <td>/tQtWuwvMf0hCc2QR2tkolwl7c3c.jpg</td>\n",
       "      <td>[{'name': 'Paramount Pictures', 'id': 4}, {'na...</td>\n",
       "      <td>...</td>\n",
       "      <td>[{'iso_639_1': 'en', 'name': 'English'}]</td>\n",
       "      <td>Released</td>\n",
       "      <td>Hot Tub Time Machine 2</td>\n",
       "      <td>[{'id': 4379, 'name': 'time travel'}, {'id': 9...</td>\n",
       "      <td>[{'cast_id': 4, 'character': 'Lou', 'credit_id...</td>\n",
       "      <td>[{'credit_id': '59ac067c92514107af02c8c8', 'de...</td>\n",
       "      <td>12314651</td>\n",
       "      <td>2015</td>\n",
       "      <td>2</td>\n",
       "      <td>Friday</td>\n",
       "    </tr>\n",
       "    <tr>\n",
       "      <th>1</th>\n",
       "      <td>2</td>\n",
       "      <td>40000000</td>\n",
       "      <td>[{'id': 35, 'name': 'Comedy'}, {'id': 18, 'nam...</td>\n",
       "      <td>tt0368933</td>\n",
       "      <td>7</td>\n",
       "      <td>The Princess Diaries 2: Royal Engagement</td>\n",
       "      <td>Mia Thermopolis is now a college graduate and ...</td>\n",
       "      <td>8.248895</td>\n",
       "      <td>/w9Z7A0GHEhIp7etpj0vyKOeU1Wx.jpg</td>\n",
       "      <td>[{'name': 'Walt Disney Pictures', 'id': 2}]</td>\n",
       "      <td>...</td>\n",
       "      <td>[{'iso_639_1': 'en', 'name': 'English'}]</td>\n",
       "      <td>Released</td>\n",
       "      <td>The Princess Diaries 2: Royal Engagement</td>\n",
       "      <td>[{'id': 2505, 'name': 'coronation'}, {'id': 42...</td>\n",
       "      <td>[{'cast_id': 1, 'character': 'Mia Thermopolis'...</td>\n",
       "      <td>[{'credit_id': '52fe43fe9251416c7502563d', 'de...</td>\n",
       "      <td>95149435</td>\n",
       "      <td>2004</td>\n",
       "      <td>8</td>\n",
       "      <td>Friday</td>\n",
       "    </tr>\n",
       "    <tr>\n",
       "      <th>2</th>\n",
       "      <td>3</td>\n",
       "      <td>3300000</td>\n",
       "      <td>[{'id': 18, 'name': 'Drama'}]</td>\n",
       "      <td>tt2582802</td>\n",
       "      <td>7</td>\n",
       "      <td>Whiplash</td>\n",
       "      <td>Under the direction of a ruthless instructor, ...</td>\n",
       "      <td>64.299990</td>\n",
       "      <td>/lIv1QinFqz4dlp5U4lQ6HaiskOZ.jpg</td>\n",
       "      <td>[{'name': 'Bold Films', 'id': 2266}, {'name': ...</td>\n",
       "      <td>...</td>\n",
       "      <td>[{'iso_639_1': 'en', 'name': 'English'}]</td>\n",
       "      <td>Released</td>\n",
       "      <td>Whiplash</td>\n",
       "      <td>[{'id': 1416, 'name': 'jazz'}, {'id': 1523, 'n...</td>\n",
       "      <td>[{'cast_id': 5, 'character': 'Andrew Neimann',...</td>\n",
       "      <td>[{'credit_id': '54d5356ec3a3683ba0000039', 'de...</td>\n",
       "      <td>13092000</td>\n",
       "      <td>2014</td>\n",
       "      <td>10</td>\n",
       "      <td>Friday</td>\n",
       "    </tr>\n",
       "    <tr>\n",
       "      <th>3</th>\n",
       "      <td>4</td>\n",
       "      <td>1200000</td>\n",
       "      <td>[{'id': 53, 'name': 'Thriller'}, {'id': 18, 'n...</td>\n",
       "      <td>tt1821480</td>\n",
       "      <td>13</td>\n",
       "      <td>Kahaani</td>\n",
       "      <td>Vidya Bagchi (Vidya Balan) arrives in Kolkata ...</td>\n",
       "      <td>3.174936</td>\n",
       "      <td>/aTXRaPrWSinhcmCrcfJK17urp3F.jpg</td>\n",
       "      <td>NaN</td>\n",
       "      <td>...</td>\n",
       "      <td>[{'iso_639_1': 'en', 'name': 'English'}, {'iso...</td>\n",
       "      <td>Released</td>\n",
       "      <td>Kahaani</td>\n",
       "      <td>[{'id': 10092, 'name': 'mystery'}, {'id': 1054...</td>\n",
       "      <td>[{'cast_id': 1, 'character': 'Vidya Bagchi', '...</td>\n",
       "      <td>[{'credit_id': '52fe48779251416c9108d6eb', 'de...</td>\n",
       "      <td>16000000</td>\n",
       "      <td>2012</td>\n",
       "      <td>3</td>\n",
       "      <td>Friday</td>\n",
       "    </tr>\n",
       "    <tr>\n",
       "      <th>4</th>\n",
       "      <td>5</td>\n",
       "      <td>0</td>\n",
       "      <td>[{'id': 28, 'name': 'Action'}, {'id': 53, 'nam...</td>\n",
       "      <td>tt1380152</td>\n",
       "      <td>18</td>\n",
       "      <td>마린보이</td>\n",
       "      <td>Marine Boy is the story of a former national s...</td>\n",
       "      <td>1.148070</td>\n",
       "      <td>/m22s7zvkVFDU9ir56PiiqIEWFdT.jpg</td>\n",
       "      <td>NaN</td>\n",
       "      <td>...</td>\n",
       "      <td>[{'iso_639_1': 'ko', 'name': '한국어/조선말'}]</td>\n",
       "      <td>Released</td>\n",
       "      <td>Marine Boy</td>\n",
       "      <td>NaN</td>\n",
       "      <td>[{'cast_id': 3, 'character': 'Chun-soo', 'cred...</td>\n",
       "      <td>[{'credit_id': '52fe464b9251416c75073b43', 'de...</td>\n",
       "      <td>3923970</td>\n",
       "      <td>2009</td>\n",
       "      <td>2</td>\n",
       "      <td>Thursday</td>\n",
       "    </tr>\n",
       "    <tr>\n",
       "      <th>...</th>\n",
       "      <td>...</td>\n",
       "      <td>...</td>\n",
       "      <td>...</td>\n",
       "      <td>...</td>\n",
       "      <td>...</td>\n",
       "      <td>...</td>\n",
       "      <td>...</td>\n",
       "      <td>...</td>\n",
       "      <td>...</td>\n",
       "      <td>...</td>\n",
       "      <td>...</td>\n",
       "      <td>...</td>\n",
       "      <td>...</td>\n",
       "      <td>...</td>\n",
       "      <td>...</td>\n",
       "      <td>...</td>\n",
       "      <td>...</td>\n",
       "      <td>...</td>\n",
       "      <td>...</td>\n",
       "      <td>...</td>\n",
       "      <td>...</td>\n",
       "    </tr>\n",
       "    <tr>\n",
       "      <th>2995</th>\n",
       "      <td>2996</td>\n",
       "      <td>0</td>\n",
       "      <td>[{'id': 35, 'name': 'Comedy'}, {'id': 10749, '...</td>\n",
       "      <td>tt0109403</td>\n",
       "      <td>7</td>\n",
       "      <td>Chasers</td>\n",
       "      <td>Military men Rock Reilly and Eddie Devane are ...</td>\n",
       "      <td>9.853270</td>\n",
       "      <td>/j8Q7pQ27hvH54wpxJzIuQgQCdro.jpg</td>\n",
       "      <td>[{'name': 'Warner Bros.', 'id': 6194}, {'name'...</td>\n",
       "      <td>...</td>\n",
       "      <td>[{'iso_639_1': 'en', 'name': 'English'}]</td>\n",
       "      <td>Released</td>\n",
       "      <td>Chasers</td>\n",
       "      <td>[{'id': 378, 'name': 'prison'}, {'id': 572, 'n...</td>\n",
       "      <td>[{'cast_id': 2, 'character': 'Rock Reilly', 'c...</td>\n",
       "      <td>[{'credit_id': '52fe4494c3a368484e02ac7d', 'de...</td>\n",
       "      <td>1596687</td>\n",
       "      <td>1994</td>\n",
       "      <td>4</td>\n",
       "      <td>Friday</td>\n",
       "    </tr>\n",
       "    <tr>\n",
       "      <th>2996</th>\n",
       "      <td>2997</td>\n",
       "      <td>0</td>\n",
       "      <td>[{'id': 18, 'name': 'Drama'}, {'id': 10402, 'n...</td>\n",
       "      <td>tt2364975</td>\n",
       "      <td>29</td>\n",
       "      <td>Vi är bäst!</td>\n",
       "      <td>Three girls in 1980s Stockholm decide to form ...</td>\n",
       "      <td>3.727996</td>\n",
       "      <td>/sS01LSy6KDrCZAhtkO18UdnWFT1.jpg</td>\n",
       "      <td>[{'name': 'Memfis Film', 'id': 321}, {'name': ...</td>\n",
       "      <td>...</td>\n",
       "      <td>[{'iso_639_1': 'sv', 'name': 'svenska'}]</td>\n",
       "      <td>Released</td>\n",
       "      <td>We Are the Best!</td>\n",
       "      <td>[{'id': 1192, 'name': 'sweden'}, {'id': 4470, ...</td>\n",
       "      <td>[{'cast_id': 5, 'character': 'Bobo', 'credit_i...</td>\n",
       "      <td>[{'credit_id': '5716b72ac3a3686678012c84', 'de...</td>\n",
       "      <td>180590</td>\n",
       "      <td>2013</td>\n",
       "      <td>3</td>\n",
       "      <td>Thursday</td>\n",
       "    </tr>\n",
       "    <tr>\n",
       "      <th>2997</th>\n",
       "      <td>2998</td>\n",
       "      <td>65000000</td>\n",
       "      <td>[{'id': 80, 'name': 'Crime'}, {'id': 28, 'name...</td>\n",
       "      <td>tt0116908</td>\n",
       "      <td>7</td>\n",
       "      <td>The Long Kiss Goodnight</td>\n",
       "      <td>Samantha Caine, suburban homemaker, is the ide...</td>\n",
       "      <td>14.482345</td>\n",
       "      <td>/4MENR8x6mYqnZvp2hGjSaPJz64J.jpg</td>\n",
       "      <td>[{'name': 'New Line Cinema', 'id': 12}, {'name...</td>\n",
       "      <td>...</td>\n",
       "      <td>[{'iso_639_1': 'en', 'name': 'English'}]</td>\n",
       "      <td>Released</td>\n",
       "      <td>The Long Kiss Goodnight</td>\n",
       "      <td>[{'id': 441, 'name': 'assassination'}, {'id': ...</td>\n",
       "      <td>[{'cast_id': 10, 'character': 'Samantha Caine ...</td>\n",
       "      <td>[{'credit_id': '52fe443a9251416c7502d579', 'de...</td>\n",
       "      <td>89456761</td>\n",
       "      <td>1996</td>\n",
       "      <td>10</td>\n",
       "      <td>Friday</td>\n",
       "    </tr>\n",
       "    <tr>\n",
       "      <th>2998</th>\n",
       "      <td>2999</td>\n",
       "      <td>42000000</td>\n",
       "      <td>[{'id': 35, 'name': 'Comedy'}, {'id': 10749, '...</td>\n",
       "      <td>tt0343135</td>\n",
       "      <td>7</td>\n",
       "      <td>Along Came Polly</td>\n",
       "      <td>Reuben Feffer is a guy who's spent his entire ...</td>\n",
       "      <td>15.725542</td>\n",
       "      <td>/nIY4kvJTTnxoBR0wycrXng5MOYs.jpg</td>\n",
       "      <td>[{'name': 'Jersey Films', 'id': 216}, {'name':...</td>\n",
       "      <td>...</td>\n",
       "      <td>[{'iso_639_1': 'en', 'name': 'English'}]</td>\n",
       "      <td>Released</td>\n",
       "      <td>Along Came Polly</td>\n",
       "      <td>[{'id': 966, 'name': 'beach'}, {'id': 2676, 'n...</td>\n",
       "      <td>[{'cast_id': 8, 'character': 'Reuben Feffer', ...</td>\n",
       "      <td>[{'credit_id': '556f817b9251410866000a63', 'de...</td>\n",
       "      <td>171963386</td>\n",
       "      <td>2004</td>\n",
       "      <td>1</td>\n",
       "      <td>Friday</td>\n",
       "    </tr>\n",
       "    <tr>\n",
       "      <th>2999</th>\n",
       "      <td>3000</td>\n",
       "      <td>35000000</td>\n",
       "      <td>[{'id': 53, 'name': 'Thriller'}, {'id': 28, 'n...</td>\n",
       "      <td>tt1600195</td>\n",
       "      <td>7</td>\n",
       "      <td>Abduction</td>\n",
       "      <td>A young man sets out to uncover the truth abou...</td>\n",
       "      <td>10.512109</td>\n",
       "      <td>/cUT6NQP5LAJpmUoStGtXmvNt4zA.jpg</td>\n",
       "      <td>[{'name': 'Lions Gate Films', 'id': 35}, {'nam...</td>\n",
       "      <td>...</td>\n",
       "      <td>[{'iso_639_1': 'en', 'name': 'English'}]</td>\n",
       "      <td>Released</td>\n",
       "      <td>Abduction</td>\n",
       "      <td>[{'id': 591, 'name': 'cia'}, {'id': 822, 'name...</td>\n",
       "      <td>[{'cast_id': 2, 'character': 'Nathan Harper', ...</td>\n",
       "      <td>[{'credit_id': '5391990d0e0a260fb5001629', 'de...</td>\n",
       "      <td>82087155</td>\n",
       "      <td>2011</td>\n",
       "      <td>9</td>\n",
       "      <td>Thursday</td>\n",
       "    </tr>\n",
       "  </tbody>\n",
       "</table>\n",
       "<p>3000 rows × 23 columns</p>\n",
       "</div>"
      ],
      "text/plain": [
       "        id    budget                                             genres  \\\n",
       "0        1  14000000                     [{'id': 35, 'name': 'Comedy'}]   \n",
       "1        2  40000000  [{'id': 35, 'name': 'Comedy'}, {'id': 18, 'nam...   \n",
       "2        3   3300000                      [{'id': 18, 'name': 'Drama'}]   \n",
       "3        4   1200000  [{'id': 53, 'name': 'Thriller'}, {'id': 18, 'n...   \n",
       "4        5         0  [{'id': 28, 'name': 'Action'}, {'id': 53, 'nam...   \n",
       "...    ...       ...                                                ...   \n",
       "2995  2996         0  [{'id': 35, 'name': 'Comedy'}, {'id': 10749, '...   \n",
       "2996  2997         0  [{'id': 18, 'name': 'Drama'}, {'id': 10402, 'n...   \n",
       "2997  2998  65000000  [{'id': 80, 'name': 'Crime'}, {'id': 28, 'name...   \n",
       "2998  2999  42000000  [{'id': 35, 'name': 'Comedy'}, {'id': 10749, '...   \n",
       "2999  3000  35000000  [{'id': 53, 'name': 'Thriller'}, {'id': 28, 'n...   \n",
       "\n",
       "        imdb_id  original_language                            original_title  \\\n",
       "0     tt2637294                  7                    Hot Tub Time Machine 2   \n",
       "1     tt0368933                  7  The Princess Diaries 2: Royal Engagement   \n",
       "2     tt2582802                  7                                  Whiplash   \n",
       "3     tt1821480                 13                                   Kahaani   \n",
       "4     tt1380152                 18                                      마린보이   \n",
       "...         ...                ...                                       ...   \n",
       "2995  tt0109403                  7                                   Chasers   \n",
       "2996  tt2364975                 29                               Vi är bäst!   \n",
       "2997  tt0116908                  7                   The Long Kiss Goodnight   \n",
       "2998  tt0343135                  7                          Along Came Polly   \n",
       "2999  tt1600195                  7                                 Abduction   \n",
       "\n",
       "                                               overview  popularity  \\\n",
       "0     When Lou, who has become the \"father of the In...    6.575393   \n",
       "1     Mia Thermopolis is now a college graduate and ...    8.248895   \n",
       "2     Under the direction of a ruthless instructor, ...   64.299990   \n",
       "3     Vidya Bagchi (Vidya Balan) arrives in Kolkata ...    3.174936   \n",
       "4     Marine Boy is the story of a former national s...    1.148070   \n",
       "...                                                 ...         ...   \n",
       "2995  Military men Rock Reilly and Eddie Devane are ...    9.853270   \n",
       "2996  Three girls in 1980s Stockholm decide to form ...    3.727996   \n",
       "2997  Samantha Caine, suburban homemaker, is the ide...   14.482345   \n",
       "2998  Reuben Feffer is a guy who's spent his entire ...   15.725542   \n",
       "2999  A young man sets out to uncover the truth abou...   10.512109   \n",
       "\n",
       "                           poster_path  \\\n",
       "0     /tQtWuwvMf0hCc2QR2tkolwl7c3c.jpg   \n",
       "1     /w9Z7A0GHEhIp7etpj0vyKOeU1Wx.jpg   \n",
       "2     /lIv1QinFqz4dlp5U4lQ6HaiskOZ.jpg   \n",
       "3     /aTXRaPrWSinhcmCrcfJK17urp3F.jpg   \n",
       "4     /m22s7zvkVFDU9ir56PiiqIEWFdT.jpg   \n",
       "...                                ...   \n",
       "2995  /j8Q7pQ27hvH54wpxJzIuQgQCdro.jpg   \n",
       "2996  /sS01LSy6KDrCZAhtkO18UdnWFT1.jpg   \n",
       "2997  /4MENR8x6mYqnZvp2hGjSaPJz64J.jpg   \n",
       "2998  /nIY4kvJTTnxoBR0wycrXng5MOYs.jpg   \n",
       "2999  /cUT6NQP5LAJpmUoStGtXmvNt4zA.jpg   \n",
       "\n",
       "                                   production_companies  ...  \\\n",
       "0     [{'name': 'Paramount Pictures', 'id': 4}, {'na...  ...   \n",
       "1           [{'name': 'Walt Disney Pictures', 'id': 2}]  ...   \n",
       "2     [{'name': 'Bold Films', 'id': 2266}, {'name': ...  ...   \n",
       "3                                                   NaN  ...   \n",
       "4                                                   NaN  ...   \n",
       "...                                                 ...  ...   \n",
       "2995  [{'name': 'Warner Bros.', 'id': 6194}, {'name'...  ...   \n",
       "2996  [{'name': 'Memfis Film', 'id': 321}, {'name': ...  ...   \n",
       "2997  [{'name': 'New Line Cinema', 'id': 12}, {'name...  ...   \n",
       "2998  [{'name': 'Jersey Films', 'id': 216}, {'name':...  ...   \n",
       "2999  [{'name': 'Lions Gate Films', 'id': 35}, {'nam...  ...   \n",
       "\n",
       "                                       spoken_languages    status  \\\n",
       "0              [{'iso_639_1': 'en', 'name': 'English'}]  Released   \n",
       "1              [{'iso_639_1': 'en', 'name': 'English'}]  Released   \n",
       "2              [{'iso_639_1': 'en', 'name': 'English'}]  Released   \n",
       "3     [{'iso_639_1': 'en', 'name': 'English'}, {'iso...  Released   \n",
       "4              [{'iso_639_1': 'ko', 'name': '한국어/조선말'}]  Released   \n",
       "...                                                 ...       ...   \n",
       "2995           [{'iso_639_1': 'en', 'name': 'English'}]  Released   \n",
       "2996           [{'iso_639_1': 'sv', 'name': 'svenska'}]  Released   \n",
       "2997           [{'iso_639_1': 'en', 'name': 'English'}]  Released   \n",
       "2998           [{'iso_639_1': 'en', 'name': 'English'}]  Released   \n",
       "2999           [{'iso_639_1': 'en', 'name': 'English'}]  Released   \n",
       "\n",
       "                                         title  \\\n",
       "0                       Hot Tub Time Machine 2   \n",
       "1     The Princess Diaries 2: Royal Engagement   \n",
       "2                                     Whiplash   \n",
       "3                                      Kahaani   \n",
       "4                                   Marine Boy   \n",
       "...                                        ...   \n",
       "2995                                   Chasers   \n",
       "2996                          We Are the Best!   \n",
       "2997                   The Long Kiss Goodnight   \n",
       "2998                          Along Came Polly   \n",
       "2999                                 Abduction   \n",
       "\n",
       "                                               Keywords  \\\n",
       "0     [{'id': 4379, 'name': 'time travel'}, {'id': 9...   \n",
       "1     [{'id': 2505, 'name': 'coronation'}, {'id': 42...   \n",
       "2     [{'id': 1416, 'name': 'jazz'}, {'id': 1523, 'n...   \n",
       "3     [{'id': 10092, 'name': 'mystery'}, {'id': 1054...   \n",
       "4                                                   NaN   \n",
       "...                                                 ...   \n",
       "2995  [{'id': 378, 'name': 'prison'}, {'id': 572, 'n...   \n",
       "2996  [{'id': 1192, 'name': 'sweden'}, {'id': 4470, ...   \n",
       "2997  [{'id': 441, 'name': 'assassination'}, {'id': ...   \n",
       "2998  [{'id': 966, 'name': 'beach'}, {'id': 2676, 'n...   \n",
       "2999  [{'id': 591, 'name': 'cia'}, {'id': 822, 'name...   \n",
       "\n",
       "                                                   cast  \\\n",
       "0     [{'cast_id': 4, 'character': 'Lou', 'credit_id...   \n",
       "1     [{'cast_id': 1, 'character': 'Mia Thermopolis'...   \n",
       "2     [{'cast_id': 5, 'character': 'Andrew Neimann',...   \n",
       "3     [{'cast_id': 1, 'character': 'Vidya Bagchi', '...   \n",
       "4     [{'cast_id': 3, 'character': 'Chun-soo', 'cred...   \n",
       "...                                                 ...   \n",
       "2995  [{'cast_id': 2, 'character': 'Rock Reilly', 'c...   \n",
       "2996  [{'cast_id': 5, 'character': 'Bobo', 'credit_i...   \n",
       "2997  [{'cast_id': 10, 'character': 'Samantha Caine ...   \n",
       "2998  [{'cast_id': 8, 'character': 'Reuben Feffer', ...   \n",
       "2999  [{'cast_id': 2, 'character': 'Nathan Harper', ...   \n",
       "\n",
       "                                                   crew    revenue  \\\n",
       "0     [{'credit_id': '59ac067c92514107af02c8c8', 'de...   12314651   \n",
       "1     [{'credit_id': '52fe43fe9251416c7502563d', 'de...   95149435   \n",
       "2     [{'credit_id': '54d5356ec3a3683ba0000039', 'de...   13092000   \n",
       "3     [{'credit_id': '52fe48779251416c9108d6eb', 'de...   16000000   \n",
       "4     [{'credit_id': '52fe464b9251416c75073b43', 'de...    3923970   \n",
       "...                                                 ...        ...   \n",
       "2995  [{'credit_id': '52fe4494c3a368484e02ac7d', 'de...    1596687   \n",
       "2996  [{'credit_id': '5716b72ac3a3686678012c84', 'de...     180590   \n",
       "2997  [{'credit_id': '52fe443a9251416c7502d579', 'de...   89456761   \n",
       "2998  [{'credit_id': '556f817b9251410866000a63', 'de...  171963386   \n",
       "2999  [{'credit_id': '5391990d0e0a260fb5001629', 'de...   82087155   \n",
       "\n",
       "     release_year release_month  Day_of_Week  \n",
       "0            2015             2       Friday  \n",
       "1            2004             8       Friday  \n",
       "2            2014            10       Friday  \n",
       "3            2012             3       Friday  \n",
       "4            2009             2     Thursday  \n",
       "...           ...           ...          ...  \n",
       "2995         1994             4       Friday  \n",
       "2996         2013             3     Thursday  \n",
       "2997         1996            10       Friday  \n",
       "2998         2004             1       Friday  \n",
       "2999         2011             9     Thursday  \n",
       "\n",
       "[3000 rows x 23 columns]"
      ]
     },
     "execution_count": 18,
     "metadata": {},
     "output_type": "execute_result"
    }
   ],
   "source": [
    "train"
   ]
  },
  {
   "cell_type": "markdown",
   "metadata": {},
   "source": [
    "# Encoding  Day_of_week"
   ]
  },
  {
   "cell_type": "code",
   "execution_count": 19,
   "metadata": {},
   "outputs": [],
   "source": [
    "train['Day_of_Week'] = enc.fit_transform(train['Day_of_Week'])\n",
    "test['Day_of_Week'] = enc.fit_transform(test['Day_of_Week'])"
   ]
  },
  {
   "cell_type": "code",
   "execution_count": null,
   "metadata": {},
   "outputs": [],
   "source": []
  },
  {
   "cell_type": "code",
   "execution_count": 20,
   "metadata": {},
   "outputs": [],
   "source": [
    "def get_dict(s):\n",
    "    try:\n",
    "        d = eval(s)\n",
    "    except:\n",
    "        d = {}\n",
    "    return d"
   ]
  },
  {
   "cell_type": "code",
   "execution_count": 21,
   "metadata": {},
   "outputs": [],
   "source": [
    " gn= pd.DataFrame(columns=['language'])"
   ]
  },
  {
   "cell_type": "code",
   "execution_count": 22,
   "metadata": {},
   "outputs": [],
   "source": [
    "train = pd.concat([train, gn], axis=1)"
   ]
  },
  {
   "cell_type": "code",
   "execution_count": 23,
   "metadata": {},
   "outputs": [
    {
     "ename": "TypeError",
     "evalue": "object of type 'float' has no len()",
     "output_type": "error",
     "traceback": [
      "\u001b[1;31m---------------------------------------------------------------------------\u001b[0m",
      "\u001b[1;31mTypeError\u001b[0m                                 Traceback (most recent call last)",
      "\u001b[1;32m<ipython-input-23-aaaa3b764291>\u001b[0m in \u001b[0;36m<module>\u001b[1;34m\u001b[0m\n\u001b[1;32m----> 1\u001b[1;33m \u001b[0mtrain\u001b[0m\u001b[1;33m[\u001b[0m\u001b[1;34m'num_of_langs'\u001b[0m\u001b[1;33m]\u001b[0m \u001b[1;33m=\u001b[0m \u001b[0mtrain\u001b[0m\u001b[1;33m[\u001b[0m\u001b[1;34m'spoken_languages'\u001b[0m\u001b[1;33m]\u001b[0m\u001b[1;33m.\u001b[0m\u001b[0mapply\u001b[0m\u001b[1;33m(\u001b[0m\u001b[1;32mlambda\u001b[0m \u001b[0mx\u001b[0m\u001b[1;33m:\u001b[0m \u001b[0mlen\u001b[0m\u001b[1;33m(\u001b[0m\u001b[0mx\u001b[0m\u001b[1;33m)\u001b[0m \u001b[1;32mif\u001b[0m \u001b[0mx\u001b[0m\u001b[1;33m!=\u001b[0m \u001b[1;33m{\u001b[0m\u001b[1;33m}\u001b[0m \u001b[1;32melse\u001b[0m \u001b[1;36m0\u001b[0m\u001b[1;33m)\u001b[0m\u001b[1;33m\u001b[0m\u001b[1;33m\u001b[0m\u001b[0m\n\u001b[0m",
      "\u001b[1;32mE:\\conda\\lib\\site-packages\\pandas\\core\\series.py\u001b[0m in \u001b[0;36mapply\u001b[1;34m(self, func, convert_dtype, args, **kwds)\u001b[0m\n\u001b[0;32m   3846\u001b[0m             \u001b[1;32melse\u001b[0m\u001b[1;33m:\u001b[0m\u001b[1;33m\u001b[0m\u001b[1;33m\u001b[0m\u001b[0m\n\u001b[0;32m   3847\u001b[0m                 \u001b[0mvalues\u001b[0m \u001b[1;33m=\u001b[0m \u001b[0mself\u001b[0m\u001b[1;33m.\u001b[0m\u001b[0mastype\u001b[0m\u001b[1;33m(\u001b[0m\u001b[0mobject\u001b[0m\u001b[1;33m)\u001b[0m\u001b[1;33m.\u001b[0m\u001b[0mvalues\u001b[0m\u001b[1;33m\u001b[0m\u001b[1;33m\u001b[0m\u001b[0m\n\u001b[1;32m-> 3848\u001b[1;33m                 \u001b[0mmapped\u001b[0m \u001b[1;33m=\u001b[0m \u001b[0mlib\u001b[0m\u001b[1;33m.\u001b[0m\u001b[0mmap_infer\u001b[0m\u001b[1;33m(\u001b[0m\u001b[0mvalues\u001b[0m\u001b[1;33m,\u001b[0m \u001b[0mf\u001b[0m\u001b[1;33m,\u001b[0m \u001b[0mconvert\u001b[0m\u001b[1;33m=\u001b[0m\u001b[0mconvert_dtype\u001b[0m\u001b[1;33m)\u001b[0m\u001b[1;33m\u001b[0m\u001b[1;33m\u001b[0m\u001b[0m\n\u001b[0m\u001b[0;32m   3849\u001b[0m \u001b[1;33m\u001b[0m\u001b[0m\n\u001b[0;32m   3850\u001b[0m         \u001b[1;32mif\u001b[0m \u001b[0mlen\u001b[0m\u001b[1;33m(\u001b[0m\u001b[0mmapped\u001b[0m\u001b[1;33m)\u001b[0m \u001b[1;32mand\u001b[0m \u001b[0misinstance\u001b[0m\u001b[1;33m(\u001b[0m\u001b[0mmapped\u001b[0m\u001b[1;33m[\u001b[0m\u001b[1;36m0\u001b[0m\u001b[1;33m]\u001b[0m\u001b[1;33m,\u001b[0m \u001b[0mSeries\u001b[0m\u001b[1;33m)\u001b[0m\u001b[1;33m:\u001b[0m\u001b[1;33m\u001b[0m\u001b[1;33m\u001b[0m\u001b[0m\n",
      "\u001b[1;32mpandas\\_libs\\lib.pyx\u001b[0m in \u001b[0;36mpandas._libs.lib.map_infer\u001b[1;34m()\u001b[0m\n",
      "\u001b[1;32m<ipython-input-23-aaaa3b764291>\u001b[0m in \u001b[0;36m<lambda>\u001b[1;34m(x)\u001b[0m\n\u001b[1;32m----> 1\u001b[1;33m \u001b[0mtrain\u001b[0m\u001b[1;33m[\u001b[0m\u001b[1;34m'num_of_langs'\u001b[0m\u001b[1;33m]\u001b[0m \u001b[1;33m=\u001b[0m \u001b[0mtrain\u001b[0m\u001b[1;33m[\u001b[0m\u001b[1;34m'spoken_languages'\u001b[0m\u001b[1;33m]\u001b[0m\u001b[1;33m.\u001b[0m\u001b[0mapply\u001b[0m\u001b[1;33m(\u001b[0m\u001b[1;32mlambda\u001b[0m \u001b[0mx\u001b[0m\u001b[1;33m:\u001b[0m \u001b[0mlen\u001b[0m\u001b[1;33m(\u001b[0m\u001b[0mx\u001b[0m\u001b[1;33m)\u001b[0m \u001b[1;32mif\u001b[0m \u001b[0mx\u001b[0m\u001b[1;33m!=\u001b[0m \u001b[1;33m{\u001b[0m\u001b[1;33m}\u001b[0m \u001b[1;32melse\u001b[0m \u001b[1;36m0\u001b[0m\u001b[1;33m)\u001b[0m\u001b[1;33m\u001b[0m\u001b[1;33m\u001b[0m\u001b[0m\n\u001b[0m",
      "\u001b[1;31mTypeError\u001b[0m: object of type 'float' has no len()"
     ]
    }
   ],
   "source": [
    "train['num_of_langs'] = train['spoken_languages'].apply(lambda x: len(x) if x!= {} else 0)"
   ]
  },
  {
   "cell_type": "code",
   "execution_count": 24,
   "metadata": {},
   "outputs": [
    {
     "ename": "TypeError",
     "evalue": "string indices must be integers",
     "output_type": "error",
     "traceback": [
      "\u001b[1;31m---------------------------------------------------------------------------\u001b[0m",
      "\u001b[1;31mTypeError\u001b[0m                                 Traceback (most recent call last)",
      "\u001b[1;32m<ipython-input-24-a4d7ec8c41c7>\u001b[0m in \u001b[0;36m<module>\u001b[1;34m\u001b[0m\n\u001b[1;32m----> 1\u001b[1;33m train['all_langs'] = train['spoken_languages'].apply(lambda x: ' '.join(sorted([i['name']for i in x]))\n\u001b[0m\u001b[0;32m      2\u001b[0m                                                     if x!= {} else '')\n",
      "\u001b[1;32mE:\\conda\\lib\\site-packages\\pandas\\core\\series.py\u001b[0m in \u001b[0;36mapply\u001b[1;34m(self, func, convert_dtype, args, **kwds)\u001b[0m\n\u001b[0;32m   3846\u001b[0m             \u001b[1;32melse\u001b[0m\u001b[1;33m:\u001b[0m\u001b[1;33m\u001b[0m\u001b[1;33m\u001b[0m\u001b[0m\n\u001b[0;32m   3847\u001b[0m                 \u001b[0mvalues\u001b[0m \u001b[1;33m=\u001b[0m \u001b[0mself\u001b[0m\u001b[1;33m.\u001b[0m\u001b[0mastype\u001b[0m\u001b[1;33m(\u001b[0m\u001b[0mobject\u001b[0m\u001b[1;33m)\u001b[0m\u001b[1;33m.\u001b[0m\u001b[0mvalues\u001b[0m\u001b[1;33m\u001b[0m\u001b[1;33m\u001b[0m\u001b[0m\n\u001b[1;32m-> 3848\u001b[1;33m                 \u001b[0mmapped\u001b[0m \u001b[1;33m=\u001b[0m \u001b[0mlib\u001b[0m\u001b[1;33m.\u001b[0m\u001b[0mmap_infer\u001b[0m\u001b[1;33m(\u001b[0m\u001b[0mvalues\u001b[0m\u001b[1;33m,\u001b[0m \u001b[0mf\u001b[0m\u001b[1;33m,\u001b[0m \u001b[0mconvert\u001b[0m\u001b[1;33m=\u001b[0m\u001b[0mconvert_dtype\u001b[0m\u001b[1;33m)\u001b[0m\u001b[1;33m\u001b[0m\u001b[1;33m\u001b[0m\u001b[0m\n\u001b[0m\u001b[0;32m   3849\u001b[0m \u001b[1;33m\u001b[0m\u001b[0m\n\u001b[0;32m   3850\u001b[0m         \u001b[1;32mif\u001b[0m \u001b[0mlen\u001b[0m\u001b[1;33m(\u001b[0m\u001b[0mmapped\u001b[0m\u001b[1;33m)\u001b[0m \u001b[1;32mand\u001b[0m \u001b[0misinstance\u001b[0m\u001b[1;33m(\u001b[0m\u001b[0mmapped\u001b[0m\u001b[1;33m[\u001b[0m\u001b[1;36m0\u001b[0m\u001b[1;33m]\u001b[0m\u001b[1;33m,\u001b[0m \u001b[0mSeries\u001b[0m\u001b[1;33m)\u001b[0m\u001b[1;33m:\u001b[0m\u001b[1;33m\u001b[0m\u001b[1;33m\u001b[0m\u001b[0m\n",
      "\u001b[1;32mpandas\\_libs\\lib.pyx\u001b[0m in \u001b[0;36mpandas._libs.lib.map_infer\u001b[1;34m()\u001b[0m\n",
      "\u001b[1;32m<ipython-input-24-a4d7ec8c41c7>\u001b[0m in \u001b[0;36m<lambda>\u001b[1;34m(x)\u001b[0m\n\u001b[1;32m----> 1\u001b[1;33m train['all_langs'] = train['spoken_languages'].apply(lambda x: ' '.join(sorted([i['name']for i in x]))\n\u001b[0m\u001b[0;32m      2\u001b[0m                                                     if x!= {} else '')\n",
      "\u001b[1;32m<ipython-input-24-a4d7ec8c41c7>\u001b[0m in \u001b[0;36m<listcomp>\u001b[1;34m(.0)\u001b[0m\n\u001b[1;32m----> 1\u001b[1;33m train['all_langs'] = train['spoken_languages'].apply(lambda x: ' '.join(sorted([i['name']for i in x]))\n\u001b[0m\u001b[0;32m      2\u001b[0m                                                     if x!= {} else '')\n",
      "\u001b[1;31mTypeError\u001b[0m: string indices must be integers"
     ]
    }
   ],
   "source": [
    "train['all_langs'] = train['spoken_languages'].apply(lambda x: ' '.join(sorted([i['name']for i in x]))\n",
    "                                                    if x!= {} else '')"
   ]
  },
  {
   "cell_type": "code",
   "execution_count": 25,
   "metadata": {},
   "outputs": [
    {
     "name": "stderr",
     "output_type": "stream",
     "text": [
      "<ipython-input-25-bf185770c7cb>:9: SettingWithCopyWarning: \n",
      "A value is trying to be set on a copy of a slice from a DataFrame\n",
      "\n",
      "See the caveats in the documentation: https://pandas.pydata.org/pandas-docs/stable/user_guide/indexing.html#returning-a-view-versus-a-copy\n",
      "  train['language'][j] = l\n",
      "<ipython-input-25-bf185770c7cb>:11: SettingWithCopyWarning: \n",
      "A value is trying to be set on a copy of a slice from a DataFrame\n",
      "\n",
      "See the caveats in the documentation: https://pandas.pydata.org/pandas-docs/stable/user_guide/indexing.html#returning-a-view-versus-a-copy\n",
      "  train['language'][j] = np.NaN\n"
     ]
    }
   ],
   "source": [
    "j = 0\n",
    "for i in train['spoken_languages']:\n",
    "    d = get_dict(i)\n",
    "    if d != {}:\n",
    "        l=[]\n",
    "        for k in range(len(d)):\n",
    "            l.append(d[k]['iso_639_1'])\n",
    "            \n",
    "            train['language'][j] = l\n",
    "    else:\n",
    "         train['language'][j] = np.NaN\n",
    "    j += 1\n",
    "        "
   ]
  },
  {
   "cell_type": "code",
   "execution_count": 26,
   "metadata": {},
   "outputs": [],
   "source": [
    "Cast=pd.DataFrame(train['language'])"
   ]
  },
  {
   "cell_type": "code",
   "execution_count": 27,
   "metadata": {},
   "outputs": [
    {
     "data": {
      "text/html": [
       "<div>\n",
       "<style scoped>\n",
       "    .dataframe tbody tr th:only-of-type {\n",
       "        vertical-align: middle;\n",
       "    }\n",
       "\n",
       "    .dataframe tbody tr th {\n",
       "        vertical-align: top;\n",
       "    }\n",
       "\n",
       "    .dataframe thead th {\n",
       "        text-align: right;\n",
       "    }\n",
       "</style>\n",
       "<table border=\"1\" class=\"dataframe\">\n",
       "  <thead>\n",
       "    <tr style=\"text-align: right;\">\n",
       "      <th></th>\n",
       "      <th>language</th>\n",
       "    </tr>\n",
       "  </thead>\n",
       "  <tbody>\n",
       "    <tr>\n",
       "      <th>0</th>\n",
       "      <td>[en]</td>\n",
       "    </tr>\n",
       "    <tr>\n",
       "      <th>1</th>\n",
       "      <td>[en]</td>\n",
       "    </tr>\n",
       "    <tr>\n",
       "      <th>2</th>\n",
       "      <td>[en]</td>\n",
       "    </tr>\n",
       "    <tr>\n",
       "      <th>3</th>\n",
       "      <td>[en, hi]</td>\n",
       "    </tr>\n",
       "    <tr>\n",
       "      <th>4</th>\n",
       "      <td>[ko]</td>\n",
       "    </tr>\n",
       "    <tr>\n",
       "      <th>...</th>\n",
       "      <td>...</td>\n",
       "    </tr>\n",
       "    <tr>\n",
       "      <th>2995</th>\n",
       "      <td>[en]</td>\n",
       "    </tr>\n",
       "    <tr>\n",
       "      <th>2996</th>\n",
       "      <td>[sv]</td>\n",
       "    </tr>\n",
       "    <tr>\n",
       "      <th>2997</th>\n",
       "      <td>[en]</td>\n",
       "    </tr>\n",
       "    <tr>\n",
       "      <th>2998</th>\n",
       "      <td>[en]</td>\n",
       "    </tr>\n",
       "    <tr>\n",
       "      <th>2999</th>\n",
       "      <td>[en]</td>\n",
       "    </tr>\n",
       "  </tbody>\n",
       "</table>\n",
       "<p>3000 rows × 1 columns</p>\n",
       "</div>"
      ],
      "text/plain": [
       "      language\n",
       "0         [en]\n",
       "1         [en]\n",
       "2         [en]\n",
       "3     [en, hi]\n",
       "4         [ko]\n",
       "...        ...\n",
       "2995      [en]\n",
       "2996      [sv]\n",
       "2997      [en]\n",
       "2998      [en]\n",
       "2999      [en]\n",
       "\n",
       "[3000 rows x 1 columns]"
      ]
     },
     "execution_count": 27,
     "metadata": {},
     "output_type": "execute_result"
    }
   ],
   "source": [
    "Cast"
   ]
  },
  {
   "cell_type": "code",
   "execution_count": 28,
   "metadata": {},
   "outputs": [
    {
     "ename": "TypeError",
     "evalue": "argument of type 'float' is not iterable",
     "output_type": "error",
     "traceback": [
      "\u001b[1;31m---------------------------------------------------------------------------\u001b[0m",
      "\u001b[1;31mTypeError\u001b[0m                                 Traceback (most recent call last)",
      "\u001b[1;32m<ipython-input-28-d79b49cda44b>\u001b[0m in \u001b[0;36m<module>\u001b[1;34m\u001b[0m\n\u001b[1;32m----> 1\u001b[1;33m \u001b[0mCast\u001b[0m\u001b[1;33m[\u001b[0m\u001b[1;34m'lang'\u001b[0m\u001b[1;33m+\u001b[0m\u001b[0ml\u001b[0m\u001b[1;33m]\u001b[0m \u001b[1;33m=\u001b[0m \u001b[0mCast\u001b[0m\u001b[1;33m[\u001b[0m\u001b[1;34m'language'\u001b[0m\u001b[1;33m]\u001b[0m\u001b[1;33m.\u001b[0m\u001b[0mapply\u001b[0m\u001b[1;33m(\u001b[0m\u001b[1;32mlambda\u001b[0m \u001b[0mx\u001b[0m\u001b[1;33m:\u001b[0m \u001b[1;36m1\u001b[0m \u001b[1;32mif\u001b[0m \u001b[0ml\u001b[0m \u001b[1;32min\u001b[0m \u001b[0mx\u001b[0m \u001b[1;32melse\u001b[0m \u001b[1;36m0\u001b[0m\u001b[1;33m)\u001b[0m\u001b[1;33m\u001b[0m\u001b[1;33m\u001b[0m\u001b[0m\n\u001b[0m",
      "\u001b[1;32mE:\\conda\\lib\\site-packages\\pandas\\core\\series.py\u001b[0m in \u001b[0;36mapply\u001b[1;34m(self, func, convert_dtype, args, **kwds)\u001b[0m\n\u001b[0;32m   3846\u001b[0m             \u001b[1;32melse\u001b[0m\u001b[1;33m:\u001b[0m\u001b[1;33m\u001b[0m\u001b[1;33m\u001b[0m\u001b[0m\n\u001b[0;32m   3847\u001b[0m                 \u001b[0mvalues\u001b[0m \u001b[1;33m=\u001b[0m \u001b[0mself\u001b[0m\u001b[1;33m.\u001b[0m\u001b[0mastype\u001b[0m\u001b[1;33m(\u001b[0m\u001b[0mobject\u001b[0m\u001b[1;33m)\u001b[0m\u001b[1;33m.\u001b[0m\u001b[0mvalues\u001b[0m\u001b[1;33m\u001b[0m\u001b[1;33m\u001b[0m\u001b[0m\n\u001b[1;32m-> 3848\u001b[1;33m                 \u001b[0mmapped\u001b[0m \u001b[1;33m=\u001b[0m \u001b[0mlib\u001b[0m\u001b[1;33m.\u001b[0m\u001b[0mmap_infer\u001b[0m\u001b[1;33m(\u001b[0m\u001b[0mvalues\u001b[0m\u001b[1;33m,\u001b[0m \u001b[0mf\u001b[0m\u001b[1;33m,\u001b[0m \u001b[0mconvert\u001b[0m\u001b[1;33m=\u001b[0m\u001b[0mconvert_dtype\u001b[0m\u001b[1;33m)\u001b[0m\u001b[1;33m\u001b[0m\u001b[1;33m\u001b[0m\u001b[0m\n\u001b[0m\u001b[0;32m   3849\u001b[0m \u001b[1;33m\u001b[0m\u001b[0m\n\u001b[0;32m   3850\u001b[0m         \u001b[1;32mif\u001b[0m \u001b[0mlen\u001b[0m\u001b[1;33m(\u001b[0m\u001b[0mmapped\u001b[0m\u001b[1;33m)\u001b[0m \u001b[1;32mand\u001b[0m \u001b[0misinstance\u001b[0m\u001b[1;33m(\u001b[0m\u001b[0mmapped\u001b[0m\u001b[1;33m[\u001b[0m\u001b[1;36m0\u001b[0m\u001b[1;33m]\u001b[0m\u001b[1;33m,\u001b[0m \u001b[0mSeries\u001b[0m\u001b[1;33m)\u001b[0m\u001b[1;33m:\u001b[0m\u001b[1;33m\u001b[0m\u001b[1;33m\u001b[0m\u001b[0m\n",
      "\u001b[1;32mpandas\\_libs\\lib.pyx\u001b[0m in \u001b[0;36mpandas._libs.lib.map_infer\u001b[1;34m()\u001b[0m\n",
      "\u001b[1;32m<ipython-input-28-d79b49cda44b>\u001b[0m in \u001b[0;36m<lambda>\u001b[1;34m(x)\u001b[0m\n\u001b[1;32m----> 1\u001b[1;33m \u001b[0mCast\u001b[0m\u001b[1;33m[\u001b[0m\u001b[1;34m'lang'\u001b[0m\u001b[1;33m+\u001b[0m\u001b[0ml\u001b[0m\u001b[1;33m]\u001b[0m \u001b[1;33m=\u001b[0m \u001b[0mCast\u001b[0m\u001b[1;33m[\u001b[0m\u001b[1;34m'language'\u001b[0m\u001b[1;33m]\u001b[0m\u001b[1;33m.\u001b[0m\u001b[0mapply\u001b[0m\u001b[1;33m(\u001b[0m\u001b[1;32mlambda\u001b[0m \u001b[0mx\u001b[0m\u001b[1;33m:\u001b[0m \u001b[1;36m1\u001b[0m \u001b[1;32mif\u001b[0m \u001b[0ml\u001b[0m \u001b[1;32min\u001b[0m \u001b[0mx\u001b[0m \u001b[1;32melse\u001b[0m \u001b[1;36m0\u001b[0m\u001b[1;33m)\u001b[0m\u001b[1;33m\u001b[0m\u001b[1;33m\u001b[0m\u001b[0m\n\u001b[0m",
      "\u001b[1;31mTypeError\u001b[0m: argument of type 'float' is not iterable"
     ]
    }
   ],
   "source": [
    "Cast['lang'+l] = Cast['language'].apply(lambda x: 1 if l in x else 0)"
   ]
  },
  {
   "cell_type": "code",
   "execution_count": null,
   "metadata": {},
   "outputs": [],
   "source": []
  },
  {
   "cell_type": "code",
   "execution_count": null,
   "metadata": {},
   "outputs": [],
   "source": []
  },
  {
   "cell_type": "code",
   "execution_count": null,
   "metadata": {},
   "outputs": [],
   "source": []
  },
  {
   "cell_type": "code",
   "execution_count": 29,
   "metadata": {},
   "outputs": [],
   "source": [
    "#d_cast=dict()\n",
    "#act=[]\n",
    "#for i in Cast['language']:\n",
    "   # for j in range(len(i)):\n",
    "    #    act.append(i[j])\n",
    "        \n",
    "        "
   ]
  },
  {
   "cell_type": "code",
   "execution_count": 30,
   "metadata": {},
   "outputs": [],
   "source": [
    "train['no_of_actors']= train['cast'].str.len()"
   ]
  },
  {
   "cell_type": "code",
   "execution_count": 31,
   "metadata": {},
   "outputs": [],
   "source": [
    "train.drop('no_of_actors',axis=1,inplace=True)"
   ]
  },
  {
   "cell_type": "code",
   "execution_count": 32,
   "metadata": {},
   "outputs": [],
   "source": [
    "train['runtime'] = train['runtime'].fillna(train['runtime'].mean())\n",
    "test['runtime'] = test['runtime'].fillna(test['runtime'].mean())"
   ]
  },
  {
   "cell_type": "code",
   "execution_count": 33,
   "metadata": {},
   "outputs": [],
   "source": [
    "test= test[test['release_year'].notna()]"
   ]
  },
  {
   "cell_type": "code",
   "execution_count": 34,
   "metadata": {},
   "outputs": [
    {
     "data": {
      "text/html": [
       "<div>\n",
       "<style scoped>\n",
       "    .dataframe tbody tr th:only-of-type {\n",
       "        vertical-align: middle;\n",
       "    }\n",
       "\n",
       "    .dataframe tbody tr th {\n",
       "        vertical-align: top;\n",
       "    }\n",
       "\n",
       "    .dataframe thead th {\n",
       "        text-align: right;\n",
       "    }\n",
       "</style>\n",
       "<table border=\"1\" class=\"dataframe\">\n",
       "  <thead>\n",
       "    <tr style=\"text-align: right;\">\n",
       "      <th></th>\n",
       "      <th>id</th>\n",
       "      <th>budget</th>\n",
       "      <th>genres</th>\n",
       "      <th>imdb_id</th>\n",
       "      <th>original_language</th>\n",
       "      <th>original_title</th>\n",
       "      <th>overview</th>\n",
       "      <th>popularity</th>\n",
       "      <th>poster_path</th>\n",
       "      <th>production_companies</th>\n",
       "      <th>...</th>\n",
       "      <th>runtime</th>\n",
       "      <th>spoken_languages</th>\n",
       "      <th>status</th>\n",
       "      <th>title</th>\n",
       "      <th>Keywords</th>\n",
       "      <th>cast</th>\n",
       "      <th>crew</th>\n",
       "      <th>release_year</th>\n",
       "      <th>release_month</th>\n",
       "      <th>Day_of_Week</th>\n",
       "    </tr>\n",
       "  </thead>\n",
       "  <tbody>\n",
       "    <tr>\n",
       "      <th>0</th>\n",
       "      <td>3001</td>\n",
       "      <td>0</td>\n",
       "      <td>[{'id': 12, 'name': 'Adventure'}, {'id': 16, '...</td>\n",
       "      <td>tt1226251</td>\n",
       "      <td>19</td>\n",
       "      <td>ディアルガVSパルキアVSダークライ</td>\n",
       "      <td>Ash and friends (this time accompanied by newc...</td>\n",
       "      <td>3.851534</td>\n",
       "      <td>/tnftmLMemPLduW6MRyZE0ZUD19z.jpg</td>\n",
       "      <td>NaN</td>\n",
       "      <td>...</td>\n",
       "      <td>90.0</td>\n",
       "      <td>[{'iso_639_1': 'en', 'name': 'English'}, {'iso...</td>\n",
       "      <td>Released</td>\n",
       "      <td>Pokémon: The Rise of Darkrai</td>\n",
       "      <td>[{'id': 11451, 'name': 'pok√©mon'}, {'id': 115...</td>\n",
       "      <td>[{'cast_id': 3, 'character': 'Tonio', 'credit_...</td>\n",
       "      <td>[{'credit_id': '52fe44e7c3a368484e03d683', 'de...</td>\n",
       "      <td>2007.0</td>\n",
       "      <td>7.0</td>\n",
       "      <td>2</td>\n",
       "    </tr>\n",
       "    <tr>\n",
       "      <th>1</th>\n",
       "      <td>3002</td>\n",
       "      <td>88000</td>\n",
       "      <td>[{'id': 27, 'name': 'Horror'}, {'id': 878, 'na...</td>\n",
       "      <td>tt0051380</td>\n",
       "      <td>9</td>\n",
       "      <td>Attack of the 50 Foot Woman</td>\n",
       "      <td>When an abused wife grows to giant size becaus...</td>\n",
       "      <td>3.559789</td>\n",
       "      <td>/9MgBNBqlH1sG4yG2u4XkwI5CoJa.jpg</td>\n",
       "      <td>[{'name': 'Woolner Brothers Pictures Inc.', 'i...</td>\n",
       "      <td>...</td>\n",
       "      <td>65.0</td>\n",
       "      <td>[{'iso_639_1': 'en', 'name': 'English'}]</td>\n",
       "      <td>Released</td>\n",
       "      <td>Attack of the 50 Foot Woman</td>\n",
       "      <td>[{'id': 9748, 'name': 'revenge'}, {'id': 9951,...</td>\n",
       "      <td>[{'cast_id': 2, 'character': 'Nancy Fowler Arc...</td>\n",
       "      <td>[{'credit_id': '55807805c3a3685b1300060b', 'de...</td>\n",
       "      <td>2058.0</td>\n",
       "      <td>5.0</td>\n",
       "      <td>3</td>\n",
       "    </tr>\n",
       "    <tr>\n",
       "      <th>2</th>\n",
       "      <td>3003</td>\n",
       "      <td>0</td>\n",
       "      <td>[{'id': 35, 'name': 'Comedy'}, {'id': 10749, '...</td>\n",
       "      <td>tt0118556</td>\n",
       "      <td>9</td>\n",
       "      <td>Addicted to Love</td>\n",
       "      <td>Good-natured astronomer Sam is devastated when...</td>\n",
       "      <td>8.085194</td>\n",
       "      <td>/ed6nD7h9sbojSWY2qrnDcSvDFko.jpg</td>\n",
       "      <td>[{'name': 'Warner Bros.', 'id': 6194}, {'name'...</td>\n",
       "      <td>...</td>\n",
       "      <td>100.0</td>\n",
       "      <td>[{'iso_639_1': 'en', 'name': 'English'}]</td>\n",
       "      <td>Released</td>\n",
       "      <td>Addicted to Love</td>\n",
       "      <td>[{'id': 931, 'name': 'jealousy'}, {'id': 9673,...</td>\n",
       "      <td>[{'cast_id': 11, 'character': 'Maggie', 'credi...</td>\n",
       "      <td>[{'credit_id': '52fe4330c3a36847f8041367', 'de...</td>\n",
       "      <td>1997.0</td>\n",
       "      <td>5.0</td>\n",
       "      <td>0</td>\n",
       "    </tr>\n",
       "    <tr>\n",
       "      <th>3</th>\n",
       "      <td>3004</td>\n",
       "      <td>6800000</td>\n",
       "      <td>[{'id': 18, 'name': 'Drama'}, {'id': 10752, 'n...</td>\n",
       "      <td>tt1255953</td>\n",
       "      <td>12</td>\n",
       "      <td>Incendies</td>\n",
       "      <td>A mother's last wishes send twins Jeanne and S...</td>\n",
       "      <td>8.596012</td>\n",
       "      <td>/sEUG3qjxwHjxkzuO7plrRHhOZUH.jpg</td>\n",
       "      <td>[{'name': 'TS Productions', 'id': 313}, {'name...</td>\n",
       "      <td>...</td>\n",
       "      <td>130.0</td>\n",
       "      <td>[{'iso_639_1': 'fr', 'name': 'Français'}, {'is...</td>\n",
       "      <td>Released</td>\n",
       "      <td>Incendies</td>\n",
       "      <td>[{'id': 378, 'name': 'prison'}, {'id': 539, 'n...</td>\n",
       "      <td>[{'cast_id': 6, 'character': 'Nawal', 'credit_...</td>\n",
       "      <td>[{'credit_id': '56478092c3a36826140043af', 'de...</td>\n",
       "      <td>2010.0</td>\n",
       "      <td>9.0</td>\n",
       "      <td>2</td>\n",
       "    </tr>\n",
       "    <tr>\n",
       "      <th>4</th>\n",
       "      <td>3005</td>\n",
       "      <td>2000000</td>\n",
       "      <td>[{'id': 36, 'name': 'History'}, {'id': 99, 'na...</td>\n",
       "      <td>tt0418753</td>\n",
       "      <td>9</td>\n",
       "      <td>Inside Deep Throat</td>\n",
       "      <td>In 1972, a seemingly typical shoestring budget...</td>\n",
       "      <td>3.217680</td>\n",
       "      <td>/n4WC3zbelz6SG7rhkWbf8m9pMHB.jpg</td>\n",
       "      <td>NaN</td>\n",
       "      <td>...</td>\n",
       "      <td>92.0</td>\n",
       "      <td>[{'iso_639_1': 'en', 'name': 'English'}]</td>\n",
       "      <td>Released</td>\n",
       "      <td>Inside Deep Throat</td>\n",
       "      <td>[{'id': 279, 'name': 'usa'}, {'id': 1228, 'nam...</td>\n",
       "      <td>[{'cast_id': 1, 'character': 'Narrator (voice)...</td>\n",
       "      <td>[{'credit_id': '52fe44ce9251416c75041967', 'de...</td>\n",
       "      <td>2005.0</td>\n",
       "      <td>2.0</td>\n",
       "      <td>0</td>\n",
       "    </tr>\n",
       "    <tr>\n",
       "      <th>...</th>\n",
       "      <td>...</td>\n",
       "      <td>...</td>\n",
       "      <td>...</td>\n",
       "      <td>...</td>\n",
       "      <td>...</td>\n",
       "      <td>...</td>\n",
       "      <td>...</td>\n",
       "      <td>...</td>\n",
       "      <td>...</td>\n",
       "      <td>...</td>\n",
       "      <td>...</td>\n",
       "      <td>...</td>\n",
       "      <td>...</td>\n",
       "      <td>...</td>\n",
       "      <td>...</td>\n",
       "      <td>...</td>\n",
       "      <td>...</td>\n",
       "      <td>...</td>\n",
       "      <td>...</td>\n",
       "      <td>...</td>\n",
       "      <td>...</td>\n",
       "    </tr>\n",
       "    <tr>\n",
       "      <th>4393</th>\n",
       "      <td>7394</td>\n",
       "      <td>42000000</td>\n",
       "      <td>[{'id': 53, 'name': 'Thriller'}]</td>\n",
       "      <td>tt0218922</td>\n",
       "      <td>9</td>\n",
       "      <td>Original Sin</td>\n",
       "      <td>A young man is plunged into a life of subterfu...</td>\n",
       "      <td>9.970359</td>\n",
       "      <td>/i8FEQy5IWAqOzXm4uDHy2r3Swym.jpg</td>\n",
       "      <td>[{'name': 'Intermedia Films', 'id': 763}, {'na...</td>\n",
       "      <td>...</td>\n",
       "      <td>118.0</td>\n",
       "      <td>[{'iso_639_1': 'en', 'name': 'English'}, {'iso...</td>\n",
       "      <td>Released</td>\n",
       "      <td>Original Sin</td>\n",
       "      <td>[{'id': 515, 'name': 'women'}, {'id': 572, 'na...</td>\n",
       "      <td>[{'cast_id': 17, 'character': 'Julia Russell/B...</td>\n",
       "      <td>[{'credit_id': '52fe4330c3a36847f80412db', 'de...</td>\n",
       "      <td>2001.0</td>\n",
       "      <td>8.0</td>\n",
       "      <td>0</td>\n",
       "    </tr>\n",
       "    <tr>\n",
       "      <th>4394</th>\n",
       "      <td>7395</td>\n",
       "      <td>19000000</td>\n",
       "      <td>[{'id': 28, 'name': 'Action'}, {'id': 12, 'nam...</td>\n",
       "      <td>tt0364751</td>\n",
       "      <td>9</td>\n",
       "      <td>Without a Paddle</td>\n",
       "      <td>Three friends, whose lives have been drifting ...</td>\n",
       "      <td>6.046516</td>\n",
       "      <td>/oZDbFtTnTwW5GSfyaGFGaYxDBgD.jpg</td>\n",
       "      <td>[{'name': 'Paramount Pictures', 'id': 4}, {'na...</td>\n",
       "      <td>...</td>\n",
       "      <td>95.0</td>\n",
       "      <td>[{'iso_639_1': 'en', 'name': 'English'}]</td>\n",
       "      <td>Released</td>\n",
       "      <td>Without a Paddle</td>\n",
       "      <td>[{'id': 4959, 'name': 'death of a friend'}, {'...</td>\n",
       "      <td>[{'cast_id': 40, 'character': 'Dan Mott', 'cre...</td>\n",
       "      <td>[{'credit_id': '52fe43b29251416c7501a909', 'de...</td>\n",
       "      <td>2004.0</td>\n",
       "      <td>8.0</td>\n",
       "      <td>0</td>\n",
       "    </tr>\n",
       "    <tr>\n",
       "      <th>4395</th>\n",
       "      <td>7396</td>\n",
       "      <td>16000000</td>\n",
       "      <td>[{'id': 18, 'name': 'Drama'}]</td>\n",
       "      <td>tt0084855</td>\n",
       "      <td>9</td>\n",
       "      <td>The Verdict</td>\n",
       "      <td>Frank Galvin is a down-on-his luck lawyer, red...</td>\n",
       "      <td>9.596883</td>\n",
       "      <td>/hh9sIE1PT7Pjq3n2fzHNEHh8Ogq.jpg</td>\n",
       "      <td>[{'name': 'Twentieth Century Fox Film Corporat...</td>\n",
       "      <td>...</td>\n",
       "      <td>129.0</td>\n",
       "      <td>[{'iso_639_1': 'en', 'name': 'English'}]</td>\n",
       "      <td>Released</td>\n",
       "      <td>The Verdict</td>\n",
       "      <td>[{'id': 1680, 'name': 'boston'}, {'id': 6148, ...</td>\n",
       "      <td>[{'cast_id': 1, 'character': 'Frank Galvin', '...</td>\n",
       "      <td>[{'credit_id': '52fe448bc3a368484e028c55', 'de...</td>\n",
       "      <td>1982.0</td>\n",
       "      <td>12.0</td>\n",
       "      <td>6</td>\n",
       "    </tr>\n",
       "    <tr>\n",
       "      <th>4396</th>\n",
       "      <td>7397</td>\n",
       "      <td>2000000</td>\n",
       "      <td>[{'id': 27, 'name': 'Horror'}, {'id': 53, 'nam...</td>\n",
       "      <td>tt3235888</td>\n",
       "      <td>9</td>\n",
       "      <td>It Follows</td>\n",
       "      <td>For 19-year-old Jay, fall should be about scho...</td>\n",
       "      <td>20.359336</td>\n",
       "      <td>/4MrwJZr0R9LbyOgZqwLNmtzzxbu.jpg</td>\n",
       "      <td>[{'name': 'Northern Lights Films', 'id': 8714}...</td>\n",
       "      <td>...</td>\n",
       "      <td>100.0</td>\n",
       "      <td>[{'iso_639_1': 'en', 'name': 'English'}]</td>\n",
       "      <td>Released</td>\n",
       "      <td>It Follows</td>\n",
       "      <td>[{'id': 3713, 'name': 'chase'}, {'id': 6152, '...</td>\n",
       "      <td>[{'cast_id': 1, 'character': 'Jay Height', 'cr...</td>\n",
       "      <td>[{'credit_id': '537770b20e0a261431002299', 'de...</td>\n",
       "      <td>2015.0</td>\n",
       "      <td>2.0</td>\n",
       "      <td>6</td>\n",
       "    </tr>\n",
       "    <tr>\n",
       "      <th>4397</th>\n",
       "      <td>7398</td>\n",
       "      <td>64000</td>\n",
       "      <td>[{'id': 18, 'name': 'Drama'}]</td>\n",
       "      <td>tt0056663</td>\n",
       "      <td>12</td>\n",
       "      <td>Vivre sa vie: film en douze tableaux</td>\n",
       "      <td>Twelve episodic tales in the life of a Parisia...</td>\n",
       "      <td>11.305910</td>\n",
       "      <td>/baz1c9dzsf5uhNuUYhXy7eudNJd.jpg</td>\n",
       "      <td>[{'name': 'Pathé Consortium Cinéma', 'id': 220...</td>\n",
       "      <td>...</td>\n",
       "      <td>85.0</td>\n",
       "      <td>[{'iso_639_1': 'fr', 'name': 'Français'}]</td>\n",
       "      <td>Released</td>\n",
       "      <td>Vivre Sa Vie</td>\n",
       "      <td>[{'id': 90, 'name': 'paris'}, {'id': 490, 'nam...</td>\n",
       "      <td>[{'cast_id': 8, 'character': 'Nana Kleinfranke...</td>\n",
       "      <td>[{'credit_id': '52fe4306c3a36847f80349a5', 'de...</td>\n",
       "      <td>2062.0</td>\n",
       "      <td>9.0</td>\n",
       "      <td>6</td>\n",
       "    </tr>\n",
       "  </tbody>\n",
       "</table>\n",
       "<p>4397 rows × 22 columns</p>\n",
       "</div>"
      ],
      "text/plain": [
       "        id    budget                                             genres  \\\n",
       "0     3001         0  [{'id': 12, 'name': 'Adventure'}, {'id': 16, '...   \n",
       "1     3002     88000  [{'id': 27, 'name': 'Horror'}, {'id': 878, 'na...   \n",
       "2     3003         0  [{'id': 35, 'name': 'Comedy'}, {'id': 10749, '...   \n",
       "3     3004   6800000  [{'id': 18, 'name': 'Drama'}, {'id': 10752, 'n...   \n",
       "4     3005   2000000  [{'id': 36, 'name': 'History'}, {'id': 99, 'na...   \n",
       "...    ...       ...                                                ...   \n",
       "4393  7394  42000000                   [{'id': 53, 'name': 'Thriller'}]   \n",
       "4394  7395  19000000  [{'id': 28, 'name': 'Action'}, {'id': 12, 'nam...   \n",
       "4395  7396  16000000                      [{'id': 18, 'name': 'Drama'}]   \n",
       "4396  7397   2000000  [{'id': 27, 'name': 'Horror'}, {'id': 53, 'nam...   \n",
       "4397  7398     64000                      [{'id': 18, 'name': 'Drama'}]   \n",
       "\n",
       "        imdb_id  original_language                        original_title  \\\n",
       "0     tt1226251                 19                    ディアルガVSパルキアVSダークライ   \n",
       "1     tt0051380                  9           Attack of the 50 Foot Woman   \n",
       "2     tt0118556                  9                      Addicted to Love   \n",
       "3     tt1255953                 12                             Incendies   \n",
       "4     tt0418753                  9                    Inside Deep Throat   \n",
       "...         ...                ...                                   ...   \n",
       "4393  tt0218922                  9                          Original Sin   \n",
       "4394  tt0364751                  9                      Without a Paddle   \n",
       "4395  tt0084855                  9                           The Verdict   \n",
       "4396  tt3235888                  9                            It Follows   \n",
       "4397  tt0056663                 12  Vivre sa vie: film en douze tableaux   \n",
       "\n",
       "                                               overview  popularity  \\\n",
       "0     Ash and friends (this time accompanied by newc...    3.851534   \n",
       "1     When an abused wife grows to giant size becaus...    3.559789   \n",
       "2     Good-natured astronomer Sam is devastated when...    8.085194   \n",
       "3     A mother's last wishes send twins Jeanne and S...    8.596012   \n",
       "4     In 1972, a seemingly typical shoestring budget...    3.217680   \n",
       "...                                                 ...         ...   \n",
       "4393  A young man is plunged into a life of subterfu...    9.970359   \n",
       "4394  Three friends, whose lives have been drifting ...    6.046516   \n",
       "4395  Frank Galvin is a down-on-his luck lawyer, red...    9.596883   \n",
       "4396  For 19-year-old Jay, fall should be about scho...   20.359336   \n",
       "4397  Twelve episodic tales in the life of a Parisia...   11.305910   \n",
       "\n",
       "                           poster_path  \\\n",
       "0     /tnftmLMemPLduW6MRyZE0ZUD19z.jpg   \n",
       "1     /9MgBNBqlH1sG4yG2u4XkwI5CoJa.jpg   \n",
       "2     /ed6nD7h9sbojSWY2qrnDcSvDFko.jpg   \n",
       "3     /sEUG3qjxwHjxkzuO7plrRHhOZUH.jpg   \n",
       "4     /n4WC3zbelz6SG7rhkWbf8m9pMHB.jpg   \n",
       "...                                ...   \n",
       "4393  /i8FEQy5IWAqOzXm4uDHy2r3Swym.jpg   \n",
       "4394  /oZDbFtTnTwW5GSfyaGFGaYxDBgD.jpg   \n",
       "4395  /hh9sIE1PT7Pjq3n2fzHNEHh8Ogq.jpg   \n",
       "4396  /4MrwJZr0R9LbyOgZqwLNmtzzxbu.jpg   \n",
       "4397  /baz1c9dzsf5uhNuUYhXy7eudNJd.jpg   \n",
       "\n",
       "                                   production_companies  ... runtime  \\\n",
       "0                                                   NaN  ...    90.0   \n",
       "1     [{'name': 'Woolner Brothers Pictures Inc.', 'i...  ...    65.0   \n",
       "2     [{'name': 'Warner Bros.', 'id': 6194}, {'name'...  ...   100.0   \n",
       "3     [{'name': 'TS Productions', 'id': 313}, {'name...  ...   130.0   \n",
       "4                                                   NaN  ...    92.0   \n",
       "...                                                 ...  ...     ...   \n",
       "4393  [{'name': 'Intermedia Films', 'id': 763}, {'na...  ...   118.0   \n",
       "4394  [{'name': 'Paramount Pictures', 'id': 4}, {'na...  ...    95.0   \n",
       "4395  [{'name': 'Twentieth Century Fox Film Corporat...  ...   129.0   \n",
       "4396  [{'name': 'Northern Lights Films', 'id': 8714}...  ...   100.0   \n",
       "4397  [{'name': 'Pathé Consortium Cinéma', 'id': 220...  ...    85.0   \n",
       "\n",
       "                                       spoken_languages    status  \\\n",
       "0     [{'iso_639_1': 'en', 'name': 'English'}, {'iso...  Released   \n",
       "1              [{'iso_639_1': 'en', 'name': 'English'}]  Released   \n",
       "2              [{'iso_639_1': 'en', 'name': 'English'}]  Released   \n",
       "3     [{'iso_639_1': 'fr', 'name': 'Français'}, {'is...  Released   \n",
       "4              [{'iso_639_1': 'en', 'name': 'English'}]  Released   \n",
       "...                                                 ...       ...   \n",
       "4393  [{'iso_639_1': 'en', 'name': 'English'}, {'iso...  Released   \n",
       "4394           [{'iso_639_1': 'en', 'name': 'English'}]  Released   \n",
       "4395           [{'iso_639_1': 'en', 'name': 'English'}]  Released   \n",
       "4396           [{'iso_639_1': 'en', 'name': 'English'}]  Released   \n",
       "4397          [{'iso_639_1': 'fr', 'name': 'Français'}]  Released   \n",
       "\n",
       "                             title  \\\n",
       "0     Pokémon: The Rise of Darkrai   \n",
       "1      Attack of the 50 Foot Woman   \n",
       "2                 Addicted to Love   \n",
       "3                        Incendies   \n",
       "4               Inside Deep Throat   \n",
       "...                            ...   \n",
       "4393                  Original Sin   \n",
       "4394              Without a Paddle   \n",
       "4395                   The Verdict   \n",
       "4396                    It Follows   \n",
       "4397                  Vivre Sa Vie   \n",
       "\n",
       "                                               Keywords  \\\n",
       "0     [{'id': 11451, 'name': 'pok√©mon'}, {'id': 115...   \n",
       "1     [{'id': 9748, 'name': 'revenge'}, {'id': 9951,...   \n",
       "2     [{'id': 931, 'name': 'jealousy'}, {'id': 9673,...   \n",
       "3     [{'id': 378, 'name': 'prison'}, {'id': 539, 'n...   \n",
       "4     [{'id': 279, 'name': 'usa'}, {'id': 1228, 'nam...   \n",
       "...                                                 ...   \n",
       "4393  [{'id': 515, 'name': 'women'}, {'id': 572, 'na...   \n",
       "4394  [{'id': 4959, 'name': 'death of a friend'}, {'...   \n",
       "4395  [{'id': 1680, 'name': 'boston'}, {'id': 6148, ...   \n",
       "4396  [{'id': 3713, 'name': 'chase'}, {'id': 6152, '...   \n",
       "4397  [{'id': 90, 'name': 'paris'}, {'id': 490, 'nam...   \n",
       "\n",
       "                                                   cast  \\\n",
       "0     [{'cast_id': 3, 'character': 'Tonio', 'credit_...   \n",
       "1     [{'cast_id': 2, 'character': 'Nancy Fowler Arc...   \n",
       "2     [{'cast_id': 11, 'character': 'Maggie', 'credi...   \n",
       "3     [{'cast_id': 6, 'character': 'Nawal', 'credit_...   \n",
       "4     [{'cast_id': 1, 'character': 'Narrator (voice)...   \n",
       "...                                                 ...   \n",
       "4393  [{'cast_id': 17, 'character': 'Julia Russell/B...   \n",
       "4394  [{'cast_id': 40, 'character': 'Dan Mott', 'cre...   \n",
       "4395  [{'cast_id': 1, 'character': 'Frank Galvin', '...   \n",
       "4396  [{'cast_id': 1, 'character': 'Jay Height', 'cr...   \n",
       "4397  [{'cast_id': 8, 'character': 'Nana Kleinfranke...   \n",
       "\n",
       "                                                   crew release_year  \\\n",
       "0     [{'credit_id': '52fe44e7c3a368484e03d683', 'de...       2007.0   \n",
       "1     [{'credit_id': '55807805c3a3685b1300060b', 'de...       2058.0   \n",
       "2     [{'credit_id': '52fe4330c3a36847f8041367', 'de...       1997.0   \n",
       "3     [{'credit_id': '56478092c3a36826140043af', 'de...       2010.0   \n",
       "4     [{'credit_id': '52fe44ce9251416c75041967', 'de...       2005.0   \n",
       "...                                                 ...          ...   \n",
       "4393  [{'credit_id': '52fe4330c3a36847f80412db', 'de...       2001.0   \n",
       "4394  [{'credit_id': '52fe43b29251416c7501a909', 'de...       2004.0   \n",
       "4395  [{'credit_id': '52fe448bc3a368484e028c55', 'de...       1982.0   \n",
       "4396  [{'credit_id': '537770b20e0a261431002299', 'de...       2015.0   \n",
       "4397  [{'credit_id': '52fe4306c3a36847f80349a5', 'de...       2062.0   \n",
       "\n",
       "     release_month  Day_of_Week  \n",
       "0              7.0            2  \n",
       "1              5.0            3  \n",
       "2              5.0            0  \n",
       "3              9.0            2  \n",
       "4              2.0            0  \n",
       "...            ...          ...  \n",
       "4393           8.0            0  \n",
       "4394           8.0            0  \n",
       "4395          12.0            6  \n",
       "4396           2.0            6  \n",
       "4397           9.0            6  \n",
       "\n",
       "[4397 rows x 22 columns]"
      ]
     },
     "execution_count": 34,
     "metadata": {},
     "output_type": "execute_result"
    }
   ],
   "source": [
    "test"
   ]
  },
  {
   "cell_type": "markdown",
   "metadata": {},
   "source": [
    "# Linear Regression"
   ]
  },
  {
   "cell_type": "code",
   "execution_count": 35,
   "metadata": {},
   "outputs": [],
   "source": [
    "y = train['revenue']"
   ]
  },
  {
   "cell_type": "code",
   "execution_count": 36,
   "metadata": {},
   "outputs": [
    {
     "data": {
      "text/plain": [
       "Index(['id', 'budget', 'genres', 'imdb_id', 'original_language',\n",
       "       'original_title', 'overview', 'popularity', 'poster_path',\n",
       "       'production_companies', 'production_countries', 'release_date',\n",
       "       'runtime', 'spoken_languages', 'status', 'title', 'Keywords', 'cast',\n",
       "       'crew', 'revenue', 'release_year', 'release_month', 'Day_of_Week',\n",
       "       'language'],\n",
       "      dtype='object')"
      ]
     },
     "execution_count": 36,
     "metadata": {},
     "output_type": "execute_result"
    }
   ],
   "source": [
    "train.columns"
   ]
  },
  {
   "cell_type": "code",
   "execution_count": 37,
   "metadata": {},
   "outputs": [],
   "source": [
    "X = train[['budget','original_language','popularity','runtime','release_year','Day_of_Week','release_month']]"
   ]
  },
  {
   "cell_type": "code",
   "execution_count": 38,
   "metadata": {},
   "outputs": [],
   "source": [
    "from sklearn.preprocessing import minmax_scale"
   ]
  },
  {
   "cell_type": "code",
   "execution_count": 39,
   "metadata": {},
   "outputs": [],
   "source": [
    "from sklearn.model_selection import train_test_split"
   ]
  },
  {
   "cell_type": "code",
   "execution_count": 40,
   "metadata": {},
   "outputs": [],
   "source": [
    "from sklearn.linear_model import LinearRegression"
   ]
  },
  {
   "cell_type": "code",
   "execution_count": 41,
   "metadata": {},
   "outputs": [],
   "source": [
    "lr = LinearRegression()"
   ]
  },
  {
   "cell_type": "code",
   "execution_count": null,
   "metadata": {},
   "outputs": [],
   "source": []
  },
  {
   "cell_type": "code",
   "execution_count": 42,
   "metadata": {},
   "outputs": [
    {
     "data": {
      "text/plain": [
       "LinearRegression()"
      ]
     },
     "execution_count": 42,
     "metadata": {},
     "output_type": "execute_result"
    }
   ],
   "source": [
    "lr.fit(X,y)"
   ]
  },
  {
   "cell_type": "code",
   "execution_count": 43,
   "metadata": {},
   "outputs": [],
   "source": [
    "lr_pred = lr.predict(X)"
   ]
  },
  {
   "cell_type": "code",
   "execution_count": 44,
   "metadata": {},
   "outputs": [],
   "source": [
    "Z = minmax_scale(lr_pred,feature_range=(0,1))"
   ]
  },
  {
   "cell_type": "code",
   "execution_count": 45,
   "metadata": {},
   "outputs": [],
   "source": [
    "ll = X.copy(deep=True)"
   ]
  },
  {
   "cell_type": "code",
   "execution_count": 46,
   "metadata": {},
   "outputs": [],
   "source": [
    "ll['pred'] = lr_pred"
   ]
  },
  {
   "cell_type": "code",
   "execution_count": 47,
   "metadata": {},
   "outputs": [
    {
     "data": {
      "text/html": [
       "<div>\n",
       "<style scoped>\n",
       "    .dataframe tbody tr th:only-of-type {\n",
       "        vertical-align: middle;\n",
       "    }\n",
       "\n",
       "    .dataframe tbody tr th {\n",
       "        vertical-align: top;\n",
       "    }\n",
       "\n",
       "    .dataframe thead th {\n",
       "        text-align: right;\n",
       "    }\n",
       "</style>\n",
       "<table border=\"1\" class=\"dataframe\">\n",
       "  <thead>\n",
       "    <tr style=\"text-align: right;\">\n",
       "      <th></th>\n",
       "      <th>budget</th>\n",
       "      <th>original_language</th>\n",
       "      <th>popularity</th>\n",
       "      <th>runtime</th>\n",
       "      <th>release_year</th>\n",
       "      <th>Day_of_Week</th>\n",
       "      <th>release_month</th>\n",
       "      <th>pred</th>\n",
       "    </tr>\n",
       "  </thead>\n",
       "  <tbody>\n",
       "    <tr>\n",
       "      <th>3</th>\n",
       "      <td>1200000</td>\n",
       "      <td>13</td>\n",
       "      <td>3.174936</td>\n",
       "      <td>122.0</td>\n",
       "      <td>2012</td>\n",
       "      <td>0</td>\n",
       "      <td>3</td>\n",
       "      <td>-4.168701e+06</td>\n",
       "    </tr>\n",
       "    <tr>\n",
       "      <th>7</th>\n",
       "      <td>0</td>\n",
       "      <td>7</td>\n",
       "      <td>1.949044</td>\n",
       "      <td>84.0</td>\n",
       "      <td>2004</td>\n",
       "      <td>4</td>\n",
       "      <td>1</td>\n",
       "      <td>-4.141643e+06</td>\n",
       "    </tr>\n",
       "    <tr>\n",
       "      <th>23</th>\n",
       "      <td>0</td>\n",
       "      <td>7</td>\n",
       "      <td>1.323333</td>\n",
       "      <td>92.0</td>\n",
       "      <td>2011</td>\n",
       "      <td>0</td>\n",
       "      <td>9</td>\n",
       "      <td>-1.930861e+07</td>\n",
       "    </tr>\n",
       "    <tr>\n",
       "      <th>25</th>\n",
       "      <td>0</td>\n",
       "      <td>7</td>\n",
       "      <td>1.252367</td>\n",
       "      <td>95.0</td>\n",
       "      <td>1992</td>\n",
       "      <td>0</td>\n",
       "      <td>10</td>\n",
       "      <td>-1.320717e+07</td>\n",
       "    </tr>\n",
       "    <tr>\n",
       "      <th>36</th>\n",
       "      <td>0</td>\n",
       "      <td>7</td>\n",
       "      <td>2.100499</td>\n",
       "      <td>105.0</td>\n",
       "      <td>2000</td>\n",
       "      <td>0</td>\n",
       "      <td>1</td>\n",
       "      <td>-1.066751e+07</td>\n",
       "    </tr>\n",
       "    <tr>\n",
       "      <th>...</th>\n",
       "      <td>...</td>\n",
       "      <td>...</td>\n",
       "      <td>...</td>\n",
       "      <td>...</td>\n",
       "      <td>...</td>\n",
       "      <td>...</td>\n",
       "      <td>...</td>\n",
       "      <td>...</td>\n",
       "    </tr>\n",
       "    <tr>\n",
       "      <th>2987</th>\n",
       "      <td>0</td>\n",
       "      <td>7</td>\n",
       "      <td>1.292125</td>\n",
       "      <td>90.0</td>\n",
       "      <td>1989</td>\n",
       "      <td>0</td>\n",
       "      <td>1</td>\n",
       "      <td>-1.193156e+07</td>\n",
       "    </tr>\n",
       "    <tr>\n",
       "      <th>2988</th>\n",
       "      <td>0</td>\n",
       "      <td>9</td>\n",
       "      <td>0.984515</td>\n",
       "      <td>94.0</td>\n",
       "      <td>2002</td>\n",
       "      <td>1</td>\n",
       "      <td>5</td>\n",
       "      <td>-1.301744e+07</td>\n",
       "    </tr>\n",
       "    <tr>\n",
       "      <th>2989</th>\n",
       "      <td>0</td>\n",
       "      <td>7</td>\n",
       "      <td>0.851599</td>\n",
       "      <td>75.0</td>\n",
       "      <td>2001</td>\n",
       "      <td>0</td>\n",
       "      <td>5</td>\n",
       "      <td>-1.986519e+07</td>\n",
       "    </tr>\n",
       "    <tr>\n",
       "      <th>2990</th>\n",
       "      <td>0</td>\n",
       "      <td>7</td>\n",
       "      <td>1.560980</td>\n",
       "      <td>90.0</td>\n",
       "      <td>1997</td>\n",
       "      <td>0</td>\n",
       "      <td>3</td>\n",
       "      <td>-1.396123e+07</td>\n",
       "    </tr>\n",
       "    <tr>\n",
       "      <th>2992</th>\n",
       "      <td>1135654</td>\n",
       "      <td>7</td>\n",
       "      <td>3.878515</td>\n",
       "      <td>149.0</td>\n",
       "      <td>2024</td>\n",
       "      <td>1</td>\n",
       "      <td>3</td>\n",
       "      <td>-4.353886e+05</td>\n",
       "    </tr>\n",
       "  </tbody>\n",
       "</table>\n",
       "<p>566 rows × 8 columns</p>\n",
       "</div>"
      ],
      "text/plain": [
       "       budget  original_language  popularity  runtime  release_year  \\\n",
       "3     1200000                 13    3.174936    122.0          2012   \n",
       "7           0                  7    1.949044     84.0          2004   \n",
       "23          0                  7    1.323333     92.0          2011   \n",
       "25          0                  7    1.252367     95.0          1992   \n",
       "36          0                  7    2.100499    105.0          2000   \n",
       "...       ...                ...         ...      ...           ...   \n",
       "2987        0                  7    1.292125     90.0          1989   \n",
       "2988        0                  9    0.984515     94.0          2002   \n",
       "2989        0                  7    0.851599     75.0          2001   \n",
       "2990        0                  7    1.560980     90.0          1997   \n",
       "2992  1135654                  7    3.878515    149.0          2024   \n",
       "\n",
       "      Day_of_Week  release_month          pred  \n",
       "3               0              3 -4.168701e+06  \n",
       "7               4              1 -4.141643e+06  \n",
       "23              0              9 -1.930861e+07  \n",
       "25              0             10 -1.320717e+07  \n",
       "36              0              1 -1.066751e+07  \n",
       "...           ...            ...           ...  \n",
       "2987            0              1 -1.193156e+07  \n",
       "2988            1              5 -1.301744e+07  \n",
       "2989            0              5 -1.986519e+07  \n",
       "2990            0              3 -1.396123e+07  \n",
       "2992            1              3 -4.353886e+05  \n",
       "\n",
       "[566 rows x 8 columns]"
      ]
     },
     "execution_count": 47,
     "metadata": {},
     "output_type": "execute_result"
    }
   ],
   "source": [
    "ll[ll['pred']<0]"
   ]
  },
  {
   "cell_type": "code",
   "execution_count": 48,
   "metadata": {},
   "outputs": [
    {
     "data": {
      "text/plain": [
       "count    3000.000000\n",
       "mean        0.091849\n",
       "std         0.092135\n",
       "min         0.000000\n",
       "25%         0.039090\n",
       "50%         0.060680\n",
       "75%         0.108167\n",
       "max         1.000000\n",
       "dtype: float64"
      ]
     },
     "execution_count": 48,
     "metadata": {},
     "output_type": "execute_result"
    }
   ],
   "source": [
    "pd.Series(Z).describe()"
   ]
  },
  {
   "cell_type": "code",
   "execution_count": 49,
   "metadata": {},
   "outputs": [],
   "source": [
    "from sklearn.metrics import mean_squared_log_error, mean_absolute_error,mean_squared_error"
   ]
  },
  {
   "cell_type": "code",
   "execution_count": 50,
   "metadata": {},
   "outputs": [
    {
     "name": "stdout",
     "output_type": "stream",
     "text": [
      "66725851.796817854\n"
     ]
    }
   ],
   "source": [
    "print((mean_absolute_error(y, Z)))"
   ]
  },
  {
   "cell_type": "code",
   "execution_count": 51,
   "metadata": {},
   "outputs": [
    {
     "name": "stdout",
     "output_type": "stream",
     "text": [
      "16.16206531638029\n"
     ]
    }
   ],
   "source": [
    "print(np.sqrt(mean_squared_log_error(y,Z)))"
   ]
  },
  {
   "cell_type": "code",
   "execution_count": 52,
   "metadata": {},
   "outputs": [
    {
     "data": {
      "text/plain": [
       "count    3.000000e+03\n",
       "mean     6.672585e+07\n",
       "std      1.375323e+08\n",
       "min      1.000000e+00\n",
       "25%      2.379808e+06\n",
       "50%      1.680707e+07\n",
       "75%      6.891920e+07\n",
       "max      1.519558e+09\n",
       "Name: revenue, dtype: float64"
      ]
     },
     "execution_count": 52,
     "metadata": {},
     "output_type": "execute_result"
    }
   ],
   "source": [
    "y.describe()"
   ]
  },
  {
   "cell_type": "code",
   "execution_count": 53,
   "metadata": {},
   "outputs": [
    {
     "data": {
      "text/plain": [
       "count    3.000000e+03\n",
       "mean     6.672585e+07\n",
       "std      1.375323e+08\n",
       "min      1.000000e+00\n",
       "25%      2.379808e+06\n",
       "50%      1.680707e+07\n",
       "75%      6.891920e+07\n",
       "max      1.519558e+09\n",
       "Name: revenue, dtype: float64"
      ]
     },
     "execution_count": 53,
     "metadata": {},
     "output_type": "execute_result"
    }
   ],
   "source": [
    "train['revenue'].describe()"
   ]
  },
  {
   "cell_type": "markdown",
   "metadata": {},
   "source": [
    "# Randomforest Regressor"
   ]
  },
  {
   "cell_type": "code",
   "execution_count": 54,
   "metadata": {},
   "outputs": [],
   "source": [
    "from sklearn.ensemble import RandomForestRegressor"
   ]
  },
  {
   "cell_type": "code",
   "execution_count": 55,
   "metadata": {},
   "outputs": [],
   "source": [
    "model = RandomForestRegressor(random_state=42,n_estimators=50)"
   ]
  },
  {
   "cell_type": "code",
   "execution_count": 56,
   "metadata": {},
   "outputs": [
    {
     "data": {
      "text/plain": [
       "RandomForestRegressor(n_estimators=50, random_state=42)"
      ]
     },
     "execution_count": 56,
     "metadata": {},
     "output_type": "execute_result"
    }
   ],
   "source": [
    "model.fit(X,y)"
   ]
  },
  {
   "cell_type": "code",
   "execution_count": 57,
   "metadata": {},
   "outputs": [],
   "source": [
    "pred = model.predict(X)"
   ]
  },
  {
   "cell_type": "code",
   "execution_count": 58,
   "metadata": {},
   "outputs": [
    {
     "name": "stdout",
     "output_type": "stream",
     "text": [
      "2.087467862309666\n"
     ]
    }
   ],
   "source": [
    "print(np.sqrt(mean_squared_log_error(y,pred)))"
   ]
  },
  {
   "cell_type": "code",
   "execution_count": 59,
   "metadata": {},
   "outputs": [
    {
     "name": "stdout",
     "output_type": "stream",
     "text": [
      "15818693.472066665\n"
     ]
    }
   ],
   "source": [
    "\n",
    "\n",
    "print(mean_absolute_error(y, pred))\n",
    "\n"
   ]
  },
  {
   "cell_type": "code",
   "execution_count": 60,
   "metadata": {},
   "outputs": [
    {
     "data": {
      "text/html": [
       "<div>\n",
       "<style scoped>\n",
       "    .dataframe tbody tr th:only-of-type {\n",
       "        vertical-align: middle;\n",
       "    }\n",
       "\n",
       "    .dataframe tbody tr th {\n",
       "        vertical-align: top;\n",
       "    }\n",
       "\n",
       "    .dataframe thead th {\n",
       "        text-align: right;\n",
       "    }\n",
       "</style>\n",
       "<table border=\"1\" class=\"dataframe\">\n",
       "  <thead>\n",
       "    <tr style=\"text-align: right;\">\n",
       "      <th></th>\n",
       "      <th>budget</th>\n",
       "      <th>original_language</th>\n",
       "      <th>popularity</th>\n",
       "      <th>runtime</th>\n",
       "      <th>release_year</th>\n",
       "      <th>Day_of_Week</th>\n",
       "      <th>release_month</th>\n",
       "    </tr>\n",
       "  </thead>\n",
       "  <tbody>\n",
       "    <tr>\n",
       "      <th>0</th>\n",
       "      <td>0</td>\n",
       "      <td>19</td>\n",
       "      <td>3.851534</td>\n",
       "      <td>90.0</td>\n",
       "      <td>2007.0</td>\n",
       "      <td>2</td>\n",
       "      <td>7.0</td>\n",
       "    </tr>\n",
       "    <tr>\n",
       "      <th>1</th>\n",
       "      <td>88000</td>\n",
       "      <td>9</td>\n",
       "      <td>3.559789</td>\n",
       "      <td>65.0</td>\n",
       "      <td>2058.0</td>\n",
       "      <td>3</td>\n",
       "      <td>5.0</td>\n",
       "    </tr>\n",
       "    <tr>\n",
       "      <th>2</th>\n",
       "      <td>0</td>\n",
       "      <td>9</td>\n",
       "      <td>8.085194</td>\n",
       "      <td>100.0</td>\n",
       "      <td>1997.0</td>\n",
       "      <td>0</td>\n",
       "      <td>5.0</td>\n",
       "    </tr>\n",
       "    <tr>\n",
       "      <th>3</th>\n",
       "      <td>6800000</td>\n",
       "      <td>12</td>\n",
       "      <td>8.596012</td>\n",
       "      <td>130.0</td>\n",
       "      <td>2010.0</td>\n",
       "      <td>2</td>\n",
       "      <td>9.0</td>\n",
       "    </tr>\n",
       "    <tr>\n",
       "      <th>4</th>\n",
       "      <td>2000000</td>\n",
       "      <td>9</td>\n",
       "      <td>3.217680</td>\n",
       "      <td>92.0</td>\n",
       "      <td>2005.0</td>\n",
       "      <td>0</td>\n",
       "      <td>2.0</td>\n",
       "    </tr>\n",
       "    <tr>\n",
       "      <th>...</th>\n",
       "      <td>...</td>\n",
       "      <td>...</td>\n",
       "      <td>...</td>\n",
       "      <td>...</td>\n",
       "      <td>...</td>\n",
       "      <td>...</td>\n",
       "      <td>...</td>\n",
       "    </tr>\n",
       "    <tr>\n",
       "      <th>4393</th>\n",
       "      <td>42000000</td>\n",
       "      <td>9</td>\n",
       "      <td>9.970359</td>\n",
       "      <td>118.0</td>\n",
       "      <td>2001.0</td>\n",
       "      <td>0</td>\n",
       "      <td>8.0</td>\n",
       "    </tr>\n",
       "    <tr>\n",
       "      <th>4394</th>\n",
       "      <td>19000000</td>\n",
       "      <td>9</td>\n",
       "      <td>6.046516</td>\n",
       "      <td>95.0</td>\n",
       "      <td>2004.0</td>\n",
       "      <td>0</td>\n",
       "      <td>8.0</td>\n",
       "    </tr>\n",
       "    <tr>\n",
       "      <th>4395</th>\n",
       "      <td>16000000</td>\n",
       "      <td>9</td>\n",
       "      <td>9.596883</td>\n",
       "      <td>129.0</td>\n",
       "      <td>1982.0</td>\n",
       "      <td>6</td>\n",
       "      <td>12.0</td>\n",
       "    </tr>\n",
       "    <tr>\n",
       "      <th>4396</th>\n",
       "      <td>2000000</td>\n",
       "      <td>9</td>\n",
       "      <td>20.359336</td>\n",
       "      <td>100.0</td>\n",
       "      <td>2015.0</td>\n",
       "      <td>6</td>\n",
       "      <td>2.0</td>\n",
       "    </tr>\n",
       "    <tr>\n",
       "      <th>4397</th>\n",
       "      <td>64000</td>\n",
       "      <td>12</td>\n",
       "      <td>11.305910</td>\n",
       "      <td>85.0</td>\n",
       "      <td>2062.0</td>\n",
       "      <td>6</td>\n",
       "      <td>9.0</td>\n",
       "    </tr>\n",
       "  </tbody>\n",
       "</table>\n",
       "<p>4397 rows × 7 columns</p>\n",
       "</div>"
      ],
      "text/plain": [
       "        budget  original_language  popularity  runtime  release_year  \\\n",
       "0            0                 19    3.851534     90.0        2007.0   \n",
       "1        88000                  9    3.559789     65.0        2058.0   \n",
       "2            0                  9    8.085194    100.0        1997.0   \n",
       "3      6800000                 12    8.596012    130.0        2010.0   \n",
       "4      2000000                  9    3.217680     92.0        2005.0   \n",
       "...        ...                ...         ...      ...           ...   \n",
       "4393  42000000                  9    9.970359    118.0        2001.0   \n",
       "4394  19000000                  9    6.046516     95.0        2004.0   \n",
       "4395  16000000                  9    9.596883    129.0        1982.0   \n",
       "4396   2000000                  9   20.359336    100.0        2015.0   \n",
       "4397     64000                 12   11.305910     85.0        2062.0   \n",
       "\n",
       "      Day_of_Week  release_month  \n",
       "0               2            7.0  \n",
       "1               3            5.0  \n",
       "2               0            5.0  \n",
       "3               2            9.0  \n",
       "4               0            2.0  \n",
       "...           ...            ...  \n",
       "4393            0            8.0  \n",
       "4394            0            8.0  \n",
       "4395            6           12.0  \n",
       "4396            6            2.0  \n",
       "4397            6            9.0  \n",
       "\n",
       "[4397 rows x 7 columns]"
      ]
     },
     "execution_count": 60,
     "metadata": {},
     "output_type": "execute_result"
    }
   ],
   "source": [
    "test_id=test[\"id\"]\n",
    "test_id.shape\n",
    "test_X=test[['budget','original_language','popularity','runtime','release_year','Day_of_Week','release_month']]\n",
    "predictions=model.predict(test_X)\n",
    "test_X"
   ]
  },
  {
   "cell_type": "code",
   "execution_count": 61,
   "metadata": {},
   "outputs": [],
   "source": [
    "submission1 = pd.DataFrame({'id': test_id, 'revenue':predictions})\n",
    "submission1 = submission1[['id', 'revenue']]\n",
    "submission1.head()\n",
    "submission1.to_csv(\"submission1.csv\", index=False)"
   ]
  },
  {
   "cell_type": "code",
   "execution_count": 62,
   "metadata": {},
   "outputs": [],
   "source": [
    "sub = pd.read_csv('submission1.csv')"
   ]
  },
  {
   "cell_type": "code",
   "execution_count": 63,
   "metadata": {},
   "outputs": [
    {
     "data": {
      "text/html": [
       "<div>\n",
       "<style scoped>\n",
       "    .dataframe tbody tr th:only-of-type {\n",
       "        vertical-align: middle;\n",
       "    }\n",
       "\n",
       "    .dataframe tbody tr th {\n",
       "        vertical-align: top;\n",
       "    }\n",
       "\n",
       "    .dataframe thead th {\n",
       "        text-align: right;\n",
       "    }\n",
       "</style>\n",
       "<table border=\"1\" class=\"dataframe\">\n",
       "  <thead>\n",
       "    <tr style=\"text-align: right;\">\n",
       "      <th></th>\n",
       "      <th>id</th>\n",
       "      <th>revenue</th>\n",
       "    </tr>\n",
       "  </thead>\n",
       "  <tbody>\n",
       "    <tr>\n",
       "      <th>0</th>\n",
       "      <td>3001</td>\n",
       "      <td>6.164286e+06</td>\n",
       "    </tr>\n",
       "    <tr>\n",
       "      <th>1</th>\n",
       "      <td>3002</td>\n",
       "      <td>5.205737e+06</td>\n",
       "    </tr>\n",
       "    <tr>\n",
       "      <th>2</th>\n",
       "      <td>3003</td>\n",
       "      <td>9.920664e+06</td>\n",
       "    </tr>\n",
       "    <tr>\n",
       "      <th>3</th>\n",
       "      <td>3004</td>\n",
       "      <td>1.568437e+07</td>\n",
       "    </tr>\n",
       "    <tr>\n",
       "      <th>4</th>\n",
       "      <td>3005</td>\n",
       "      <td>4.635915e+06</td>\n",
       "    </tr>\n",
       "    <tr>\n",
       "      <th>...</th>\n",
       "      <td>...</td>\n",
       "      <td>...</td>\n",
       "    </tr>\n",
       "    <tr>\n",
       "      <th>4392</th>\n",
       "      <td>7394</td>\n",
       "      <td>1.197306e+08</td>\n",
       "    </tr>\n",
       "    <tr>\n",
       "      <th>4393</th>\n",
       "      <td>7395</td>\n",
       "      <td>3.977335e+07</td>\n",
       "    </tr>\n",
       "    <tr>\n",
       "      <th>4394</th>\n",
       "      <td>7396</td>\n",
       "      <td>1.010264e+08</td>\n",
       "    </tr>\n",
       "    <tr>\n",
       "      <th>4395</th>\n",
       "      <td>7397</td>\n",
       "      <td>1.401536e+08</td>\n",
       "    </tr>\n",
       "    <tr>\n",
       "      <th>4396</th>\n",
       "      <td>7398</td>\n",
       "      <td>2.092742e+07</td>\n",
       "    </tr>\n",
       "  </tbody>\n",
       "</table>\n",
       "<p>4397 rows × 2 columns</p>\n",
       "</div>"
      ],
      "text/plain": [
       "        id       revenue\n",
       "0     3001  6.164286e+06\n",
       "1     3002  5.205737e+06\n",
       "2     3003  9.920664e+06\n",
       "3     3004  1.568437e+07\n",
       "4     3005  4.635915e+06\n",
       "...    ...           ...\n",
       "4392  7394  1.197306e+08\n",
       "4393  7395  3.977335e+07\n",
       "4394  7396  1.010264e+08\n",
       "4395  7397  1.401536e+08\n",
       "4396  7398  2.092742e+07\n",
       "\n",
       "[4397 rows x 2 columns]"
      ]
     },
     "execution_count": 63,
     "metadata": {},
     "output_type": "execute_result"
    }
   ],
   "source": [
    "sub"
   ]
  },
  {
   "cell_type": "markdown",
   "metadata": {},
   "source": [
    "# Ridge Regression"
   ]
  },
  {
   "cell_type": "code",
   "execution_count": 64,
   "metadata": {},
   "outputs": [],
   "source": [
    "from sklearn.linear_model import Ridge"
   ]
  },
  {
   "cell_type": "code",
   "execution_count": 65,
   "metadata": {},
   "outputs": [],
   "source": [
    "rg = Ridge(random_state=42)"
   ]
  },
  {
   "cell_type": "code",
   "execution_count": 66,
   "metadata": {},
   "outputs": [
    {
     "data": {
      "text/plain": [
       "Ridge(random_state=42)"
      ]
     },
     "execution_count": 66,
     "metadata": {},
     "output_type": "execute_result"
    }
   ],
   "source": [
    "rg.fit(X,y)"
   ]
  },
  {
   "cell_type": "code",
   "execution_count": 67,
   "metadata": {},
   "outputs": [],
   "source": [
    "rg_pred = rg.predict(X)"
   ]
  },
  {
   "cell_type": "code",
   "execution_count": 68,
   "metadata": {},
   "outputs": [
    {
     "name": "stdout",
     "output_type": "stream",
     "text": [
      "44749484.84584365\n"
     ]
    }
   ],
   "source": [
    "print((mean_absolute_error(y,rg_pred)))"
   ]
  },
  {
   "cell_type": "markdown",
   "metadata": {},
   "source": [
    "# XGB Regressor"
   ]
  },
  {
   "cell_type": "code",
   "execution_count": 69,
   "metadata": {},
   "outputs": [],
   "source": [
    "from sklearn.model_selection import GridSearchCV, cross_validate\n",
    "from xgboost import XGBRegressor\n",
    "from sklearn.model_selection import RepeatedKFold"
   ]
  },
  {
   "cell_type": "code",
   "execution_count": 70,
   "metadata": {},
   "outputs": [],
   "source": [
    "xgb = XGBRegressor(objective='reg:linear',learning_rate=.1,max_depth=20,eval_metric='rmse')"
   ]
  },
  {
   "cell_type": "code",
   "execution_count": 71,
   "metadata": {},
   "outputs": [
    {
     "name": "stdout",
     "output_type": "stream",
     "text": [
      "[10:00:54] WARNING: d:\\bld\\xgboost-split_1619725139497\\work\\src\\objective\\regression_obj.cu:171: reg:linear is now deprecated in favor of reg:squarederror.\n"
     ]
    },
    {
     "data": {
      "text/plain": [
       "XGBRegressor(base_score=0.5, booster='gbtree', colsample_bylevel=1,\n",
       "             colsample_bynode=1, colsample_bytree=1, eval_metric='rmse',\n",
       "             gamma=0, gpu_id=-1, importance_type='gain',\n",
       "             interaction_constraints='', learning_rate=0.1, max_delta_step=0,\n",
       "             max_depth=20, min_child_weight=1, missing=nan,\n",
       "             monotone_constraints='()', n_estimators=100, n_jobs=8,\n",
       "             num_parallel_tree=1, objective='reg:linear', random_state=0,\n",
       "             reg_alpha=0, reg_lambda=1, scale_pos_weight=1, subsample=1,\n",
       "             tree_method='exact', validate_parameters=1, verbosity=None)"
      ]
     },
     "execution_count": 71,
     "metadata": {},
     "output_type": "execute_result"
    }
   ],
   "source": [
    "xgb.fit(X,y)"
   ]
  },
  {
   "cell_type": "code",
   "execution_count": 72,
   "metadata": {},
   "outputs": [
    {
     "name": "stderr",
     "output_type": "stream",
     "text": [
      "E:\\conda\\lib\\site-packages\\xgboost\\data.py:112: UserWarning: Use subset (sliced data) of np.ndarray is not recommended because it will generate extra copies and increase memory consumption\n",
      "  warnings.warn(\n"
     ]
    }
   ],
   "source": [
    "x_pred = xgb.predict(X)"
   ]
  },
  {
   "cell_type": "code",
   "execution_count": 73,
   "metadata": {},
   "outputs": [
    {
     "name": "stdout",
     "output_type": "stream",
     "text": [
      "330834.4392000761\n"
     ]
    }
   ],
   "source": [
    "print((mean_squared_error(y,x_pred,squared=False)))"
   ]
  },
  {
   "cell_type": "code",
   "execution_count": 74,
   "metadata": {},
   "outputs": [
    {
     "name": "stdout",
     "output_type": "stream",
     "text": [
      "86142.13370555062\n"
     ]
    }
   ],
   "source": [
    "print((mean_absolute_error(y,x_pred)))"
   ]
  },
  {
   "cell_type": "markdown",
   "metadata": {},
   "source": [
    "# LightGbm Regression"
   ]
  },
  {
   "cell_type": "code",
   "execution_count": 75,
   "metadata": {},
   "outputs": [],
   "source": [
    "import lightgbm as lgb"
   ]
  },
  {
   "cell_type": "code",
   "execution_count": 76,
   "metadata": {},
   "outputs": [],
   "source": [
    "lgb_model = lgb.LGBMRegressor(objective='regression',\n",
    "                              learning_rate=.99, n_estimators=1000,max_depth=12,num_leaves=45,random_state=42)"
   ]
  },
  {
   "cell_type": "code",
   "execution_count": 77,
   "metadata": {},
   "outputs": [
    {
     "data": {
      "text/plain": [
       "LGBMRegressor(learning_rate=0.99, max_depth=12, n_estimators=1000,\n",
       "              num_leaves=45, objective='regression', random_state=42)"
      ]
     },
     "execution_count": 77,
     "metadata": {},
     "output_type": "execute_result"
    }
   ],
   "source": [
    "lgb_model.fit(X,y)\n"
   ]
  },
  {
   "cell_type": "code",
   "execution_count": 78,
   "metadata": {},
   "outputs": [],
   "source": [
    "#cv = RepeatedKFold(n_splits=5, n_repeats=3, random_state=42)"
   ]
  },
  {
   "cell_type": "code",
   "execution_count": 79,
   "metadata": {},
   "outputs": [],
   "source": [
    "lgb_pred = lgb_model.predict(X)"
   ]
  },
  {
   "cell_type": "code",
   "execution_count": 80,
   "metadata": {},
   "outputs": [
    {
     "name": "stdout",
     "output_type": "stream",
     "text": [
      "51.63859145189892\n"
     ]
    }
   ],
   "source": [
    "print(np.sqrt(mean_squared_error(y, lgb_pred)))"
   ]
  },
  {
   "cell_type": "markdown",
   "metadata": {},
   "source": [
    "# Tpot Regressor"
   ]
  },
  {
   "cell_type": "markdown",
   "metadata": {},
   "source": [
    "### For 3 Generations"
   ]
  },
  {
   "cell_type": "code",
   "execution_count": 81,
   "metadata": {},
   "outputs": [],
   "source": [
    "from tpot import TPOTRegressor"
   ]
  },
  {
   "cell_type": "code",
   "execution_count": 82,
   "metadata": {},
   "outputs": [],
   "source": [
    "cv = RepeatedKFold(n_splits=10, n_repeats=3, random_state=42)"
   ]
  },
  {
   "cell_type": "code",
   "execution_count": 92,
   "metadata": {},
   "outputs": [],
   "source": [
    "tp = TPOTRegressor(generations=3, population_size=50, cv=cv, scoring='neg_mean_squared_log_error', verbosity=2 ,random_state=42, n_jobs=-1)"
   ]
  },
  {
   "cell_type": "code",
   "execution_count": null,
   "metadata": {},
   "outputs": [],
   "source": [
    "cv"
   ]
  },
  {
   "cell_type": "code",
   "execution_count": null,
   "metadata": {},
   "outputs": [],
   "source": [
    "tp.fit(X,y)"
   ]
  },
  {
   "cell_type": "code",
   "execution_count": null,
   "metadata": {},
   "outputs": [],
   "source": [
    "tp.export('tpot_movie.py')"
   ]
  },
  {
   "cell_type": "code",
   "execution_count": 83,
   "metadata": {},
   "outputs": [],
   "source": [
    "xgb_tune = XGBRegressor(learning_rate=0.01, max_depth=8, min_child_weight=5, n_estimators=100, n_jobs=1, objective='reg:squarederror', subsample=0.4, verbosity=0)"
   ]
  },
  {
   "cell_type": "code",
   "execution_count": 84,
   "metadata": {},
   "outputs": [],
   "source": [
    "if hasattr(xgb_tune, 'random_state'):\n",
    "    setattr(xgb_tune, 'random_state', 42)"
   ]
  },
  {
   "cell_type": "code",
   "execution_count": 85,
   "metadata": {},
   "outputs": [
    {
     "data": {
      "text/plain": [
       "XGBRegressor(base_score=0.5, booster='gbtree', colsample_bylevel=1,\n",
       "             colsample_bynode=1, colsample_bytree=1, gamma=0, gpu_id=-1,\n",
       "             importance_type='gain', interaction_constraints='',\n",
       "             learning_rate=0.01, max_delta_step=0, max_depth=8,\n",
       "             min_child_weight=5, missing=nan, monotone_constraints='()',\n",
       "             n_estimators=100, n_jobs=1, num_parallel_tree=1, random_state=42,\n",
       "             reg_alpha=0, reg_lambda=1, scale_pos_weight=1, subsample=0.4,\n",
       "             tree_method='exact', validate_parameters=1, verbosity=0)"
      ]
     },
     "execution_count": 85,
     "metadata": {},
     "output_type": "execute_result"
    }
   ],
   "source": [
    "xgb_tune.fit(X,y)"
   ]
  },
  {
   "cell_type": "code",
   "execution_count": 86,
   "metadata": {},
   "outputs": [
    {
     "name": "stderr",
     "output_type": "stream",
     "text": [
      "E:\\conda\\lib\\site-packages\\xgboost\\data.py:112: UserWarning: Use subset (sliced data) of np.ndarray is not recommended because it will generate extra copies and increase memory consumption\n",
      "  warnings.warn(\n"
     ]
    }
   ],
   "source": [
    "result = xgb_tune.predict(X)"
   ]
  },
  {
   "cell_type": "code",
   "execution_count": 87,
   "metadata": {},
   "outputs": [
    {
     "name": "stdout",
     "output_type": "stream",
     "text": [
      "2.4075017957220886\n"
     ]
    }
   ],
   "source": [
    "print(np.sqrt(mean_squared_log_error(y,result)))"
   ]
  },
  {
   "cell_type": "markdown",
   "metadata": {},
   "source": [
    "### For 5 Generations"
   ]
  },
  {
   "cell_type": "code",
   "execution_count": null,
   "metadata": {},
   "outputs": [],
   "source": [
    "tp1 = TPOTRegressor(generations=5, population_size=50, cv=cv, scoring='neg_mean_squared_log_error', verbosity=2 ,random_state=42, n_jobs=-1)"
   ]
  },
  {
   "cell_type": "code",
   "execution_count": null,
   "metadata": {},
   "outputs": [],
   "source": []
  },
  {
   "cell_type": "code",
   "execution_count": null,
   "metadata": {},
   "outputs": [],
   "source": [
    "tp1.fit(X,y)"
   ]
  },
  {
   "cell_type": "code",
   "execution_count": null,
   "metadata": {},
   "outputs": [],
   "source": [
    "tp1.export('tpot_movie1.py')"
   ]
  },
  {
   "cell_type": "code",
   "execution_count": 88,
   "metadata": {},
   "outputs": [],
   "source": [
    "from sklearn.pipeline import make_pipeline, make_union\n",
    "from tpot.builtins import StackingEstimator"
   ]
  },
  {
   "cell_type": "code",
   "execution_count": 89,
   "metadata": {},
   "outputs": [],
   "source": [
    "exported_pipeline = make_pipeline(\n",
    "    StackingEstimator(estimator=RandomForestRegressor(bootstrap=False, max_features=0.3, min_samples_leaf=20, min_samples_split=20, n_estimators=100)),\n",
    "    StackingEstimator(estimator=RandomForestRegressor(bootstrap=False, max_features=0.25, min_samples_leaf=14, min_samples_split=7, n_estimators=100)),\n",
    "    RandomForestRegressor(bootstrap=False, max_features=0.6500000000000001, min_samples_leaf=9, min_samples_split=18, n_estimators=100)\n",
    ")"
   ]
  },
  {
   "cell_type": "code",
   "execution_count": 90,
   "metadata": {},
   "outputs": [],
   "source": [
    "from tpot.export_utils import set_param_recursive\n",
    "set_param_recursive(exported_pipeline.steps, 'random_state', 42)"
   ]
  },
  {
   "cell_type": "code",
   "execution_count": 91,
   "metadata": {},
   "outputs": [
    {
     "data": {
      "text/plain": [
       "Pipeline(steps=[('stackingestimator-1',\n",
       "                 StackingEstimator(estimator=RandomForestRegressor(bootstrap=False,\n",
       "                                                                   max_features=0.3,\n",
       "                                                                   min_samples_leaf=20,\n",
       "                                                                   min_samples_split=20,\n",
       "                                                                   random_state=42))),\n",
       "                ('stackingestimator-2',\n",
       "                 StackingEstimator(estimator=RandomForestRegressor(bootstrap=False,\n",
       "                                                                   max_features=0.25,\n",
       "                                                                   min_samples_leaf=14,\n",
       "                                                                   min_samples_split=7,\n",
       "                                                                   random_state=42))),\n",
       "                ('randomforestregressor',\n",
       "                 RandomForestRegressor(bootstrap=False,\n",
       "                                       max_features=0.6500000000000001,\n",
       "                                       min_samples_leaf=9, min_samples_split=18,\n",
       "                                       random_state=42))])"
      ]
     },
     "execution_count": 91,
     "metadata": {},
     "output_type": "execute_result"
    }
   ],
   "source": [
    "exported_pipeline.fit(X,y)"
   ]
  },
  {
   "cell_type": "code",
   "execution_count": 92,
   "metadata": {},
   "outputs": [],
   "source": [
    "results_1 = exported_pipeline.predict(X)\n"
   ]
  },
  {
   "cell_type": "code",
   "execution_count": 93,
   "metadata": {},
   "outputs": [
    {
     "name": "stdout",
     "output_type": "stream",
     "text": [
      "2.0266818994844495\n"
     ]
    }
   ],
   "source": [
    "print(np.sqrt(mean_squared_log_error(y,results_1)))"
   ]
  },
  {
   "cell_type": "markdown",
   "metadata": {},
   "source": [
    "### For 10 Generations"
   ]
  },
  {
   "cell_type": "code",
   "execution_count": null,
   "metadata": {},
   "outputs": [],
   "source": [
    "tp2 = TPOTRegressor(generations=10, population_size=50, cv=cv, scoring='neg_mean_squared_log_error', verbosity=2 ,random_state=42, n_jobs=-1)"
   ]
  },
  {
   "cell_type": "code",
   "execution_count": null,
   "metadata": {},
   "outputs": [],
   "source": [
    "tp2.fit(X,y)"
   ]
  },
  {
   "cell_type": "code",
   "execution_count": null,
   "metadata": {},
   "outputs": [],
   "source": [
    "tp2.export('tpot_movie2.py')"
   ]
  },
  {
   "cell_type": "code",
   "execution_count": 94,
   "metadata": {},
   "outputs": [],
   "source": [
    "from sklearn.ensemble import ExtraTreesRegressor, GradientBoostingRegressor\n",
    "from sklearn.linear_model import ElasticNetCV"
   ]
  },
  {
   "cell_type": "code",
   "execution_count": 95,
   "metadata": {},
   "outputs": [],
   "source": [
    "exported_pipeline_1 = make_pipeline(\n",
    "    StackingEstimator(estimator=ExtraTreesRegressor(bootstrap=True, max_features=1.0, min_samples_leaf=4, min_samples_split=16, n_estimators=100)),\n",
    "    StackingEstimator(estimator=GradientBoostingRegressor(alpha=0.75, learning_rate=0.1, loss=\"quantile\", max_depth=3, max_features=0.1, min_samples_leaf=5, min_samples_split=12, n_estimators=100, subsample=1.0)),\n",
    "    StackingEstimator(estimator=ElasticNetCV(l1_ratio=1.0, tol=1e-05)),\n",
    "    XGBRegressor(learning_rate=0.01, max_depth=8, min_child_weight=5, n_estimators=100, n_jobs=1, objective=\"reg:squarederror\", subsample=0.4, verbosity=0))"
   ]
  },
  {
   "cell_type": "code",
   "execution_count": 96,
   "metadata": {},
   "outputs": [],
   "source": [
    "set_param_recursive(exported_pipeline_1.steps, 'random_state', 42)"
   ]
  },
  {
   "cell_type": "code",
   "execution_count": 97,
   "metadata": {},
   "outputs": [
    {
     "name": "stderr",
     "output_type": "stream",
     "text": [
      "E:\\conda\\lib\\site-packages\\xgboost\\data.py:112: UserWarning: Use subset (sliced data) of np.ndarray is not recommended because it will generate extra copies and increase memory consumption\n",
      "  warnings.warn(\n"
     ]
    }
   ],
   "source": [
    "exported_pipeline_1.fit(X,y)\n",
    "results_2 = exported_pipeline_1.predict(X)"
   ]
  },
  {
   "cell_type": "code",
   "execution_count": 98,
   "metadata": {},
   "outputs": [
    {
     "name": "stdout",
     "output_type": "stream",
     "text": [
      "2.1204531929549684\n"
     ]
    }
   ],
   "source": [
    "print(np.sqrt(mean_squared_log_error(y,results_2)))"
   ]
  },
  {
   "cell_type": "markdown",
   "metadata": {},
   "source": [
    "# For 8 generations\n"
   ]
  },
  {
   "cell_type": "code",
   "execution_count": 134,
   "metadata": {},
   "outputs": [],
   "source": [
    "tp3 = TPOTRegressor(generations=8, population_size=50, cv=cv, scoring='neg_mean_squared_log_error', verbosity=2 ,random_state=42, n_jobs=-1)"
   ]
  },
  {
   "cell_type": "code",
   "execution_count": 135,
   "metadata": {},
   "outputs": [
    {
     "data": {
      "application/vnd.jupyter.widget-view+json": {
       "model_id": "",
       "version_major": 2,
       "version_minor": 0
      },
      "text/plain": [
       "HBox(children=(FloatProgress(value=0.0, description='Optimization Progress', max=450.0, style=ProgressStyle(de…"
      ]
     },
     "metadata": {},
     "output_type": "display_data"
    },
    {
     "name": "stdout",
     "output_type": "stream",
     "text": [
      "\n",
      "Generation 1 - Current best internal CV score: -6.132301227824837\n",
      "\n",
      "Generation 2 - Current best internal CV score: -6.044429200464452\n",
      "\n",
      "Generation 3 - Current best internal CV score: -6.0259048685209375\n",
      "\n",
      "Generation 4 - Current best internal CV score: -5.91120892017186\n",
      "\n",
      "Generation 5 - Current best internal CV score: -5.91120892017186\n",
      "\n",
      "Generation 6 - Current best internal CV score: -5.91120892017186\n",
      "\n",
      "Generation 7 - Current best internal CV score: -5.45464731872582\n",
      "\n",
      "Generation 8 - Current best internal CV score: -5.453911702498494\n",
      "\n",
      "Best pipeline: XGBRegressor(RandomForestRegressor(input_matrix, bootstrap=False, max_features=0.8, min_samples_leaf=5, min_samples_split=9, n_estimators=100), learning_rate=0.01, max_depth=8, min_child_weight=5, n_estimators=100, n_jobs=1, objective=reg:squarederror, subsample=0.7000000000000001, verbosity=0)\n"
     ]
    },
    {
     "data": {
      "text/plain": [
       "TPOTRegressor(cv=RepeatedKFold(n_repeats=3, n_splits=10, random_state=42),\n",
       "              generations=8, n_jobs=-1, population_size=50, random_state=42,\n",
       "              scoring='neg_mean_squared_log_error', verbosity=2)"
      ]
     },
     "execution_count": 135,
     "metadata": {},
     "output_type": "execute_result"
    }
   ],
   "source": [
    "tp3.fit(X,y)"
   ]
  },
  {
   "cell_type": "code",
   "execution_count": 136,
   "metadata": {},
   "outputs": [],
   "source": [
    "tp3.export('tpot_movie3.py')"
   ]
  },
  {
   "cell_type": "code",
   "execution_count": 99,
   "metadata": {},
   "outputs": [],
   "source": [
    "tp3_ = make_pipeline(\n",
    "    StackingEstimator(estimator=RandomForestRegressor(bootstrap=False, max_features=0.8, min_samples_leaf=5, min_samples_split=9, n_estimators=100)),\n",
    "    XGBRegressor(learning_rate=0.01, max_depth=8, min_child_weight=5, n_estimators=100, n_jobs=1, objective=\"reg:squarederror\", subsample=0.7000000000000001, verbosity=0))"
   ]
  },
  {
   "cell_type": "code",
   "execution_count": 100,
   "metadata": {},
   "outputs": [],
   "source": [
    "set_param_recursive(tp3_.steps, 'random_state', 42)\n"
   ]
  },
  {
   "cell_type": "code",
   "execution_count": 101,
   "metadata": {},
   "outputs": [
    {
     "name": "stderr",
     "output_type": "stream",
     "text": [
      "E:\\conda\\lib\\site-packages\\xgboost\\data.py:112: UserWarning: Use subset (sliced data) of np.ndarray is not recommended because it will generate extra copies and increase memory consumption\n",
      "  warnings.warn(\n"
     ]
    }
   ],
   "source": [
    "tp3_.fit(X,y)\n",
    "tp3_result= tp3_.predict(X)"
   ]
  },
  {
   "cell_type": "code",
   "execution_count": 102,
   "metadata": {},
   "outputs": [
    {
     "name": "stdout",
     "output_type": "stream",
     "text": [
      "1.8436741835439865\n"
     ]
    }
   ],
   "source": [
    "print(np.sqrt(mean_squared_log_error(y,tp3_result)))"
   ]
  },
  {
   "cell_type": "markdown",
   "metadata": {},
   "source": [
    "# 12 generations"
   ]
  },
  {
   "cell_type": "code",
   "execution_count": 138,
   "metadata": {},
   "outputs": [],
   "source": [
    "tp_12 = TPOTRegressor(generations=12, population_size=50, cv=cv, scoring='neg_mean_squared_log_error', verbosity=2 ,random_state=42, n_jobs=-1)"
   ]
  },
  {
   "cell_type": "code",
   "execution_count": 139,
   "metadata": {},
   "outputs": [
    {
     "data": {
      "application/vnd.jupyter.widget-view+json": {
       "model_id": "",
       "version_major": 2,
       "version_minor": 0
      },
      "text/plain": [
       "HBox(children=(FloatProgress(value=0.0, description='Optimization Progress', max=650.0, style=ProgressStyle(de…"
      ]
     },
     "metadata": {},
     "output_type": "display_data"
    },
    {
     "name": "stdout",
     "output_type": "stream",
     "text": [
      "\n",
      "Generation 1 - Current best internal CV score: -6.132301227824837\n",
      "\n",
      "Generation 2 - Current best internal CV score: -6.044429200464452\n",
      "\n",
      "Generation 3 - Current best internal CV score: -6.0259048685209375\n",
      "\n",
      "Generation 4 - Current best internal CV score: -5.91120892017186\n",
      "\n",
      "Generation 5 - Current best internal CV score: -5.91120892017186\n",
      "\n",
      "Generation 6 - Current best internal CV score: -5.91120892017186\n",
      "\n",
      "Generation 7 - Current best internal CV score: -5.45464731872582\n",
      "\n",
      "Generation 8 - Current best internal CV score: -5.453911702498494\n",
      "\n",
      "Generation 9 - Current best internal CV score: -5.453911702498494\n",
      "\n",
      "Generation 10 - Current best internal CV score: -5.444283708170085\n",
      "\n",
      "Generation 11 - Current best internal CV score: -5.444283708170085\n",
      "\n",
      "Generation 12 - Current best internal CV score: -5.387815045587571\n",
      "\n",
      "Best pipeline: XGBRegressor(RandomForestRegressor(input_matrix, bootstrap=False, max_features=0.8, min_samples_leaf=5, min_samples_split=9, n_estimators=100), learning_rate=0.01, max_depth=8, min_child_weight=5, n_estimators=100, n_jobs=1, objective=reg:squarederror, subsample=0.05, verbosity=0)\n"
     ]
    },
    {
     "data": {
      "text/plain": [
       "TPOTRegressor(cv=RepeatedKFold(n_repeats=3, n_splits=10, random_state=42),\n",
       "              generations=12, n_jobs=-1, population_size=50, random_state=42,\n",
       "              scoring='neg_mean_squared_log_error', verbosity=2)"
      ]
     },
     "execution_count": 139,
     "metadata": {},
     "output_type": "execute_result"
    }
   ],
   "source": [
    "tp_12.fit(X,y)"
   ]
  },
  {
   "cell_type": "code",
   "execution_count": 140,
   "metadata": {},
   "outputs": [],
   "source": [
    "tp_12.export('tpot_movie_12.py')"
   ]
  },
  {
   "cell_type": "code",
   "execution_count": 141,
   "metadata": {},
   "outputs": [],
   "source": [
    "exported_pipeline_12= make_pipeline(\n",
    "    StackingEstimator(estimator=RandomForestRegressor(bootstrap=False, max_features=0.8, min_samples_leaf=5, min_samples_split=9, n_estimators=100)),\n",
    "    XGBRegressor(learning_rate=0.01, max_depth=8, min_child_weight=5, n_estimators=100, n_jobs=1, objective=\"reg:squarederror\", subsample=0.05, verbosity=0)\n",
    ")"
   ]
  },
  {
   "cell_type": "code",
   "execution_count": 142,
   "metadata": {},
   "outputs": [],
   "source": [
    "set_param_recursive(exported_pipeline_12.steps, 'random_state', 42)"
   ]
  },
  {
   "cell_type": "code",
   "execution_count": 143,
   "metadata": {},
   "outputs": [
    {
     "data": {
      "text/plain": [
       "Pipeline(steps=[('stackingestimator',\n",
       "                 StackingEstimator(estimator=RandomForestRegressor(bootstrap=False,\n",
       "                                                                   max_features=0.8,\n",
       "                                                                   min_samples_leaf=5,\n",
       "                                                                   min_samples_split=9,\n",
       "                                                                   random_state=42))),\n",
       "                ('xgbregressor',\n",
       "                 XGBRegressor(base_score=0.5, booster='gbtree',\n",
       "                              colsample_bylevel=1, colsample_bynode=1,\n",
       "                              colsample_bytree=1, gamma=0, gpu_id=-1,\n",
       "                              importance_type='gain',\n",
       "                              interaction_constraints='', learning_rate=0.01,\n",
       "                              max_delta_step=0, max_depth=8, min_child_weight=5,\n",
       "                              missing=nan, monotone_constraints='()',\n",
       "                              n_estimators=100, n_jobs=1, num_parallel_tree=1,\n",
       "                              random_state=42, reg_alpha=0, reg_lambda=1,\n",
       "                              scale_pos_weight=1, subsample=0.05,\n",
       "                              tree_method='exact', validate_parameters=1,\n",
       "                              verbosity=0))])"
      ]
     },
     "execution_count": 143,
     "metadata": {},
     "output_type": "execute_result"
    }
   ],
   "source": [
    "exported_pipeline_12.fit(X,y)"
   ]
  },
  {
   "cell_type": "code",
   "execution_count": 145,
   "metadata": {},
   "outputs": [
    {
     "name": "stderr",
     "output_type": "stream",
     "text": [
      "E:\\conda\\lib\\site-packages\\xgboost\\data.py:112: UserWarning: Use subset (sliced data) of np.ndarray is not recommended because it will generate extra copies and increase memory consumption\n",
      "  warnings.warn(\n"
     ]
    }
   ],
   "source": [
    "tp12_results = exported_pipeline_12.predict(X)"
   ]
  },
  {
   "cell_type": "code",
   "execution_count": 146,
   "metadata": {},
   "outputs": [
    {
     "name": "stdout",
     "output_type": "stream",
     "text": [
      "1.931797091107107\n"
     ]
    }
   ],
   "source": [
    "print(np.sqrt(mean_squared_log_error(y,tp12_results)))"
   ]
  },
  {
   "cell_type": "markdown",
   "metadata": {},
   "source": [
    "# 15 Generation"
   ]
  },
  {
   "cell_type": "code",
   "execution_count": 147,
   "metadata": {},
   "outputs": [],
   "source": [
    "tp_15 = TPOTRegressor(generations=15, population_size=50, cv=cv, scoring='neg_mean_squared_log_error', verbosity=2 ,random_state=42, n_jobs=-1)"
   ]
  },
  {
   "cell_type": "code",
   "execution_count": 148,
   "metadata": {},
   "outputs": [
    {
     "data": {
      "application/vnd.jupyter.widget-view+json": {
       "model_id": "",
       "version_major": 2,
       "version_minor": 0
      },
      "text/plain": [
       "HBox(children=(FloatProgress(value=0.0, description='Optimization Progress', max=800.0, style=ProgressStyle(de…"
      ]
     },
     "metadata": {},
     "output_type": "display_data"
    },
    {
     "name": "stdout",
     "output_type": "stream",
     "text": [
      "\n",
      "Generation 1 - Current best internal CV score: -6.132301227824837\n",
      "\n",
      "Generation 2 - Current best internal CV score: -6.044429200464452\n",
      "\n",
      "Generation 3 - Current best internal CV score: -6.0259048685209375\n",
      "\n",
      "Generation 4 - Current best internal CV score: -5.91120892017186\n",
      "\n",
      "Generation 5 - Current best internal CV score: -5.91120892017186\n",
      "\n",
      "Generation 6 - Current best internal CV score: -5.91120892017186\n",
      "\n",
      "Generation 7 - Current best internal CV score: -5.45464731872582\n",
      "\n",
      "Generation 8 - Current best internal CV score: -5.453911702498494\n",
      "\n",
      "Generation 9 - Current best internal CV score: -5.453911702498494\n",
      "\n",
      "Generation 10 - Current best internal CV score: -5.444283708170085\n",
      "\n",
      "Generation 11 - Current best internal CV score: -5.444283708170085\n",
      "\n",
      "Generation 12 - Current best internal CV score: -5.387815045587571\n",
      "\n",
      "Generation 13 - Current best internal CV score: -5.387815045587571\n",
      "\n",
      "Generation 14 - Current best internal CV score: -5.387815045587571\n",
      "\n",
      "Generation 15 - Current best internal CV score: -5.387815045587571\n",
      "\n",
      "Best pipeline: XGBRegressor(RandomForestRegressor(input_matrix, bootstrap=False, max_features=0.8, min_samples_leaf=5, min_samples_split=9, n_estimators=100), learning_rate=0.01, max_depth=8, min_child_weight=5, n_estimators=100, n_jobs=1, objective=reg:squarederror, subsample=0.05, verbosity=0)\n"
     ]
    },
    {
     "data": {
      "text/plain": [
       "TPOTRegressor(cv=RepeatedKFold(n_repeats=3, n_splits=10, random_state=42),\n",
       "              generations=15, n_jobs=-1, population_size=50, random_state=42,\n",
       "              scoring='neg_mean_squared_log_error', verbosity=2)"
      ]
     },
     "execution_count": 148,
     "metadata": {},
     "output_type": "execute_result"
    }
   ],
   "source": [
    "tp_15.fit(X,y)"
   ]
  },
  {
   "cell_type": "code",
   "execution_count": 149,
   "metadata": {},
   "outputs": [],
   "source": [
    "tp_15.export('tpot_movie_15.py')"
   ]
  },
  {
   "cell_type": "code",
   "execution_count": 150,
   "metadata": {},
   "outputs": [],
   "source": [
    "exported_pipeline_15= make_pipeline(\n",
    "    StackingEstimator(estimator=RandomForestRegressor(bootstrap=False, max_features=0.8, min_samples_leaf=5, min_samples_split=9, n_estimators=100)),\n",
    "    XGBRegressor(learning_rate=0.01, max_depth=8, min_child_weight=5, n_estimators=100, n_jobs=1, objective=\"reg:squarederror\", subsample=0.05, verbosity=0)\n",
    ")\n",
    "# Fix random state for all t"
   ]
  },
  {
   "cell_type": "code",
   "execution_count": 151,
   "metadata": {},
   "outputs": [],
   "source": [
    "set_param_recursive(exported_pipeline_15.steps, 'random_state', 42)"
   ]
  },
  {
   "cell_type": "code",
   "execution_count": 152,
   "metadata": {},
   "outputs": [
    {
     "data": {
      "text/plain": [
       "Pipeline(steps=[('stackingestimator',\n",
       "                 StackingEstimator(estimator=RandomForestRegressor(bootstrap=False,\n",
       "                                                                   max_features=0.8,\n",
       "                                                                   min_samples_leaf=5,\n",
       "                                                                   min_samples_split=9,\n",
       "                                                                   random_state=42))),\n",
       "                ('xgbregressor',\n",
       "                 XGBRegressor(base_score=0.5, booster='gbtree',\n",
       "                              colsample_bylevel=1, colsample_bynode=1,\n",
       "                              colsample_bytree=1, gamma=0, gpu_id=-1,\n",
       "                              importance_type='gain',\n",
       "                              interaction_constraints='', learning_rate=0.01,\n",
       "                              max_delta_step=0, max_depth=8, min_child_weight=5,\n",
       "                              missing=nan, monotone_constraints='()',\n",
       "                              n_estimators=100, n_jobs=1, num_parallel_tree=1,\n",
       "                              random_state=42, reg_alpha=0, reg_lambda=1,\n",
       "                              scale_pos_weight=1, subsample=0.05,\n",
       "                              tree_method='exact', validate_parameters=1,\n",
       "                              verbosity=0))])"
      ]
     },
     "execution_count": 152,
     "metadata": {},
     "output_type": "execute_result"
    }
   ],
   "source": [
    "exported_pipeline_15.fit(X,y)"
   ]
  },
  {
   "cell_type": "code",
   "execution_count": 154,
   "metadata": {},
   "outputs": [
    {
     "name": "stderr",
     "output_type": "stream",
     "text": [
      "E:\\conda\\lib\\site-packages\\xgboost\\data.py:112: UserWarning: Use subset (sliced data) of np.ndarray is not recommended because it will generate extra copies and increase memory consumption\n",
      "  warnings.warn(\n"
     ]
    }
   ],
   "source": [
    "\n",
    "tp15_results = exported_pipeline_15.predict(X)\n"
   ]
  },
  {
   "cell_type": "code",
   "execution_count": 155,
   "metadata": {},
   "outputs": [
    {
     "name": "stdout",
     "output_type": "stream",
     "text": [
      "1.931797091107107\n"
     ]
    }
   ],
   "source": [
    "print(np.sqrt(mean_squared_log_error(y,tp15_results)))"
   ]
  },
  {
   "cell_type": "markdown",
   "metadata": {},
   "source": [
    "### 20 Generations"
   ]
  },
  {
   "cell_type": "code",
   "execution_count": 156,
   "metadata": {},
   "outputs": [],
   "source": [
    "tp_20 = TPOTRegressor(generations=20, population_size=50, cv=cv, scoring='neg_mean_squared_log_error', verbosity=2 ,random_state=42, n_jobs=-1)"
   ]
  },
  {
   "cell_type": "code",
   "execution_count": 157,
   "metadata": {},
   "outputs": [
    {
     "data": {
      "application/vnd.jupyter.widget-view+json": {
       "model_id": "",
       "version_major": 2,
       "version_minor": 0
      },
      "text/plain": [
       "HBox(children=(FloatProgress(value=0.0, description='Optimization Progress', max=1050.0, style=ProgressStyle(d…"
      ]
     },
     "metadata": {},
     "output_type": "display_data"
    },
    {
     "name": "stdout",
     "output_type": "stream",
     "text": [
      "\n",
      "Generation 1 - Current best internal CV score: -6.132301227824837\n",
      "\n",
      "Generation 2 - Current best internal CV score: -6.044429200464452\n",
      "\n",
      "Generation 3 - Current best internal CV score: -6.0259048685209375\n",
      "\n",
      "Generation 4 - Current best internal CV score: -5.91120892017186\n",
      "\n",
      "Generation 5 - Current best internal CV score: -5.91120892017186\n",
      "\n",
      "Generation 6 - Current best internal CV score: -5.91120892017186\n",
      "\n",
      "Generation 7 - Current best internal CV score: -5.45464731872582\n",
      "\n",
      "Generation 8 - Current best internal CV score: -5.453911702498494\n",
      "\n",
      "Generation 9 - Current best internal CV score: -5.453911702498494\n",
      "\n",
      "Generation 10 - Current best internal CV score: -5.444283708170085\n",
      "\n",
      "Generation 11 - Current best internal CV score: -5.444283708170085\n",
      "\n",
      "Generation 12 - Current best internal CV score: -5.387815045587571\n",
      "\n",
      "Generation 13 - Current best internal CV score: -5.387815045587571\n",
      "\n",
      "Generation 14 - Current best internal CV score: -5.387815045587571\n",
      "\n",
      "Generation 15 - Current best internal CV score: -5.387815045587571\n",
      "\n",
      "Generation 16 - Current best internal CV score: -5.344866321785346\n",
      "\n",
      "Generation 17 - Current best internal CV score: -5.30592755605629\n",
      "\n",
      "Generation 18 - Current best internal CV score: -5.30592755605629\n",
      "\n",
      "Generation 19 - Current best internal CV score: -5.30592755605629\n",
      "\n",
      "Generation 20 - Current best internal CV score: -5.232322290975473\n",
      "\n",
      "Best pipeline: XGBRegressor(SelectPercentile(RandomForestRegressor(input_matrix, bootstrap=False, max_features=0.6500000000000001, min_samples_leaf=5, min_samples_split=12, n_estimators=100), percentile=12), learning_rate=0.01, max_depth=8, min_child_weight=5, n_estimators=100, n_jobs=1, objective=reg:squarederror, subsample=0.05, verbosity=0)\n"
     ]
    },
    {
     "data": {
      "text/plain": [
       "TPOTRegressor(cv=RepeatedKFold(n_repeats=3, n_splits=10, random_state=42),\n",
       "              generations=20, n_jobs=-1, population_size=50, random_state=42,\n",
       "              scoring='neg_mean_squared_log_error', verbosity=2)"
      ]
     },
     "execution_count": 157,
     "metadata": {},
     "output_type": "execute_result"
    }
   ],
   "source": [
    "tp_20.fit(X,y)"
   ]
  },
  {
   "cell_type": "code",
   "execution_count": 158,
   "metadata": {},
   "outputs": [],
   "source": [
    "tp_20.export('tpot_movie_20.py')"
   ]
  },
  {
   "cell_type": "code",
   "execution_count": 160,
   "metadata": {},
   "outputs": [],
   "source": [
    "from sklearn.feature_selection import SelectPercentile, f_regression"
   ]
  },
  {
   "cell_type": "code",
   "execution_count": 161,
   "metadata": {},
   "outputs": [],
   "source": [
    "exported_pipeline_20 = make_pipeline(\n",
    "    StackingEstimator(estimator=RandomForestRegressor(bootstrap=False, max_features=0.6500000000000001, min_samples_leaf=5, min_samples_split=12, n_estimators=100)),\n",
    "    SelectPercentile(score_func=f_regression, percentile=12),\n",
    "    XGBRegressor(learning_rate=0.01, max_depth=8, min_child_weight=5, n_estimators=100, n_jobs=1, objective=\"reg:squarederror\", subsample=0.05, verbosity=0)\n",
    ")"
   ]
  },
  {
   "cell_type": "code",
   "execution_count": 162,
   "metadata": {},
   "outputs": [],
   "source": [
    "set_param_recursive(exported_pipeline_20.steps, 'random_state', 42)"
   ]
  },
  {
   "cell_type": "code",
   "execution_count": 163,
   "metadata": {},
   "outputs": [
    {
     "data": {
      "text/plain": [
       "Pipeline(steps=[('stackingestimator',\n",
       "                 StackingEstimator(estimator=RandomForestRegressor(bootstrap=False,\n",
       "                                                                   max_features=0.6500000000000001,\n",
       "                                                                   min_samples_leaf=5,\n",
       "                                                                   min_samples_split=12,\n",
       "                                                                   random_state=42))),\n",
       "                ('selectpercentile',\n",
       "                 SelectPercentile(percentile=12,\n",
       "                                  score_func=<function f_regression at 0x0000020A6009AD30>)),\n",
       "                ('xgbregressor',\n",
       "                 XGBRegressor(base_score=0.5, boost...\n",
       "                              colsample_bytree=1, gamma=0, gpu_id=-1,\n",
       "                              importance_type='gain',\n",
       "                              interaction_constraints='', learning_rate=0.01,\n",
       "                              max_delta_step=0, max_depth=8, min_child_weight=5,\n",
       "                              missing=nan, monotone_constraints='()',\n",
       "                              n_estimators=100, n_jobs=1, num_parallel_tree=1,\n",
       "                              random_state=42, reg_alpha=0, reg_lambda=1,\n",
       "                              scale_pos_weight=1, subsample=0.05,\n",
       "                              tree_method='exact', validate_parameters=1,\n",
       "                              verbosity=0))])"
      ]
     },
     "execution_count": 163,
     "metadata": {},
     "output_type": "execute_result"
    }
   ],
   "source": [
    "exported_pipeline_20.fit(X,y)"
   ]
  },
  {
   "cell_type": "code",
   "execution_count": 164,
   "metadata": {},
   "outputs": [],
   "source": [
    "\n",
    "tp20_results = exported_pipeline_20.predict(X)\n"
   ]
  },
  {
   "cell_type": "code",
   "execution_count": 165,
   "metadata": {},
   "outputs": [
    {
     "name": "stdout",
     "output_type": "stream",
     "text": [
      "1.9449428668952302\n"
     ]
    }
   ],
   "source": [
    "print(np.sqrt(mean_squared_log_error(y,tp20_results)))"
   ]
  },
  {
   "cell_type": "code",
   "execution_count": null,
   "metadata": {},
   "outputs": [],
   "source": []
  },
  {
   "cell_type": "markdown",
   "metadata": {},
   "source": [
    "# Lasso Regression"
   ]
  },
  {
   "cell_type": "code",
   "execution_count": 103,
   "metadata": {},
   "outputs": [],
   "source": [
    "from sklearn.linear_model import Lasso"
   ]
  },
  {
   "cell_type": "code",
   "execution_count": 104,
   "metadata": {},
   "outputs": [],
   "source": [
    "ls = Lasso(random_state=42)"
   ]
  },
  {
   "cell_type": "code",
   "execution_count": 105,
   "metadata": {},
   "outputs": [
    {
     "data": {
      "text/plain": [
       "Lasso(random_state=42)"
      ]
     },
     "execution_count": 105,
     "metadata": {},
     "output_type": "execute_result"
    }
   ],
   "source": [
    "ls.fit(X,y)"
   ]
  },
  {
   "cell_type": "code",
   "execution_count": 106,
   "metadata": {},
   "outputs": [],
   "source": [
    "ls_pred = ls.predict(X)"
   ]
  },
  {
   "cell_type": "code",
   "execution_count": 107,
   "metadata": {},
   "outputs": [
    {
     "name": "stdout",
     "output_type": "stream",
     "text": [
      "44749556.1205552\n"
     ]
    }
   ],
   "source": [
    "print(mean_absolute_error(y,ls_pred))"
   ]
  },
  {
   "cell_type": "code",
   "execution_count": 108,
   "metadata": {},
   "outputs": [
    {
     "name": "stdout",
     "output_type": "stream",
     "text": [
      "7226991839808786.0\n"
     ]
    }
   ],
   "source": [
    "print(mean_squared_error(y,ls_pred))"
   ]
  },
  {
   "cell_type": "markdown",
   "metadata": {},
   "source": [
    "# Catboost Regressor"
   ]
  },
  {
   "cell_type": "code",
   "execution_count": 109,
   "metadata": {},
   "outputs": [],
   "source": [
    "from catboost import CatBoostRegressor"
   ]
  },
  {
   "cell_type": "code",
   "execution_count": 110,
   "metadata": {},
   "outputs": [],
   "source": [
    "cat = CatBoostRegressor(iterations=100,\n",
    "                          learning_rate=1,\n",
    "                          depth=15,\n",
    "                       loss_function='RMSE')"
   ]
  },
  {
   "cell_type": "code",
   "execution_count": 111,
   "metadata": {},
   "outputs": [
    {
     "name": "stdout",
     "output_type": "stream",
     "text": [
      "0:\tlearn: 88429449.1895724\ttotal: 613ms\tremaining: 1m\n",
      "1:\tlearn: 70109793.7207163\ttotal: 1.06s\tremaining: 51.8s\n",
      "2:\tlearn: 60459228.6090252\ttotal: 1.5s\tremaining: 48.5s\n",
      "3:\tlearn: 54984653.8380150\ttotal: 1.94s\tremaining: 46.5s\n",
      "4:\tlearn: 47899963.2432816\ttotal: 2.37s\tremaining: 45s\n",
      "5:\tlearn: 43529748.1696466\ttotal: 2.79s\tremaining: 43.8s\n",
      "6:\tlearn: 39486443.5857897\ttotal: 3.23s\tremaining: 42.9s\n",
      "7:\tlearn: 37729214.4764638\ttotal: 3.7s\tremaining: 42.6s\n",
      "8:\tlearn: 34082882.1872759\ttotal: 4.16s\tremaining: 42.1s\n",
      "9:\tlearn: 29731584.1214622\ttotal: 4.62s\tremaining: 41.6s\n",
      "10:\tlearn: 27648625.0462114\ttotal: 5.06s\tremaining: 40.9s\n",
      "11:\tlearn: 25442819.1174407\ttotal: 5.5s\tremaining: 40.3s\n",
      "12:\tlearn: 23762623.3236386\ttotal: 5.9s\tremaining: 39.5s\n",
      "13:\tlearn: 21950418.5811079\ttotal: 6.34s\tremaining: 38.9s\n",
      "14:\tlearn: 19971032.2232914\ttotal: 6.76s\tremaining: 38.3s\n",
      "15:\tlearn: 19092620.7315360\ttotal: 7.19s\tremaining: 37.8s\n",
      "16:\tlearn: 17475735.6192466\ttotal: 7.63s\tremaining: 37.3s\n",
      "17:\tlearn: 16131411.1866333\ttotal: 8.06s\tremaining: 36.7s\n",
      "18:\tlearn: 15248703.1671533\ttotal: 8.5s\tremaining: 36.2s\n",
      "19:\tlearn: 14329435.2953361\ttotal: 8.91s\tremaining: 35.6s\n",
      "20:\tlearn: 13305193.9263999\ttotal: 9.34s\tremaining: 35.1s\n",
      "21:\tlearn: 12723800.5493234\ttotal: 9.76s\tremaining: 34.6s\n",
      "22:\tlearn: 12146046.6072303\ttotal: 10.2s\tremaining: 34.1s\n",
      "23:\tlearn: 12004867.1352995\ttotal: 10.3s\tremaining: 32.6s\n",
      "24:\tlearn: 11516197.5450733\ttotal: 10.7s\tremaining: 32.2s\n",
      "25:\tlearn: 11344338.6854538\ttotal: 11.2s\tremaining: 31.8s\n",
      "26:\tlearn: 10304702.4268341\ttotal: 11.6s\tremaining: 31.4s\n",
      "27:\tlearn: 10192109.9996253\ttotal: 12s\tremaining: 31s\n",
      "28:\tlearn: 9559062.2943356\ttotal: 12.5s\tremaining: 30.6s\n",
      "29:\tlearn: 9193020.2644191\ttotal: 12.9s\tremaining: 30.1s\n",
      "30:\tlearn: 8567677.2913345\ttotal: 13.3s\tremaining: 29.7s\n",
      "31:\tlearn: 8441168.7071475\ttotal: 13.7s\tremaining: 29.2s\n",
      "32:\tlearn: 8144873.3017331\ttotal: 14.2s\tremaining: 28.8s\n",
      "33:\tlearn: 7784150.4722440\ttotal: 14.6s\tremaining: 28.4s\n",
      "34:\tlearn: 7558160.0762390\ttotal: 15s\tremaining: 27.9s\n",
      "35:\tlearn: 7316387.4198019\ttotal: 15.5s\tremaining: 27.5s\n",
      "36:\tlearn: 7078877.1568009\ttotal: 15.9s\tremaining: 27.1s\n",
      "37:\tlearn: 6713076.8942628\ttotal: 16.3s\tremaining: 26.6s\n",
      "38:\tlearn: 6144368.7700442\ttotal: 16.7s\tremaining: 26.2s\n",
      "39:\tlearn: 5740793.2060379\ttotal: 17.2s\tremaining: 25.8s\n",
      "40:\tlearn: 5649453.6291511\ttotal: 17.6s\tremaining: 25.3s\n",
      "41:\tlearn: 5404080.3785765\ttotal: 18s\tremaining: 24.9s\n",
      "42:\tlearn: 5210236.1766457\ttotal: 18.5s\tremaining: 24.5s\n",
      "43:\tlearn: 4950588.4414688\ttotal: 18.9s\tremaining: 24s\n",
      "44:\tlearn: 4768580.2005352\ttotal: 19.4s\tremaining: 23.7s\n",
      "45:\tlearn: 4466052.7663122\ttotal: 19.8s\tremaining: 23.3s\n",
      "46:\tlearn: 4233979.2524846\ttotal: 20.3s\tremaining: 22.9s\n",
      "47:\tlearn: 4149853.4539077\ttotal: 20.7s\tremaining: 22.4s\n",
      "48:\tlearn: 4017492.8423159\ttotal: 21.1s\tremaining: 22s\n",
      "49:\tlearn: 3866327.1347213\ttotal: 21.6s\tremaining: 21.6s\n",
      "50:\tlearn: 3594678.9060636\ttotal: 22s\tremaining: 21.1s\n",
      "51:\tlearn: 3505513.6336429\ttotal: 22.4s\tremaining: 20.7s\n",
      "52:\tlearn: 3385760.9596670\ttotal: 22.9s\tremaining: 20.3s\n",
      "53:\tlearn: 3211738.5831598\ttotal: 23.3s\tremaining: 19.8s\n",
      "54:\tlearn: 3050612.5832368\ttotal: 23.7s\tremaining: 19.4s\n",
      "55:\tlearn: 2925166.5875144\ttotal: 24.1s\tremaining: 19s\n",
      "56:\tlearn: 2825762.0985315\ttotal: 24.6s\tremaining: 18.5s\n",
      "57:\tlearn: 2666114.8496818\ttotal: 25s\tremaining: 18.1s\n",
      "58:\tlearn: 2506830.1387463\ttotal: 25.4s\tremaining: 17.7s\n",
      "59:\tlearn: 2378657.1017677\ttotal: 25.9s\tremaining: 17.2s\n",
      "60:\tlearn: 2230600.6025600\ttotal: 26.3s\tremaining: 16.8s\n",
      "61:\tlearn: 2130516.5905102\ttotal: 26.7s\tremaining: 16.4s\n",
      "62:\tlearn: 2005087.8073104\ttotal: 27.2s\tremaining: 16s\n",
      "63:\tlearn: 1915266.3727238\ttotal: 27.6s\tremaining: 15.5s\n",
      "64:\tlearn: 1832557.4877959\ttotal: 28s\tremaining: 15.1s\n",
      "65:\tlearn: 1736239.8990545\ttotal: 28.5s\tremaining: 14.7s\n",
      "66:\tlearn: 1697724.4800586\ttotal: 28.6s\tremaining: 14.1s\n",
      "67:\tlearn: 1636543.9332125\ttotal: 28.7s\tremaining: 13.5s\n",
      "68:\tlearn: 1569573.3509164\ttotal: 29.1s\tremaining: 13.1s\n",
      "69:\tlearn: 1498215.4254325\ttotal: 29.5s\tremaining: 12.7s\n",
      "70:\tlearn: 1469038.1387889\ttotal: 30s\tremaining: 12.2s\n",
      "71:\tlearn: 1394234.7510207\ttotal: 30.4s\tremaining: 11.8s\n",
      "72:\tlearn: 1333176.2807789\ttotal: 30.8s\tremaining: 11.4s\n",
      "73:\tlearn: 1264545.6169285\ttotal: 31.3s\tremaining: 11s\n",
      "74:\tlearn: 1198752.3452402\ttotal: 31.7s\tremaining: 10.6s\n",
      "75:\tlearn: 1153983.0407202\ttotal: 32.1s\tremaining: 10.1s\n",
      "76:\tlearn: 1098553.7262162\ttotal: 32.5s\tremaining: 9.72s\n",
      "77:\tlearn: 1046512.9656289\ttotal: 33s\tremaining: 9.3s\n",
      "78:\tlearn: 1025133.8547907\ttotal: 33.4s\tremaining: 8.89s\n",
      "79:\tlearn: 979686.9078778\ttotal: 33.9s\tremaining: 8.47s\n",
      "80:\tlearn: 949583.8189331\ttotal: 34.4s\tremaining: 8.06s\n",
      "81:\tlearn: 920535.6090739\ttotal: 34.9s\tremaining: 7.65s\n",
      "82:\tlearn: 877468.3996181\ttotal: 35.4s\tremaining: 7.25s\n",
      "83:\tlearn: 844989.6912294\ttotal: 35.9s\tremaining: 6.83s\n",
      "84:\tlearn: 802368.2840636\ttotal: 36.3s\tremaining: 6.41s\n",
      "85:\tlearn: 767632.9940259\ttotal: 36.8s\tremaining: 5.99s\n",
      "86:\tlearn: 718588.7947404\ttotal: 37.3s\tremaining: 5.57s\n",
      "87:\tlearn: 700964.8981156\ttotal: 37.8s\tremaining: 5.15s\n",
      "88:\tlearn: 688140.1326466\ttotal: 38.2s\tremaining: 4.72s\n",
      "89:\tlearn: 665631.6335972\ttotal: 38.7s\tremaining: 4.3s\n",
      "90:\tlearn: 657384.4512362\ttotal: 39.1s\tremaining: 3.87s\n",
      "91:\tlearn: 626207.2792549\ttotal: 39.6s\tremaining: 3.44s\n",
      "92:\tlearn: 601349.4058150\ttotal: 40.1s\tremaining: 3.02s\n",
      "93:\tlearn: 577958.6356919\ttotal: 40.6s\tremaining: 2.59s\n",
      "94:\tlearn: 556995.7509145\ttotal: 41.2s\tremaining: 2.17s\n",
      "95:\tlearn: 545991.7639747\ttotal: 41.7s\tremaining: 1.74s\n",
      "96:\tlearn: 526394.3158863\ttotal: 42.1s\tremaining: 1.3s\n",
      "97:\tlearn: 513823.3218717\ttotal: 42.6s\tremaining: 870ms\n",
      "98:\tlearn: 500312.0567688\ttotal: 43.1s\tremaining: 436ms\n",
      "99:\tlearn: 487700.9625470\ttotal: 43.7s\tremaining: 0us\n"
     ]
    },
    {
     "data": {
      "text/plain": [
       "<catboost.core.CatBoostRegressor at 0x20a614ca340>"
      ]
     },
     "execution_count": 111,
     "metadata": {},
     "output_type": "execute_result"
    }
   ],
   "source": [
    "cat.fit(X,y)"
   ]
  },
  {
   "cell_type": "code",
   "execution_count": 112,
   "metadata": {},
   "outputs": [],
   "source": [
    "cat_pred = cat.predict(X)"
   ]
  },
  {
   "cell_type": "code",
   "execution_count": 113,
   "metadata": {},
   "outputs": [
    {
     "name": "stdout",
     "output_type": "stream",
     "text": [
      "487701.0373790709\n"
     ]
    }
   ],
   "source": [
    "print(np.sqrt(mean_squared_error(y,cat_pred)))"
   ]
  },
  {
   "cell_type": "code",
   "execution_count": 114,
   "metadata": {},
   "outputs": [],
   "source": [
    "from sklearn.metrics import r2_score\n",
    "r2 = r2_score(y, cat_pred)"
   ]
  },
  {
   "cell_type": "code",
   "execution_count": 115,
   "metadata": {},
   "outputs": [
    {
     "data": {
      "text/plain": [
       "0.9999874211027519"
      ]
     },
     "execution_count": 115,
     "metadata": {},
     "output_type": "execute_result"
    }
   ],
   "source": [
    "r2"
   ]
  },
  {
   "cell_type": "markdown",
   "metadata": {},
   "source": [
    "# Gradient Boosting Regression"
   ]
  },
  {
   "cell_type": "code",
   "execution_count": 116,
   "metadata": {},
   "outputs": [],
   "source": [
    "from sklearn.ensemble import GradientBoostingRegressor"
   ]
  },
  {
   "cell_type": "code",
   "execution_count": 117,
   "metadata": {},
   "outputs": [],
   "source": [
    "gd = GradientBoostingRegressor(random_state=42,learning_rate=1,max_depth=11)"
   ]
  },
  {
   "cell_type": "code",
   "execution_count": 118,
   "metadata": {},
   "outputs": [
    {
     "data": {
      "text/plain": [
       "GradientBoostingRegressor(learning_rate=1, max_depth=11, random_state=42)"
      ]
     },
     "execution_count": 118,
     "metadata": {},
     "output_type": "execute_result"
    }
   ],
   "source": [
    "gd.fit(X,y)"
   ]
  },
  {
   "cell_type": "code",
   "execution_count": 119,
   "metadata": {},
   "outputs": [],
   "source": [
    "gd_pred = gd.predict(X)"
   ]
  },
  {
   "cell_type": "code",
   "execution_count": 120,
   "metadata": {},
   "outputs": [
    {
     "name": "stdout",
     "output_type": "stream",
     "text": [
      "4.3204492944166045e-05\n"
     ]
    }
   ],
   "source": [
    "print(np.sqrt(mean_squared_error(y,gd_pred)))"
   ]
  },
  {
   "cell_type": "code",
   "execution_count": 121,
   "metadata": {},
   "outputs": [],
   "source": [
    "#gd_=GradientBoostingRegressor(random_state=42,verbose=1)"
   ]
  },
  {
   "cell_type": "code",
   "execution_count": 122,
   "metadata": {},
   "outputs": [],
   "source": [
    "# grid = dict()\n",
    "# grid['loss'] = ['ls', 'lad', 'huber', 'quantile']\n",
    "# grid['tol']=[.001,.00001,.002,.0001,.0002]\n",
    "# grid['max_features']=['auto','sqrt']\n",
    "# grid['max_depth']=[2,20,1]\n",
    "# grid['learning_rate']=np.arange(0,1.1,.1)\n",
    "# grid['min_samples_leaf']=np.arange(1,10,1)"
   ]
  },
  {
   "cell_type": "code",
   "execution_count": 123,
   "metadata": {},
   "outputs": [],
   "source": [
    "# cv = RepeatedKFold(n_splits=5, n_repeats=2, random_state=42)"
   ]
  },
  {
   "cell_type": "code",
   "execution_count": 124,
   "metadata": {},
   "outputs": [],
   "source": [
    "# gd_model = GridSearchCV(gd_,param_grid=grid ,cv=3, scoring='neg_mean_squared_error',n_jobs=-1,verbose=1)"
   ]
  },
  {
   "cell_type": "code",
   "execution_count": 125,
   "metadata": {},
   "outputs": [],
   "source": [
    "# gd_model.fit(X,y)"
   ]
  },
  {
   "cell_type": "markdown",
   "metadata": {},
   "source": [
    "# SVR"
   ]
  },
  {
   "cell_type": "code",
   "execution_count": 126,
   "metadata": {},
   "outputs": [],
   "source": [
    "from sklearn.svm import SVR"
   ]
  },
  {
   "cell_type": "code",
   "execution_count": 127,
   "metadata": {},
   "outputs": [],
   "source": [
    "svr = SVR()"
   ]
  },
  {
   "cell_type": "code",
   "execution_count": 128,
   "metadata": {},
   "outputs": [
    {
     "data": {
      "text/plain": [
       "SVR()"
      ]
     },
     "execution_count": 128,
     "metadata": {},
     "output_type": "execute_result"
    }
   ],
   "source": [
    "svr.fit(X,y)"
   ]
  },
  {
   "cell_type": "code",
   "execution_count": 129,
   "metadata": {},
   "outputs": [],
   "source": [
    "svr_predict = svr.predict(X)"
   ]
  },
  {
   "cell_type": "code",
   "execution_count": 130,
   "metadata": {},
   "outputs": [
    {
     "name": "stdout",
     "output_type": "stream",
     "text": [
      "3.134407948070172\n"
     ]
    }
   ],
   "source": [
    "print(np.sqrt(mean_squared_log_error(y,svr_predict)))"
   ]
  },
  {
   "cell_type": "code",
   "execution_count": 131,
   "metadata": {},
   "outputs": [],
   "source": [
    "# grid_= dict()\n",
    "# grid_['kernel'] = ['linear', 'poly', 'rbf', 'sigmoid','precomputed']\n",
    "# grid_['tol']=[.001,.00001,.002,.0001,.0002]\n",
    "# grid_['C']=np.arange(.1,10,.1)\n",
    "# grid_['gamma']=['scale','auto']\n",
    "# grid_['degree']=np.arange(1,10,1)\n",
    "# grid_['epsilon']=[0.01,.1,1,.5,2,4,5]"
   ]
  },
  {
   "cell_type": "markdown",
   "metadata": {},
   "source": [
    "# ElasticNet"
   ]
  },
  {
   "cell_type": "code",
   "execution_count": 132,
   "metadata": {},
   "outputs": [],
   "source": [
    "from sklearn.model_selection import RandomizedSearchCV"
   ]
  },
  {
   "cell_type": "code",
   "execution_count": 133,
   "metadata": {},
   "outputs": [],
   "source": [
    "from sklearn.linear_model import ElasticNet"
   ]
  },
  {
   "cell_type": "code",
   "execution_count": 134,
   "metadata": {},
   "outputs": [],
   "source": [
    "en = ElasticNet(random_state=42,alpha=.1,l1_ratio=.5)"
   ]
  },
  {
   "cell_type": "code",
   "execution_count": 135,
   "metadata": {},
   "outputs": [
    {
     "data": {
      "text/plain": [
       "ElasticNet(alpha=0.1, random_state=42)"
      ]
     },
     "execution_count": 135,
     "metadata": {},
     "output_type": "execute_result"
    }
   ],
   "source": [
    "en.fit(X,y)"
   ]
  },
  {
   "cell_type": "code",
   "execution_count": 136,
   "metadata": {},
   "outputs": [],
   "source": [
    "en_pred = en.predict(X)"
   ]
  },
  {
   "cell_type": "code",
   "execution_count": 137,
   "metadata": {},
   "outputs": [
    {
     "name": "stdout",
     "output_type": "stream",
     "text": [
      "85011740.36514033\n"
     ]
    }
   ],
   "source": [
    "print(np.sqrt(mean_squared_error(y,en_pred)))"
   ]
  },
  {
   "cell_type": "code",
   "execution_count": null,
   "metadata": {},
   "outputs": [],
   "source": []
  },
  {
   "cell_type": "code",
   "execution_count": null,
   "metadata": {},
   "outputs": [],
   "source": []
  }
 ],
 "metadata": {
  "kernelspec": {
   "display_name": "Python 3",
   "language": "python",
   "name": "python3"
  },
  "language_info": {
   "codemirror_mode": {
    "name": "ipython",
    "version": 3
   },
   "file_extension": ".py",
   "mimetype": "text/x-python",
   "name": "python",
   "nbconvert_exporter": "python",
   "pygments_lexer": "ipython3",
   "version": "3.8.3"
  }
 },
 "nbformat": 4,
 "nbformat_minor": 4
}
