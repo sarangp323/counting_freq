{
 "cells": [
  {
   "cell_type": "code",
   "execution_count": 10,
   "metadata": {},
   "outputs": [
    {
     "name": "stdout",
     "output_type": "stream",
     "text": [
      "{'Thank you all so very': ['much'], 'you all so very much': ['.'], 'all so very much .': ['Thank'], 'so very much . Thank': ['you'], 'very much . Thank you': ['to'], 'much . Thank you to': ['the'], '. Thank you to the': ['Academy'], 'Thank you to the Academy': ['.'], 'you to the Academy .': ['Thank'], 'to the Academy . Thank': ['you'], 'the Academy . Thank you': ['to'], 'Academy . Thank you to': ['all'], '. Thank you to all': ['of'], 'Thank you to all of': ['you'], 'you to all of you': ['in'], 'to all of you in': ['this'], 'all of you in this': ['room'], 'of you in this room': ['.'], 'you in this room .': ['I'], 'in this room . I': ['have'], 'this room . I have': ['to'], 'room . I have to': ['congratulate'], '. I have to congratulate': ['the'], 'I have to congratulate the': ['other'], 'have to congratulate the other': ['incredible'], 'to congratulate the other incredible': ['nominees'], 'congratulate the other incredible nominees': ['this'], 'the other incredible nominees this': ['year'], 'other incredible nominees this year': ['.'], 'incredible nominees this year .': ['The'], 'nominees this year . The': ['Revenant'], 'this year . The Revenant': ['was'], 'year . The Revenant was': ['the'], '. The Revenant was the': ['product'], 'The Revenant was the product': ['of'], 'Revenant was the product of': ['the'], 'was the product of the': ['tireless'], 'the product of the tireless': ['efforts'], 'product of the tireless efforts': ['of'], 'of the tireless efforts of': ['an'], 'the tireless efforts of an': ['unbelievable'], 'tireless efforts of an unbelievable': ['cast'], 'efforts of an unbelievable cast': ['and'], 'of an unbelievable cast and': ['crew'], 'an unbelievable cast and crew': ['.'], 'unbelievable cast and crew .': ['First'], 'cast and crew . First': ['off'], 'and crew . First off': [','], 'crew . First off ,': ['to'], '. First off , to': ['my'], 'First off , to my': ['brother'], 'off , to my brother': ['in'], ', to my brother in': ['this'], 'to my brother in this': ['endeavor'], 'my brother in this endeavor': [','], 'brother in this endeavor ,': ['Mr.'], 'in this endeavor , Mr.': ['Tom'], 'this endeavor , Mr. Tom': ['Hardy'], 'endeavor , Mr. Tom Hardy': ['.'], ', Mr. Tom Hardy .': ['Tom'], 'Mr. Tom Hardy . Tom': [','], 'Tom Hardy . Tom ,': ['your'], 'Hardy . Tom , your': ['talent'], '. Tom , your talent': ['on'], 'Tom , your talent on': ['screen'], ', your talent on screen': ['can'], 'your talent on screen can': ['only'], 'talent on screen can only': ['be'], 'on screen can only be': ['surpassed'], 'screen can only be surpassed': ['by'], 'can only be surpassed by': ['your'], 'only be surpassed by your': ['friendship'], 'be surpassed by your friendship': ['off'], 'surpassed by your friendship off': ['screen'], 'by your friendship off screen': ['…'], 'your friendship off screen …': ['thank'], 'friendship off screen … thank': ['you'], 'off screen … thank you': ['for'], 'screen … thank you for': ['creating'], '… thank you for creating': ['a'], 'thank you for creating a': ['t'], 'you for creating a t': ['ranscendent'], 'for creating a t ranscendent': ['cinematic'], 'creating a t ranscendent cinematic': ['experience'], 'a t ranscendent cinematic experience': ['.'], 't ranscendent cinematic experience .': ['Thank'], 'ranscendent cinematic experience . Thank': ['you'], 'cinematic experience . Thank you': ['to'], 'experience . Thank you to': ['everybody'], '. Thank you to everybody': ['at'], 'Thank you to everybody at': ['Fox'], 'you to everybody at Fox': ['and'], 'to everybody at Fox and': ['New'], 'everybody at Fox and New': ['Regency'], 'at Fox and New Regency': ['…'], 'Fox and New Regency …': ['my'], 'and New Regency … my': ['entire'], 'New Regency … my entire': ['team'], 'Regency … my entire team': ['.'], '… my entire team .': ['I'], 'my entire team . I': ['have'], 'entire team . I have': ['to'], 'team . I have to': ['thank'], '. I have to thank': ['everyone'], 'I have to thank everyone': ['from'], 'have to thank everyone from': ['the'], 'to thank everyone from the': ['very'], 'thank everyone from the very': ['onset'], 'everyone from the very onset': ['of'], 'from the very onset of': ['my'], 'the very onset of my': ['career'], 'very onset of my career': ['…'], 'onset of my career …': ['To'], 'of my career … To': ['my'], 'my career … To my': ['parents'], 'career … To my parents': [';'], '… To my parents ;': ['none'], 'To my parents ; none': ['of'], 'my parents ; none of': ['this'], 'parents ; none of this': ['would'], '; none of this would': ['be'], 'none of this would be': ['possible'], 'of this would be possible': ['without'], 'this would be possible without': ['you'], 'would be possible without you': ['.'], 'be possible without you .': ['And'], 'possible without you . And': ['to'], 'without you . And to': ['my'], 'you . And to my': ['friends'], '. And to my friends': [','], 'And to my friends ,': ['I'], 'to my friends , I': ['love'], 'my friends , I love': ['you'], 'friends , I love you': ['dearly'], ', I love you dearly': [';'], 'I love you dearly ;': ['you'], 'love you dearly ; you': ['know'], 'you dearly ; you know': ['who'], 'dearly ; you know who': ['you'], '; you know who you': ['are'], 'you know who you are': ['.'], 'know who you are .': ['And'], 'who you are . And': ['lastly'], 'you are . And lastly': [','], 'are . And lastly ,': ['I'], '. And lastly , I': ['just'], 'And lastly , I just': ['want'], 'lastly , I just want': ['to'], ', I just want to': ['say'], 'I just want to say': ['this'], 'just want to say this': [':'], 'want to say this :': ['Making'], 'to say this : Making': ['The'], 'say this : Making The': ['Revenant'], 'this : Making The Revenant': ['was'], ': Making The Revenant was': ['about'], 'Making The Revenant was about': ['man'], 'The Revenant was about man': [\"'s\"], \"Revenant was about man 's\": ['relationship'], \"was about man 's relationship\": ['to'], \"about man 's relationship to\": ['the'], \"man 's relationship to the\": ['natural'], \"'s relationship to the natural\": ['world'], 'relationship to the natural world': ['.'], 'to the natural world .': ['A'], 'the natural world . A': ['world'], 'natural world . A world': ['that'], 'world . A world that': ['we'], '. A world that we': ['collectively'], 'A world that we collectively': ['felt'], 'world that we collectively felt': ['in'], 'that we collectively felt in': ['2015'], 'we collectively felt in 2015': ['as'], 'collectively felt in 2015 as': ['the'], 'felt in 2015 as the': ['hottest'], 'in 2015 as the hottest': ['year'], '2015 as the hottest year': ['in'], 'as the hottest year in': ['recorded'], 'the hottest year in recorded': ['history'], 'hottest year in recorded history': ['.'], 'year in recorded history .': ['Our'], 'in recorded history . Our': ['production'], 'recorded history . Our production': ['needed'], 'history . Our production needed': ['to'], '. Our production needed to': ['move'], 'Our production needed to move': ['to'], 'production needed to move to': ['the'], 'needed to move to the': ['southern'], 'to move to the southern': ['tip'], 'move to the southern tip': ['of'], 'to the southern tip of': ['this'], 'the southern tip of this': ['planet'], 'southern tip of this planet': ['just'], 'tip of this planet just': ['to'], 'of this planet just to': ['be'], 'this planet just to be': ['able'], 'planet just to be able': ['to'], 'just to be able to': ['find'], 'to be able to find': ['snow'], 'be able to find snow': ['.'], 'able to find snow .': ['Climate'], 'to find snow . Climate': ['change'], 'find snow . Climate change': ['is'], 'snow . Climate change is': ['real'], '. Climate change is real': [','], 'Climate change is real ,': ['it'], 'change is real , it': ['is'], 'is real , it is': ['happening'], 'real , it is happening': ['right'], ', it is happening right': ['now'], 'it is happening right now': ['.'], 'is happening right now .': ['It'], 'happening right now . It': ['is'], 'right now . It is': ['the'], 'now . It is the': ['most'], '. It is the most': ['urgent'], 'It is the most urgent': ['threat'], 'is the most urgent threat': ['facing'], 'the most urgent threat facing': ['our'], 'most urgent threat facing our': ['entire'], 'urgent threat facing our entire': ['species'], 'threat facing our entire species': [','], 'facing our entire species ,': ['and'], 'our entire species , and': ['we'], 'entire species , and we': ['need'], 'species , and we need': ['to'], ', and we need to': ['work'], 'and we need to work': ['collectively'], 'we need to work collectively': ['together'], 'need to work collectively together': ['and'], 'to work collectively together and': ['stop'], 'work collectively together and stop': ['procrastinating'], 'collectively together and stop procrastinating': ['.'], 'together and stop procrastinating .': ['We'], 'and stop procrastinating . We': ['need'], 'stop procrastinating . We need': ['to'], 'procrastinating . We need to': ['support'], '. We need to support': ['leaders'], 'We need to support leaders': ['around'], 'need to support leaders around': ['the'], 'to support leaders around the': ['world'], 'support leaders around the world': ['who'], 'leaders around the world who': ['do'], 'around the world who do': ['not'], 'the world who do not': ['speak'], 'world who do not speak': ['for'], 'who do not speak for': ['the'], 'do not speak for the': ['big'], 'not speak for the big': ['polluters'], 'speak for the big polluters': [','], 'for the big polluters ,': ['but'], 'the big polluters , but': ['who'], 'big polluters , but who': ['speak'], 'polluters , but who speak': ['for'], ', but who speak for': ['all'], 'but who speak for all': ['of'], 'who speak for all of': ['humanity'], 'speak for all of humanity': [','], 'for all of humanity ,': ['for'], 'all of humanity , for': ['the'], 'of humanity , for the': ['indigenous'], 'humanity , for the indigenous': ['people'], ', for the indigenous people': ['of'], 'for the indigenous people of': ['the'], 'the indigenous people of the': ['world'], 'indigenous people of the world': [','], 'people of the world ,': ['for'], 'of the world , for': ['the'], 'the world , for the': ['billions'], 'world , for the billions': ['and'], ', for the billions and': ['billions'], 'for the billions and billions': ['of'], 'the billions and billions of': ['underprivileged'], 'billions and billions of underprivileged': ['people'], 'and billions of underprivileged people': ['out'], 'billions of underprivileged people out': ['there'], 'of underprivileged people out there': ['who'], 'underprivileged people out there who': ['would'], 'people out there who would': ['be'], 'out there who would be': ['most'], 'there who would be most': ['affected'], 'who would be most affected': ['by'], 'would be most affected by': ['this'], 'be most affected by this': ['.'], 'most affected by this .': ['For'], 'affected by this . For': ['our'], 'by this . For our': ['children'], 'this . For our children': ['’'], '. For our children ’': ['s'], 'For our children ’ s': ['children'], 'our children ’ s children': [','], 'children ’ s children ,': ['and'], '’ s children , and': ['for'], 's children , and for': ['those'], 'children , and for those': ['people'], ', and for those people': ['out'], 'and for those people out': ['there'], 'for those people out there': ['whose'], 'those people out there whose': ['voices'], 'people out there whose voices': ['have'], 'out there whose voices have': ['been'], 'there whose voices have been': ['drowned'], 'whose voices have been drowned': ['out'], 'voices have been drowned out': ['by'], 'have been drowned out by': ['the'], 'been drowned out by the': ['politics'], 'drowned out by the politics': ['of'], 'out by the politics of': ['greed'], 'by the politics of greed': ['.'], 'the politics of greed .': ['I'], 'politics of greed . I': ['thank'], 'of greed . I thank': ['you'], 'greed . I thank you': ['all'], '. I thank you all': ['for'], 'I thank you all for': ['this'], 'thank you all for this': ['amazing'], 'you all for this amazing': ['award'], 'all for this amazing award': ['tonight'], 'for this amazing award tonight': ['.'], 'this amazing award tonight .': ['Let'], 'amazing award tonight . Let': ['us'], 'award tonight . Let us': ['not'], 'tonight . Let us not': ['take'], '. Let us not take': ['this'], 'Let us not take this': ['planet'], 'us not take this planet': ['for'], 'not take this planet for': ['granted'], 'take this planet for granted': ['.'], 'this planet for granted .': ['I'], 'planet for granted . I': ['do'], 'for granted . I do': ['not'], 'granted . I do not': ['take'], '. I do not take': ['tonight'], 'I do not take tonight': ['for'], 'do not take tonight for': ['granted'], 'not take tonight for granted': ['.'], 'take tonight for granted .': ['Thank'], 'tonight for granted . Thank': ['you'], 'for granted . Thank you': ['so'], 'granted . Thank you so': ['very'], '. Thank you so very': ['much'], 'Thank you so very much': ['.']}\n",
      "*********************************************\n",
      "Thank you all so very\n",
      "Thank you all so very much . Thank you to the Academy . Thank you to all of you in this room . I have to congratulate the other incredible nominees this year . The\n"
     ]
    }
   ],
   "source": [
    "# Natural Language Processing using Python\n",
    "\n",
    "# N-Gram Modelling - Word Grams\n",
    "# Importing libraries\n",
    "import random\n",
    "\n",
    "import nltk\n",
    "\n",
    "# Sample data\n",
    "# text = \"\"\"Global warming or climate change has become a worldwide concern. It is gradually developing into an unprecedented environmental crisis evident in melting glaciers, changing weather patterns, rising sea levels, floods, cyclones and droughts. Global warming implies an increase in the average temperature of the Earth due to entrapment of greenhouse gases in the earth’s atmosphere.\"\"\"\n",
    "\n",
    "text = \"\"\"Thank you all so very much. Thank you to the Academy. \n",
    "               Thank you to all of you in this room. I have to congratulate \n",
    "               the other incredible nominees this year. The Revenant was \n",
    "               the product of the tireless efforts of an unbelievable cast\n",
    "               and crew. First off, to my brother in this endeavor, Mr. Tom \n",
    "               Hardy. Tom, your talent on screen can only be surpassed by \n",
    "               your friendship off screen … thank you for creating a t\n",
    "               ranscendent cinematic experience. Thank you to everybody at \n",
    "               Fox and New Regency … my entire team. I have to thank \n",
    "               everyone from the very onset of my career … To my parents; \n",
    "               none of this would be possible without you. And to my \n",
    "               friends, I love you dearly; you know who you are. And lastly,\n",
    "               I just want to say this: Making The Revenant was about\n",
    "               man's relationship to the natural world. A world that we\n",
    "               collectively felt in 2015 as the hottest year in recorded\n",
    "               history. Our production needed to move to the southern\n",
    "               tip of this planet just to be able to find snow. Climate\n",
    "               change is real, it is happening right now. It is the most\n",
    "               urgent threat facing our entire species, and we need to work\n",
    "               collectively together and stop procrastinating. We need to\n",
    "               support leaders around the world who do not speak for the \n",
    "               big polluters, but who speak for all of humanity, for the\n",
    "               indigenous people of the world, for the billions and \n",
    "               billions of underprivileged people out there who would be\n",
    "               most affected by this. For our children’s children, and \n",
    "               for those people out there whose voices have been drowned\n",
    "               out by the politics of greed. I thank you all for this \n",
    "               amazing award tonight. Let us not take this planet for \n",
    "               granted. I do not take tonight for granted. Thank you so very much.\"\"\"\n",
    "\n",
    "\n",
    "# Order of the grams\n",
    "n = 5\n",
    "\n",
    "# Our N-Grams\n",
    "ngrams = {}\n",
    "\n",
    "# Building the model\n",
    "words = nltk.word_tokenize(text)\n",
    "for i in range(len(words)-n):\n",
    "    gram = ' '.join(words[i:i+n])\n",
    "    if gram not in ngrams.keys():\n",
    "        ngrams[gram] = []\n",
    "    ngrams[gram].append(words[i+n])\n",
    "print(ngrams)\n",
    " \n",
    "# Testing the model\n",
    "currentGram = ' '.join(words[0:n])\n",
    "result = currentGram\n",
    "print(\"*********************************************\")\n",
    "print(result)\n",
    "for i in range(30):\n",
    "    if currentGram not in ngrams.keys():\n",
    "        break\n",
    "    possibilities = ngrams[currentGram]\n",
    "    nextItem = possibilities[random.randrange(len(possibilities))]\n",
    "    result += ' '+nextItem\n",
    "    rWords = nltk.word_tokenize(result)\n",
    "    currentGram = ' '.join(rWords[len(rWords)-n:len(rWords)])\n",
    "\n",
    "print(result)\n"
   ]
  },
  {
   "cell_type": "code",
   "execution_count": 11,
   "metadata": {},
   "outputs": [],
   "source": [
    "import re\n",
    "from nltk.util import ngrams\n",
    " \n",
    "s = \"Natural-language processing (NLP) is an area of computer science \" \\\n",
    "    \"and artificial intelligence concerned with the interactions \" \\\n",
    "    \"between computers and human (natural) languages.\"\n",
    " \n",
    "s = s.lower()\n",
    "s = re.sub(r'[^a-zA-Z0-9\\s]', ' ', s)\n",
    "\n",
    "tokens = [token for token in s.split(\" \") if token != \"\"]\n",
    "output = list(ngrams(tokens, 3))"
   ]
  },
  {
   "cell_type": "code",
   "execution_count": 12,
   "metadata": {},
   "outputs": [
    {
     "name": "stdout",
     "output_type": "stream",
     "text": [
      "[('natural', 'language', 'processing'), ('language', 'processing', 'nlp'), ('processing', 'nlp', 'is'), ('nlp', 'is', 'an'), ('is', 'an', 'area'), ('an', 'area', 'of'), ('area', 'of', 'computer'), ('of', 'computer', 'science'), ('computer', 'science', 'and'), ('science', 'and', 'artificial'), ('and', 'artificial', 'intelligence'), ('artificial', 'intelligence', 'concerned'), ('intelligence', 'concerned', 'with'), ('concerned', 'with', 'the'), ('with', 'the', 'interactions'), ('the', 'interactions', 'between'), ('interactions', 'between', 'computers'), ('between', 'computers', 'and'), ('computers', 'and', 'human'), ('and', 'human', 'natural'), ('human', 'natural', 'languages')]\n"
     ]
    }
   ],
   "source": [
    "print(output)"
   ]
  },
  {
   "cell_type": "code",
   "execution_count": null,
   "metadata": {},
   "outputs": [],
   "source": []
  }
 ],
 "metadata": {
  "kernelspec": {
   "display_name": "Python 3",
   "language": "python",
   "name": "python3"
  },
  "language_info": {
   "codemirror_mode": {
    "name": "ipython",
    "version": 3
   },
   "file_extension": ".py",
   "mimetype": "text/x-python",
   "name": "python",
   "nbconvert_exporter": "python",
   "pygments_lexer": "ipython3",
   "version": "3.8.3"
  }
 },
 "nbformat": 4,
 "nbformat_minor": 4
}
