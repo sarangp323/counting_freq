{
 "cells": [
  {
   "cell_type": "code",
   "execution_count": 1,
   "metadata": {},
   "outputs": [],
   "source": [
    "import pandas as pd"
   ]
  },
  {
   "cell_type": "code",
   "execution_count": 2,
   "metadata": {},
   "outputs": [],
   "source": [
    "ads = pd.read_csv('advertising.csv')"
   ]
  },
  {
   "cell_type": "code",
   "execution_count": 3,
   "metadata": {},
   "outputs": [
    {
     "data": {
      "text/html": [
       "<div>\n",
       "<style scoped>\n",
       "    .dataframe tbody tr th:only-of-type {\n",
       "        vertical-align: middle;\n",
       "    }\n",
       "\n",
       "    .dataframe tbody tr th {\n",
       "        vertical-align: top;\n",
       "    }\n",
       "\n",
       "    .dataframe thead th {\n",
       "        text-align: right;\n",
       "    }\n",
       "</style>\n",
       "<table border=\"1\" class=\"dataframe\">\n",
       "  <thead>\n",
       "    <tr style=\"text-align: right;\">\n",
       "      <th></th>\n",
       "      <th>Daily Time Spent on Site</th>\n",
       "      <th>Age</th>\n",
       "      <th>Area Income</th>\n",
       "      <th>Daily Internet Usage</th>\n",
       "      <th>Ad Topic Line</th>\n",
       "      <th>City</th>\n",
       "      <th>Male</th>\n",
       "      <th>Country</th>\n",
       "      <th>Timestamp</th>\n",
       "      <th>Clicked on Ad</th>\n",
       "    </tr>\n",
       "  </thead>\n",
       "  <tbody>\n",
       "    <tr>\n",
       "      <th>0</th>\n",
       "      <td>68.95</td>\n",
       "      <td>35</td>\n",
       "      <td>61833.90</td>\n",
       "      <td>256.09</td>\n",
       "      <td>Cloned 5thgeneration orchestration</td>\n",
       "      <td>Wrightburgh</td>\n",
       "      <td>0</td>\n",
       "      <td>Tunisia</td>\n",
       "      <td>2016-03-27 00:53:11</td>\n",
       "      <td>0</td>\n",
       "    </tr>\n",
       "    <tr>\n",
       "      <th>1</th>\n",
       "      <td>80.23</td>\n",
       "      <td>31</td>\n",
       "      <td>68441.85</td>\n",
       "      <td>193.77</td>\n",
       "      <td>Monitored national standardization</td>\n",
       "      <td>West Jodi</td>\n",
       "      <td>1</td>\n",
       "      <td>Nauru</td>\n",
       "      <td>2016-04-04 01:39:02</td>\n",
       "      <td>0</td>\n",
       "    </tr>\n",
       "    <tr>\n",
       "      <th>2</th>\n",
       "      <td>69.47</td>\n",
       "      <td>26</td>\n",
       "      <td>59785.94</td>\n",
       "      <td>236.50</td>\n",
       "      <td>Organic bottom-line service-desk</td>\n",
       "      <td>Davidton</td>\n",
       "      <td>0</td>\n",
       "      <td>San Marino</td>\n",
       "      <td>2016-03-13 20:35:42</td>\n",
       "      <td>0</td>\n",
       "    </tr>\n",
       "    <tr>\n",
       "      <th>3</th>\n",
       "      <td>74.15</td>\n",
       "      <td>29</td>\n",
       "      <td>54806.18</td>\n",
       "      <td>245.89</td>\n",
       "      <td>Triple-buffered reciprocal time-frame</td>\n",
       "      <td>West Terrifurt</td>\n",
       "      <td>1</td>\n",
       "      <td>Italy</td>\n",
       "      <td>2016-01-10 02:31:19</td>\n",
       "      <td>0</td>\n",
       "    </tr>\n",
       "    <tr>\n",
       "      <th>4</th>\n",
       "      <td>68.37</td>\n",
       "      <td>35</td>\n",
       "      <td>73889.99</td>\n",
       "      <td>225.58</td>\n",
       "      <td>Robust logistical utilization</td>\n",
       "      <td>South Manuel</td>\n",
       "      <td>0</td>\n",
       "      <td>Iceland</td>\n",
       "      <td>2016-06-03 03:36:18</td>\n",
       "      <td>0</td>\n",
       "    </tr>\n",
       "  </tbody>\n",
       "</table>\n",
       "</div>"
      ],
      "text/plain": [
       "   Daily Time Spent on Site  Age  Area Income  Daily Internet Usage  \\\n",
       "0                     68.95   35     61833.90                256.09   \n",
       "1                     80.23   31     68441.85                193.77   \n",
       "2                     69.47   26     59785.94                236.50   \n",
       "3                     74.15   29     54806.18                245.89   \n",
       "4                     68.37   35     73889.99                225.58   \n",
       "\n",
       "                           Ad Topic Line            City  Male     Country  \\\n",
       "0     Cloned 5thgeneration orchestration     Wrightburgh     0     Tunisia   \n",
       "1     Monitored national standardization       West Jodi     1       Nauru   \n",
       "2       Organic bottom-line service-desk        Davidton     0  San Marino   \n",
       "3  Triple-buffered reciprocal time-frame  West Terrifurt     1       Italy   \n",
       "4          Robust logistical utilization    South Manuel     0     Iceland   \n",
       "\n",
       "             Timestamp  Clicked on Ad  \n",
       "0  2016-03-27 00:53:11              0  \n",
       "1  2016-04-04 01:39:02              0  \n",
       "2  2016-03-13 20:35:42              0  \n",
       "3  2016-01-10 02:31:19              0  \n",
       "4  2016-06-03 03:36:18              0  "
      ]
     },
     "execution_count": 3,
     "metadata": {},
     "output_type": "execute_result"
    }
   ],
   "source": [
    "ads.head()"
   ]
  },
  {
   "cell_type": "code",
   "execution_count": 8,
   "metadata": {},
   "outputs": [],
   "source": [
    "from sklearn.preprocessing import LabelEncoder\n",
    "enc = LabelEncoder()\n",
    "ads['City'] = enc.fit_transform(ads['City'].values)"
   ]
  },
  {
   "cell_type": "code",
   "execution_count": 10,
   "metadata": {},
   "outputs": [
    {
     "data": {
      "text/html": [
       "<div>\n",
       "<style scoped>\n",
       "    .dataframe tbody tr th:only-of-type {\n",
       "        vertical-align: middle;\n",
       "    }\n",
       "\n",
       "    .dataframe tbody tr th {\n",
       "        vertical-align: top;\n",
       "    }\n",
       "\n",
       "    .dataframe thead th {\n",
       "        text-align: right;\n",
       "    }\n",
       "</style>\n",
       "<table border=\"1\" class=\"dataframe\">\n",
       "  <thead>\n",
       "    <tr style=\"text-align: right;\">\n",
       "      <th></th>\n",
       "      <th>City</th>\n",
       "      <th>Clicked on Ad</th>\n",
       "    </tr>\n",
       "  </thead>\n",
       "  <tbody>\n",
       "    <tr>\n",
       "      <th>City</th>\n",
       "      <td>1.000000</td>\n",
       "      <td>-0.007554</td>\n",
       "    </tr>\n",
       "    <tr>\n",
       "      <th>Clicked on Ad</th>\n",
       "      <td>-0.007554</td>\n",
       "      <td>1.000000</td>\n",
       "    </tr>\n",
       "  </tbody>\n",
       "</table>\n",
       "</div>"
      ],
      "text/plain": [
       "                   City  Clicked on Ad\n",
       "City           1.000000      -0.007554\n",
       "Clicked on Ad -0.007554       1.000000"
      ]
     },
     "execution_count": 10,
     "metadata": {},
     "output_type": "execute_result"
    }
   ],
   "source": [
    "ads[['City','Clicked on Ad']].corr()"
   ]
  },
  {
   "cell_type": "code",
   "execution_count": 11,
   "metadata": {},
   "outputs": [],
   "source": [
    "from sklearn.preprocessing import LabelEncoder\n",
    "enc = LabelEncoder()\n",
    "ads['Country'] = enc.fit_transform(ads['Country'].values)"
   ]
  },
  {
   "cell_type": "code",
   "execution_count": 13,
   "metadata": {},
   "outputs": [
    {
     "data": {
      "text/html": [
       "<div>\n",
       "<style scoped>\n",
       "    .dataframe tbody tr th:only-of-type {\n",
       "        vertical-align: middle;\n",
       "    }\n",
       "\n",
       "    .dataframe tbody tr th {\n",
       "        vertical-align: top;\n",
       "    }\n",
       "\n",
       "    .dataframe thead th {\n",
       "        text-align: right;\n",
       "    }\n",
       "</style>\n",
       "<table border=\"1\" class=\"dataframe\">\n",
       "  <thead>\n",
       "    <tr style=\"text-align: right;\">\n",
       "      <th></th>\n",
       "      <th>Country</th>\n",
       "      <th>Clicked on Ad</th>\n",
       "    </tr>\n",
       "  </thead>\n",
       "  <tbody>\n",
       "    <tr>\n",
       "      <th>Country</th>\n",
       "      <td>1.000000</td>\n",
       "      <td>0.011415</td>\n",
       "    </tr>\n",
       "    <tr>\n",
       "      <th>Clicked on Ad</th>\n",
       "      <td>0.011415</td>\n",
       "      <td>1.000000</td>\n",
       "    </tr>\n",
       "  </tbody>\n",
       "</table>\n",
       "</div>"
      ],
      "text/plain": [
       "                Country  Clicked on Ad\n",
       "Country        1.000000       0.011415\n",
       "Clicked on Ad  0.011415       1.000000"
      ]
     },
     "execution_count": 13,
     "metadata": {},
     "output_type": "execute_result"
    }
   ],
   "source": [
    "ads[['Country','Clicked on Ad']].corr()"
   ]
  },
  {
   "cell_type": "code",
   "execution_count": 15,
   "metadata": {},
   "outputs": [
    {
     "data": {
      "text/plain": [
       "1000"
      ]
     },
     "execution_count": 15,
     "metadata": {},
     "output_type": "execute_result"
    }
   ],
   "source": [
    "ads['Ad Topic Line'].nunique()"
   ]
  },
  {
   "cell_type": "code",
   "execution_count": 18,
   "metadata": {},
   "outputs": [
    {
     "data": {
      "text/plain": [
       "(1000, 10)"
      ]
     },
     "execution_count": 18,
     "metadata": {},
     "output_type": "execute_result"
    }
   ],
   "source": [
    "ads.shape()"
   ]
  },
  {
   "cell_type": "code",
   "execution_count": 23,
   "metadata": {},
   "outputs": [],
   "source": [
    "ads1 = ads.drop('Ad Topic Line',axis=1)"
   ]
  },
  {
   "cell_type": "code",
   "execution_count": 21,
   "metadata": {},
   "outputs": [
    {
     "data": {
      "text/plain": [
       "1000"
      ]
     },
     "execution_count": 21,
     "metadata": {},
     "output_type": "execute_result"
    }
   ],
   "source": [
    "ads['Timestamp'].nunique()"
   ]
  },
  {
   "cell_type": "code",
   "execution_count": 25,
   "metadata": {},
   "outputs": [],
   "source": [
    "ads1 = ads1.drop('Timestamp',axis=1)"
   ]
  },
  {
   "cell_type": "code",
   "execution_count": 26,
   "metadata": {},
   "outputs": [
    {
     "data": {
      "text/html": [
       "<div>\n",
       "<style scoped>\n",
       "    .dataframe tbody tr th:only-of-type {\n",
       "        vertical-align: middle;\n",
       "    }\n",
       "\n",
       "    .dataframe tbody tr th {\n",
       "        vertical-align: top;\n",
       "    }\n",
       "\n",
       "    .dataframe thead th {\n",
       "        text-align: right;\n",
       "    }\n",
       "</style>\n",
       "<table border=\"1\" class=\"dataframe\">\n",
       "  <thead>\n",
       "    <tr style=\"text-align: right;\">\n",
       "      <th></th>\n",
       "      <th>Daily Time Spent on Site</th>\n",
       "      <th>Age</th>\n",
       "      <th>Area Income</th>\n",
       "      <th>Daily Internet Usage</th>\n",
       "      <th>City</th>\n",
       "      <th>Male</th>\n",
       "      <th>Country</th>\n",
       "      <th>Clicked on Ad</th>\n",
       "    </tr>\n",
       "  </thead>\n",
       "  <tbody>\n",
       "    <tr>\n",
       "      <th>0</th>\n",
       "      <td>68.95</td>\n",
       "      <td>35</td>\n",
       "      <td>61833.90</td>\n",
       "      <td>256.09</td>\n",
       "      <td>961</td>\n",
       "      <td>0</td>\n",
       "      <td>215</td>\n",
       "      <td>0</td>\n",
       "    </tr>\n",
       "    <tr>\n",
       "      <th>1</th>\n",
       "      <td>80.23</td>\n",
       "      <td>31</td>\n",
       "      <td>68441.85</td>\n",
       "      <td>193.77</td>\n",
       "      <td>903</td>\n",
       "      <td>1</td>\n",
       "      <td>147</td>\n",
       "      <td>0</td>\n",
       "    </tr>\n",
       "    <tr>\n",
       "      <th>2</th>\n",
       "      <td>69.47</td>\n",
       "      <td>26</td>\n",
       "      <td>59785.94</td>\n",
       "      <td>236.50</td>\n",
       "      <td>111</td>\n",
       "      <td>0</td>\n",
       "      <td>184</td>\n",
       "      <td>0</td>\n",
       "    </tr>\n",
       "    <tr>\n",
       "      <th>3</th>\n",
       "      <td>74.15</td>\n",
       "      <td>29</td>\n",
       "      <td>54806.18</td>\n",
       "      <td>245.89</td>\n",
       "      <td>939</td>\n",
       "      <td>1</td>\n",
       "      <td>103</td>\n",
       "      <td>0</td>\n",
       "    </tr>\n",
       "    <tr>\n",
       "      <th>4</th>\n",
       "      <td>68.37</td>\n",
       "      <td>35</td>\n",
       "      <td>73889.99</td>\n",
       "      <td>225.58</td>\n",
       "      <td>805</td>\n",
       "      <td>0</td>\n",
       "      <td>96</td>\n",
       "      <td>0</td>\n",
       "    </tr>\n",
       "    <tr>\n",
       "      <th>...</th>\n",
       "      <td>...</td>\n",
       "      <td>...</td>\n",
       "      <td>...</td>\n",
       "      <td>...</td>\n",
       "      <td>...</td>\n",
       "      <td>...</td>\n",
       "      <td>...</td>\n",
       "      <td>...</td>\n",
       "    </tr>\n",
       "    <tr>\n",
       "      <th>995</th>\n",
       "      <td>72.97</td>\n",
       "      <td>30</td>\n",
       "      <td>71384.57</td>\n",
       "      <td>208.58</td>\n",
       "      <td>126</td>\n",
       "      <td>1</td>\n",
       "      <td>116</td>\n",
       "      <td>1</td>\n",
       "    </tr>\n",
       "    <tr>\n",
       "      <th>996</th>\n",
       "      <td>51.30</td>\n",
       "      <td>45</td>\n",
       "      <td>67782.17</td>\n",
       "      <td>134.42</td>\n",
       "      <td>488</td>\n",
       "      <td>1</td>\n",
       "      <td>26</td>\n",
       "      <td>1</td>\n",
       "    </tr>\n",
       "    <tr>\n",
       "      <th>997</th>\n",
       "      <td>51.63</td>\n",
       "      <td>51</td>\n",
       "      <td>42415.72</td>\n",
       "      <td>120.37</td>\n",
       "      <td>798</td>\n",
       "      <td>1</td>\n",
       "      <td>140</td>\n",
       "      <td>1</td>\n",
       "    </tr>\n",
       "    <tr>\n",
       "      <th>998</th>\n",
       "      <td>55.55</td>\n",
       "      <td>19</td>\n",
       "      <td>41920.79</td>\n",
       "      <td>187.95</td>\n",
       "      <td>935</td>\n",
       "      <td>0</td>\n",
       "      <td>85</td>\n",
       "      <td>0</td>\n",
       "    </tr>\n",
       "    <tr>\n",
       "      <th>999</th>\n",
       "      <td>45.01</td>\n",
       "      <td>26</td>\n",
       "      <td>29875.80</td>\n",
       "      <td>178.35</td>\n",
       "      <td>744</td>\n",
       "      <td>0</td>\n",
       "      <td>28</td>\n",
       "      <td>1</td>\n",
       "    </tr>\n",
       "  </tbody>\n",
       "</table>\n",
       "<p>1000 rows × 8 columns</p>\n",
       "</div>"
      ],
      "text/plain": [
       "     Daily Time Spent on Site  Age  Area Income  Daily Internet Usage  City  \\\n",
       "0                       68.95   35     61833.90                256.09   961   \n",
       "1                       80.23   31     68441.85                193.77   903   \n",
       "2                       69.47   26     59785.94                236.50   111   \n",
       "3                       74.15   29     54806.18                245.89   939   \n",
       "4                       68.37   35     73889.99                225.58   805   \n",
       "..                        ...  ...          ...                   ...   ...   \n",
       "995                     72.97   30     71384.57                208.58   126   \n",
       "996                     51.30   45     67782.17                134.42   488   \n",
       "997                     51.63   51     42415.72                120.37   798   \n",
       "998                     55.55   19     41920.79                187.95   935   \n",
       "999                     45.01   26     29875.80                178.35   744   \n",
       "\n",
       "     Male  Country  Clicked on Ad  \n",
       "0       0      215              0  \n",
       "1       1      147              0  \n",
       "2       0      184              0  \n",
       "3       1      103              0  \n",
       "4       0       96              0  \n",
       "..    ...      ...            ...  \n",
       "995     1      116              1  \n",
       "996     1       26              1  \n",
       "997     1      140              1  \n",
       "998     0       85              0  \n",
       "999     0       28              1  \n",
       "\n",
       "[1000 rows x 8 columns]"
      ]
     },
     "execution_count": 26,
     "metadata": {},
     "output_type": "execute_result"
    }
   ],
   "source": [
    "ads1"
   ]
  },
  {
   "cell_type": "code",
   "execution_count": 434,
   "metadata": {},
   "outputs": [],
   "source": [
    "from sklearn.linear_model import LogisticRegression\n",
    "from sklearn.model_selection import GridSearchCV, train_test_split\n",
    "from sklearn.metrics import classification_report\n",
    "from sklearn.preprocessing import StandardScaler, MinMaxScaler\n",
    "import numpy as np"
   ]
  },
  {
   "cell_type": "code",
   "execution_count": 435,
   "metadata": {},
   "outputs": [],
   "source": [
    "\n",
    "lgmodel = LogisticRegression()"
   ]
  },
  {
   "cell_type": "code",
   "execution_count": 436,
   "metadata": {},
   "outputs": [],
   "source": [
    "X = ads1.drop('Clicked on Ad',axis=1)\n",
    "Y= ads1['Clicked on Ad']"
   ]
  },
  {
   "cell_type": "code",
   "execution_count": null,
   "metadata": {},
   "outputs": [],
   "source": []
  },
  {
   "cell_type": "code",
   "execution_count": 437,
   "metadata": {},
   "outputs": [],
   "source": [
    "X_train, X_test, Y_train, Y_test = train_test_split(X, Y, test_size=0.33, random_state=42)"
   ]
  },
  {
   "cell_type": "code",
   "execution_count": 438,
   "metadata": {},
   "outputs": [],
   "source": [
    "#min_max_scaler =MinMaxScaler()\n",
    "#X_train_minmax = min_max_scaler.fit_transform(X_train)\n",
    "#X_test_minmax = min_max_scaler.transform(X_test)"
   ]
  },
  {
   "cell_type": "code",
   "execution_count": 439,
   "metadata": {},
   "outputs": [
    {
     "data": {
      "text/plain": [
       "LogisticRegression()"
      ]
     },
     "execution_count": 439,
     "metadata": {},
     "output_type": "execute_result"
    }
   ],
   "source": [
    "\n",
    "lgmodel.fit(X_train,Y_train)"
   ]
  },
  {
   "cell_type": "code",
   "execution_count": 440,
   "metadata": {},
   "outputs": [],
   "source": [
    "lg_predictions = lgmodel.predict(X_test)"
   ]
  },
  {
   "cell_type": "code",
   "execution_count": 441,
   "metadata": {},
   "outputs": [
    {
     "name": "stdout",
     "output_type": "stream",
     "text": [
      "              precision    recall  f1-score   support\n",
      "\n",
      "           0       0.86      0.96      0.90       162\n",
      "           1       0.95      0.85      0.90       168\n",
      "\n",
      "    accuracy                           0.90       330\n",
      "   macro avg       0.90      0.90      0.90       330\n",
      "weighted avg       0.91      0.90      0.90       330\n",
      "\n"
     ]
    }
   ],
   "source": [
    "print(classification_report(Y_test,lg_predictions))"
   ]
  },
  {
   "cell_type": "code",
   "execution_count": 442,
   "metadata": {},
   "outputs": [
    {
     "data": {
      "text/html": [
       "<div>\n",
       "<style scoped>\n",
       "    .dataframe tbody tr th:only-of-type {\n",
       "        vertical-align: middle;\n",
       "    }\n",
       "\n",
       "    .dataframe tbody tr th {\n",
       "        vertical-align: top;\n",
       "    }\n",
       "\n",
       "    .dataframe thead th {\n",
       "        text-align: right;\n",
       "    }\n",
       "</style>\n",
       "<table border=\"1\" class=\"dataframe\">\n",
       "  <thead>\n",
       "    <tr style=\"text-align: right;\">\n",
       "      <th></th>\n",
       "      <th>max_iter</th>\n",
       "      <th>Tolerance</th>\n",
       "      <th>C_param</th>\n",
       "      <th>accuracy</th>\n",
       "    </tr>\n",
       "  </thead>\n",
       "  <tbody>\n",
       "  </tbody>\n",
       "</table>\n",
       "</div>"
      ],
      "text/plain": [
       "Empty DataFrame\n",
       "Columns: [max_iter, Tolerance, C_param, accuracy]\n",
       "Index: []"
      ]
     },
     "execution_count": 442,
     "metadata": {},
     "output_type": "execute_result"
    }
   ],
   "source": [
    "colm= ['max_iter','Tolerance','C_param','accuracy']\n",
    "lg3 = pd.DataFrame(columns=colm)\n",
    "lg3"
   ]
  },
  {
   "cell_type": "code",
   "execution_count": 447,
   "metadata": {},
   "outputs": [
    {
     "name": "stdout",
     "output_type": "stream",
     "text": [
      "[LibLinear]100 0.0001 0.001\n",
      "0.8575757575757575\n",
      "{'max_iter': 100, 'Tolerance': 0.0001, 'C_param': 0.001, 'accuracy': 0.8575757575757575}\n",
      "[LibLinear]100 0.0001 0.01\n",
      "0.896969696969697\n",
      "{'max_iter': 100, 'Tolerance': 0.0001, 'C_param': 0.01, 'accuracy': 0.896969696969697}\n",
      "[LibLinear]100 0.0001 0.1\n",
      "0.9181818181818182\n",
      "{'max_iter': 100, 'Tolerance': 0.0001, 'C_param': 0.1, 'accuracy': 0.9181818181818182}\n",
      "[LibLinear]100 0.0001 1\n",
      "0.9636363636363636\n",
      "{'max_iter': 100, 'Tolerance': 0.0001, 'C_param': 1, 'accuracy': 0.9636363636363636}\n",
      "[LibLinear]100 0.0001 100\n",
      "0.9696969696969697\n",
      "{'max_iter': 100, 'Tolerance': 0.0001, 'C_param': 100, 'accuracy': 0.9696969696969697}\n",
      "[LibLinear]100 0.0002 0.001\n",
      "0.8575757575757575\n",
      "{'max_iter': 100, 'Tolerance': 0.0002, 'C_param': 0.001, 'accuracy': 0.8575757575757575}\n",
      "[LibLinear]100 0.0002 0.01\n",
      "0.896969696969697\n",
      "{'max_iter': 100, 'Tolerance': 0.0002, 'C_param': 0.01, 'accuracy': 0.896969696969697}\n",
      "[LibLinear]100 0.0002 0.1\n",
      "0.9181818181818182\n",
      "{'max_iter': 100, 'Tolerance': 0.0002, 'C_param': 0.1, 'accuracy': 0.9181818181818182}\n",
      "[LibLinear]100 0.0002 1\n",
      "0.9636363636363636\n",
      "{'max_iter': 100, 'Tolerance': 0.0002, 'C_param': 1, 'accuracy': 0.9636363636363636}\n",
      "[LibLinear]100 0.0002 100\n",
      "0.9696969696969697\n",
      "{'max_iter': 100, 'Tolerance': 0.0002, 'C_param': 100, 'accuracy': 0.9696969696969697}\n",
      "[LibLinear]100 0.0005 0.001\n",
      "0.8575757575757575\n",
      "{'max_iter': 100, 'Tolerance': 0.0005, 'C_param': 0.001, 'accuracy': 0.8575757575757575}\n",
      "[LibLinear]100 0.0005 0.01\n",
      "0.896969696969697\n",
      "{'max_iter': 100, 'Tolerance': 0.0005, 'C_param': 0.01, 'accuracy': 0.896969696969697}\n",
      "[LibLinear]100 0.0005 0.1\n",
      "0.9181818181818182\n",
      "{'max_iter': 100, 'Tolerance': 0.0005, 'C_param': 0.1, 'accuracy': 0.9181818181818182}\n",
      "[LibLinear]100 0.0005 1\n",
      "0.9636363636363636\n",
      "{'max_iter': 100, 'Tolerance': 0.0005, 'C_param': 1, 'accuracy': 0.9636363636363636}\n",
      "[LibLinear]100 0.0005 100\n",
      "0.9575757575757575\n",
      "{'max_iter': 100, 'Tolerance': 0.0005, 'C_param': 100, 'accuracy': 0.9575757575757575}\n",
      "[LibLinear]100 1e-05 0.001\n",
      "0.8575757575757575\n",
      "{'max_iter': 100, 'Tolerance': 1e-05, 'C_param': 0.001, 'accuracy': 0.8575757575757575}\n",
      "[LibLinear]100 1e-05 0.01\n",
      "0.896969696969697\n",
      "{'max_iter': 100, 'Tolerance': 1e-05, 'C_param': 0.01, 'accuracy': 0.896969696969697}\n",
      "[LibLinear]100 1e-05 0.1\n",
      "0.9181818181818182\n",
      "{'max_iter': 100, 'Tolerance': 1e-05, 'C_param': 0.1, 'accuracy': 0.9181818181818182}\n",
      "[LibLinear]100 1e-05 1\n",
      "0.9636363636363636\n",
      "{'max_iter': 100, 'Tolerance': 1e-05, 'C_param': 1, 'accuracy': 0.9636363636363636}\n",
      "[LibLinear]100 1e-05 100\n",
      "0.9696969696969697\n",
      "{'max_iter': 100, 'Tolerance': 1e-05, 'C_param': 100, 'accuracy': 0.9696969696969697}\n",
      "[LibLinear]200 0.0001 0.001\n",
      "0.8575757575757575\n",
      "{'max_iter': 200, 'Tolerance': 0.0001, 'C_param': 0.001, 'accuracy': 0.8575757575757575}\n",
      "[LibLinear]200 0.0001 0.01\n",
      "0.896969696969697\n",
      "{'max_iter': 200, 'Tolerance': 0.0001, 'C_param': 0.01, 'accuracy': 0.896969696969697}\n",
      "[LibLinear]200 0.0001 0.1\n",
      "0.9181818181818182\n",
      "{'max_iter': 200, 'Tolerance': 0.0001, 'C_param': 0.1, 'accuracy': 0.9181818181818182}\n",
      "[LibLinear]200 0.0001 1\n",
      "0.9636363636363636\n",
      "{'max_iter': 200, 'Tolerance': 0.0001, 'C_param': 1, 'accuracy': 0.9636363636363636}\n",
      "[LibLinear]200 0.0001 100\n",
      "0.9696969696969697\n",
      "{'max_iter': 200, 'Tolerance': 0.0001, 'C_param': 100, 'accuracy': 0.9696969696969697}\n",
      "[LibLinear]200 0.0002 0.001\n",
      "0.8575757575757575\n",
      "{'max_iter': 200, 'Tolerance': 0.0002, 'C_param': 0.001, 'accuracy': 0.8575757575757575}\n",
      "[LibLinear]200 0.0002 0.01\n",
      "0.896969696969697\n",
      "{'max_iter': 200, 'Tolerance': 0.0002, 'C_param': 0.01, 'accuracy': 0.896969696969697}\n",
      "[LibLinear]200 0.0002 0.1\n",
      "0.9181818181818182\n",
      "{'max_iter': 200, 'Tolerance': 0.0002, 'C_param': 0.1, 'accuracy': 0.9181818181818182}\n",
      "[LibLinear]200 0.0002 1\n",
      "0.9636363636363636\n",
      "{'max_iter': 200, 'Tolerance': 0.0002, 'C_param': 1, 'accuracy': 0.9636363636363636}\n",
      "[LibLinear]200 0.0002 100\n",
      "0.9696969696969697\n",
      "{'max_iter': 200, 'Tolerance': 0.0002, 'C_param': 100, 'accuracy': 0.9696969696969697}\n",
      "[LibLinear]200 0.0005 0.001\n",
      "0.8575757575757575\n",
      "{'max_iter': 200, 'Tolerance': 0.0005, 'C_param': 0.001, 'accuracy': 0.8575757575757575}\n",
      "[LibLinear]200 0.0005 0.01\n",
      "0.896969696969697\n",
      "{'max_iter': 200, 'Tolerance': 0.0005, 'C_param': 0.01, 'accuracy': 0.896969696969697}\n",
      "[LibLinear]200 0.0005 0.1\n",
      "0.9181818181818182\n",
      "{'max_iter': 200, 'Tolerance': 0.0005, 'C_param': 0.1, 'accuracy': 0.9181818181818182}\n",
      "[LibLinear]200 0.0005 1\n",
      "0.9636363636363636\n",
      "{'max_iter': 200, 'Tolerance': 0.0005, 'C_param': 1, 'accuracy': 0.9636363636363636}\n",
      "[LibLinear]200 0.0005 100\n",
      "0.9575757575757575\n",
      "{'max_iter': 200, 'Tolerance': 0.0005, 'C_param': 100, 'accuracy': 0.9575757575757575}\n",
      "[LibLinear]200 1e-05 0.001\n",
      "0.8575757575757575\n",
      "{'max_iter': 200, 'Tolerance': 1e-05, 'C_param': 0.001, 'accuracy': 0.8575757575757575}\n",
      "[LibLinear]200 1e-05 0.01\n",
      "0.896969696969697\n",
      "{'max_iter': 200, 'Tolerance': 1e-05, 'C_param': 0.01, 'accuracy': 0.896969696969697}\n",
      "[LibLinear]200 1e-05 0.1\n",
      "0.9181818181818182\n",
      "{'max_iter': 200, 'Tolerance': 1e-05, 'C_param': 0.1, 'accuracy': 0.9181818181818182}\n",
      "[LibLinear]200 1e-05 1\n",
      "0.9636363636363636\n",
      "{'max_iter': 200, 'Tolerance': 1e-05, 'C_param': 1, 'accuracy': 0.9636363636363636}\n",
      "[LibLinear]200 1e-05 100\n",
      "0.9696969696969697\n",
      "{'max_iter': 200, 'Tolerance': 1e-05, 'C_param': 100, 'accuracy': 0.9696969696969697}\n",
      "[LibLinear]500 0.0001 0.001\n",
      "0.8575757575757575\n",
      "{'max_iter': 500, 'Tolerance': 0.0001, 'C_param': 0.001, 'accuracy': 0.8575757575757575}\n",
      "[LibLinear]500 0.0001 0.01\n",
      "0.896969696969697\n",
      "{'max_iter': 500, 'Tolerance': 0.0001, 'C_param': 0.01, 'accuracy': 0.896969696969697}\n",
      "[LibLinear]500 0.0001 0.1\n",
      "0.9181818181818182\n",
      "{'max_iter': 500, 'Tolerance': 0.0001, 'C_param': 0.1, 'accuracy': 0.9181818181818182}\n",
      "[LibLinear]500 0.0001 1\n",
      "0.9636363636363636\n",
      "{'max_iter': 500, 'Tolerance': 0.0001, 'C_param': 1, 'accuracy': 0.9636363636363636}\n",
      "[LibLinear]500 0.0001 100\n",
      "0.9696969696969697\n",
      "{'max_iter': 500, 'Tolerance': 0.0001, 'C_param': 100, 'accuracy': 0.9696969696969697}\n",
      "[LibLinear]500 0.0002 0.001\n",
      "0.8575757575757575\n",
      "{'max_iter': 500, 'Tolerance': 0.0002, 'C_param': 0.001, 'accuracy': 0.8575757575757575}\n",
      "[LibLinear]500 0.0002 0.01\n",
      "0.896969696969697\n",
      "{'max_iter': 500, 'Tolerance': 0.0002, 'C_param': 0.01, 'accuracy': 0.896969696969697}\n",
      "[LibLinear]500 0.0002 0.1\n",
      "0.9181818181818182\n",
      "{'max_iter': 500, 'Tolerance': 0.0002, 'C_param': 0.1, 'accuracy': 0.9181818181818182}\n",
      "[LibLinear]500 0.0002 1\n",
      "0.9636363636363636\n",
      "{'max_iter': 500, 'Tolerance': 0.0002, 'C_param': 1, 'accuracy': 0.9636363636363636}\n",
      "[LibLinear]500 0.0002 100\n",
      "0.9696969696969697\n",
      "{'max_iter': 500, 'Tolerance': 0.0002, 'C_param': 100, 'accuracy': 0.9696969696969697}\n",
      "[LibLinear]500 0.0005 0.001\n",
      "0.8575757575757575\n",
      "{'max_iter': 500, 'Tolerance': 0.0005, 'C_param': 0.001, 'accuracy': 0.8575757575757575}\n",
      "[LibLinear]500 0.0005 0.01\n",
      "0.896969696969697\n",
      "{'max_iter': 500, 'Tolerance': 0.0005, 'C_param': 0.01, 'accuracy': 0.896969696969697}\n",
      "[LibLinear]500 0.0005 0.1\n",
      "0.9181818181818182\n",
      "{'max_iter': 500, 'Tolerance': 0.0005, 'C_param': 0.1, 'accuracy': 0.9181818181818182}\n",
      "[LibLinear]500 0.0005 1\n",
      "0.9636363636363636\n",
      "{'max_iter': 500, 'Tolerance': 0.0005, 'C_param': 1, 'accuracy': 0.9636363636363636}\n",
      "[LibLinear]500 0.0005 100\n",
      "0.9575757575757575\n",
      "{'max_iter': 500, 'Tolerance': 0.0005, 'C_param': 100, 'accuracy': 0.9575757575757575}\n",
      "[LibLinear]500 1e-05 0.001\n",
      "0.8575757575757575\n",
      "{'max_iter': 500, 'Tolerance': 1e-05, 'C_param': 0.001, 'accuracy': 0.8575757575757575}\n",
      "[LibLinear]500 1e-05 0.01\n",
      "0.896969696969697\n",
      "{'max_iter': 500, 'Tolerance': 1e-05, 'C_param': 0.01, 'accuracy': 0.896969696969697}\n",
      "[LibLinear]500 1e-05 0.1\n",
      "0.9181818181818182\n",
      "{'max_iter': 500, 'Tolerance': 1e-05, 'C_param': 0.1, 'accuracy': 0.9181818181818182}\n",
      "[LibLinear]500 1e-05 1\n",
      "0.9636363636363636\n",
      "{'max_iter': 500, 'Tolerance': 1e-05, 'C_param': 1, 'accuracy': 0.9636363636363636}\n",
      "[LibLinear]500 1e-05 100\n",
      "0.9696969696969697\n",
      "{'max_iter': 500, 'Tolerance': 1e-05, 'C_param': 100, 'accuracy': 0.9696969696969697}\n",
      "[LibLinear]1000 0.0001 0.001\n",
      "0.8575757575757575\n",
      "{'max_iter': 1000, 'Tolerance': 0.0001, 'C_param': 0.001, 'accuracy': 0.8575757575757575}\n",
      "[LibLinear]1000 0.0001 0.01\n",
      "0.896969696969697\n",
      "{'max_iter': 1000, 'Tolerance': 0.0001, 'C_param': 0.01, 'accuracy': 0.896969696969697}\n",
      "[LibLinear]1000 0.0001 0.1\n",
      "0.9181818181818182\n",
      "{'max_iter': 1000, 'Tolerance': 0.0001, 'C_param': 0.1, 'accuracy': 0.9181818181818182}\n",
      "[LibLinear]1000 0.0001 1\n"
     ]
    },
    {
     "name": "stdout",
     "output_type": "stream",
     "text": [
      "0.9636363636363636\n",
      "{'max_iter': 1000, 'Tolerance': 0.0001, 'C_param': 1, 'accuracy': 0.9636363636363636}\n",
      "[LibLinear]1000 0.0001 100\n",
      "0.9696969696969697\n",
      "{'max_iter': 1000, 'Tolerance': 0.0001, 'C_param': 100, 'accuracy': 0.9696969696969697}\n",
      "[LibLinear]1000 0.0002 0.001\n",
      "0.8575757575757575\n",
      "{'max_iter': 1000, 'Tolerance': 0.0002, 'C_param': 0.001, 'accuracy': 0.8575757575757575}\n",
      "[LibLinear]1000 0.0002 0.01\n",
      "0.896969696969697\n",
      "{'max_iter': 1000, 'Tolerance': 0.0002, 'C_param': 0.01, 'accuracy': 0.896969696969697}\n",
      "[LibLinear]1000 0.0002 0.1\n",
      "0.9181818181818182\n",
      "{'max_iter': 1000, 'Tolerance': 0.0002, 'C_param': 0.1, 'accuracy': 0.9181818181818182}\n",
      "[LibLinear]1000 0.0002 1\n",
      "0.9636363636363636\n",
      "{'max_iter': 1000, 'Tolerance': 0.0002, 'C_param': 1, 'accuracy': 0.9636363636363636}\n",
      "[LibLinear]1000 0.0002 100\n",
      "0.9696969696969697\n",
      "{'max_iter': 1000, 'Tolerance': 0.0002, 'C_param': 100, 'accuracy': 0.9696969696969697}\n",
      "[LibLinear]1000 0.0005 0.001\n",
      "0.8575757575757575\n",
      "{'max_iter': 1000, 'Tolerance': 0.0005, 'C_param': 0.001, 'accuracy': 0.8575757575757575}\n",
      "[LibLinear]1000 0.0005 0.01\n",
      "0.896969696969697\n",
      "{'max_iter': 1000, 'Tolerance': 0.0005, 'C_param': 0.01, 'accuracy': 0.896969696969697}\n",
      "[LibLinear]1000 0.0005 0.1\n",
      "0.9181818181818182\n",
      "{'max_iter': 1000, 'Tolerance': 0.0005, 'C_param': 0.1, 'accuracy': 0.9181818181818182}\n",
      "[LibLinear]1000 0.0005 1\n",
      "0.9636363636363636\n",
      "{'max_iter': 1000, 'Tolerance': 0.0005, 'C_param': 1, 'accuracy': 0.9636363636363636}\n",
      "[LibLinear]1000 0.0005 100\n",
      "0.9575757575757575\n",
      "{'max_iter': 1000, 'Tolerance': 0.0005, 'C_param': 100, 'accuracy': 0.9575757575757575}\n",
      "[LibLinear]1000 1e-05 0.001\n",
      "0.8575757575757575\n",
      "{'max_iter': 1000, 'Tolerance': 1e-05, 'C_param': 0.001, 'accuracy': 0.8575757575757575}\n",
      "[LibLinear]1000 1e-05 0.01\n",
      "0.896969696969697\n",
      "{'max_iter': 1000, 'Tolerance': 1e-05, 'C_param': 0.01, 'accuracy': 0.896969696969697}\n",
      "[LibLinear]1000 1e-05 0.1\n",
      "0.9181818181818182\n",
      "{'max_iter': 1000, 'Tolerance': 1e-05, 'C_param': 0.1, 'accuracy': 0.9181818181818182}\n",
      "[LibLinear]1000 1e-05 1\n",
      "0.9636363636363636\n",
      "{'max_iter': 1000, 'Tolerance': 1e-05, 'C_param': 1, 'accuracy': 0.9636363636363636}\n",
      "[LibLinear]1000 1e-05 100\n",
      "0.9696969696969697\n",
      "{'max_iter': 1000, 'Tolerance': 1e-05, 'C_param': 100, 'accuracy': 0.9696969696969697}\n"
     ]
    }
   ],
   "source": [
    "lg_data=[]\n",
    "max_iter=[100,200,500,1000]\n",
    "tol = [.0001,.0002,.0005,.00001]\n",
    "C=[0.001,0.01,0.1,1,100]\n",
    "\n",
    "for mx in max_iter:\n",
    "    for t in tol:\n",
    "        for c in C:\n",
    "            lg1model = LogisticRegression(dual=False, tol=t, C=c, fit_intercept=True, intercept_scaling=1, class_weight=None, random_state=42, solver='liblinear', max_iter=mx, multi_class='ovr', verbose=1, warm_start=True, n_jobs=None, penalty = 'l1')\n",
    "            lg1model.fit(X_train,Y_train)\n",
    "            lg1_predictions = lg1model.predict(X_test)\n",
    "            t_predictions = lg1model.predict(X_train)\n",
    "\n",
    "            from sklearn.metrics import classification_report\n",
    "            print(mx,t,c)\n",
    "            print(classification_report(Y_test,lg1_predictions,output_dict=True)['accuracy'])\n",
    "            \n",
    "                            \n",
    "                            \n",
    "            data=[mx,t,c,classification_report(Y_test,lg1_predictions,output_dict=True)['accuracy']]\n",
    "            zipped = zip(colm,data)\n",
    "            a_dict = dict(zipped)\n",
    "            print(a_dict)\n",
    "            lg_data.append(a_dict)"
   ]
  },
  {
   "cell_type": "code",
   "execution_count": 448,
   "metadata": {},
   "outputs": [],
   "source": [
    " lg3 = lg3.append(lg_data,True)"
   ]
  },
  {
   "cell_type": "code",
   "execution_count": 449,
   "metadata": {},
   "outputs": [
    {
     "data": {
      "text/html": [
       "<div>\n",
       "<style scoped>\n",
       "    .dataframe tbody tr th:only-of-type {\n",
       "        vertical-align: middle;\n",
       "    }\n",
       "\n",
       "    .dataframe tbody tr th {\n",
       "        vertical-align: top;\n",
       "    }\n",
       "\n",
       "    .dataframe thead th {\n",
       "        text-align: right;\n",
       "    }\n",
       "</style>\n",
       "<table border=\"1\" class=\"dataframe\">\n",
       "  <thead>\n",
       "    <tr style=\"text-align: right;\">\n",
       "      <th></th>\n",
       "      <th>max_iter</th>\n",
       "      <th>Tolerance</th>\n",
       "      <th>C_param</th>\n",
       "      <th>accuracy</th>\n",
       "    </tr>\n",
       "  </thead>\n",
       "  <tbody>\n",
       "    <tr>\n",
       "      <th>239</th>\n",
       "      <td>1000</td>\n",
       "      <td>0.00001</td>\n",
       "      <td>100.0</td>\n",
       "      <td>0.969697</td>\n",
       "    </tr>\n",
       "    <tr>\n",
       "      <th>24</th>\n",
       "      <td>200</td>\n",
       "      <td>0.00010</td>\n",
       "      <td>100.0</td>\n",
       "      <td>0.969697</td>\n",
       "    </tr>\n",
       "    <tr>\n",
       "      <th>219</th>\n",
       "      <td>500</td>\n",
       "      <td>0.00001</td>\n",
       "      <td>100.0</td>\n",
       "      <td>0.969697</td>\n",
       "    </tr>\n",
       "    <tr>\n",
       "      <th>39</th>\n",
       "      <td>200</td>\n",
       "      <td>0.00001</td>\n",
       "      <td>100.0</td>\n",
       "      <td>0.969697</td>\n",
       "    </tr>\n",
       "    <tr>\n",
       "      <th>44</th>\n",
       "      <td>500</td>\n",
       "      <td>0.00010</td>\n",
       "      <td>100.0</td>\n",
       "      <td>0.969697</td>\n",
       "    </tr>\n",
       "    <tr>\n",
       "      <th>...</th>\n",
       "      <td>...</td>\n",
       "      <td>...</td>\n",
       "      <td>...</td>\n",
       "      <td>...</td>\n",
       "    </tr>\n",
       "    <tr>\n",
       "      <th>113</th>\n",
       "      <td>200</td>\n",
       "      <td>5.00010</td>\n",
       "      <td>1.0</td>\n",
       "      <td>0.490909</td>\n",
       "    </tr>\n",
       "    <tr>\n",
       "      <th>114</th>\n",
       "      <td>200</td>\n",
       "      <td>5.00010</td>\n",
       "      <td>100.0</td>\n",
       "      <td>0.490909</td>\n",
       "    </tr>\n",
       "    <tr>\n",
       "      <th>73</th>\n",
       "      <td>1000</td>\n",
       "      <td>5.00010</td>\n",
       "      <td>1.0</td>\n",
       "      <td>0.490909</td>\n",
       "    </tr>\n",
       "    <tr>\n",
       "      <th>34</th>\n",
       "      <td>200</td>\n",
       "      <td>5.00010</td>\n",
       "      <td>100.0</td>\n",
       "      <td>0.490909</td>\n",
       "    </tr>\n",
       "    <tr>\n",
       "      <th>74</th>\n",
       "      <td>1000</td>\n",
       "      <td>5.00010</td>\n",
       "      <td>100.0</td>\n",
       "      <td>0.490909</td>\n",
       "    </tr>\n",
       "  </tbody>\n",
       "</table>\n",
       "<p>240 rows × 4 columns</p>\n",
       "</div>"
      ],
      "text/plain": [
       "    max_iter  Tolerance  C_param  accuracy\n",
       "239     1000    0.00001    100.0  0.969697\n",
       "24       200    0.00010    100.0  0.969697\n",
       "219      500    0.00001    100.0  0.969697\n",
       "39       200    0.00001    100.0  0.969697\n",
       "44       500    0.00010    100.0  0.969697\n",
       "..       ...        ...      ...       ...\n",
       "113      200    5.00010      1.0  0.490909\n",
       "114      200    5.00010    100.0  0.490909\n",
       "73      1000    5.00010      1.0  0.490909\n",
       "34       200    5.00010    100.0  0.490909\n",
       "74      1000    5.00010    100.0  0.490909\n",
       "\n",
       "[240 rows x 4 columns]"
      ]
     },
     "execution_count": 449,
     "metadata": {},
     "output_type": "execute_result"
    }
   ],
   "source": [
    "lg3.sort_values(['accuracy'],ascending=False)"
   ]
  },
  {
   "cell_type": "code",
   "execution_count": null,
   "metadata": {},
   "outputs": [],
   "source": []
  },
  {
   "cell_type": "code",
   "execution_count": 351,
   "metadata": {},
   "outputs": [],
   "source": [
    "parameters = [{ 'dual':[True,False],\n",
    "               'tol' : [.0001,2.0001,5.0001,5.00001,.00001],\n",
    "                'solver' : ['liblinear','lbfgs','newton-cg','sag','saga'],\n",
    "                'max_iter':[200,500,750,1000,2500],\n",
    "               'C': [0.001,0.01,0.1,1,10],           \n",
    "               'multi_class' : ['auto','ovr','multinomial'],\n",
    "               'class_weight' :[None,'balanced'],\n",
    "               'penalty' : ['l1','l2','elasticnet','none']}]\n",
    "#n_jobs = [-2,-1,1]\n",
    "#class_weight = [None,'balanced']\n",
    "#penalty = ['l1','l2','elasticnet']]\n",
    "\n",
    "clf = GridSearchCV(logmodel,param_grid=parameters,cv=5,verbose=True,n_jobs=-1)"
   ]
  },
  {
   "cell_type": "code",
   "execution_count": 374,
   "metadata": {},
   "outputs": [
    {
     "name": "stdout",
     "output_type": "stream",
     "text": [
      "Fitting 5 folds for each of 30000 candidates, totalling 150000 fits\n"
     ]
    },
    {
     "name": "stderr",
     "output_type": "stream",
     "text": [
      "[Parallel(n_jobs=-1)]: Using backend LokyBackend with 8 concurrent workers.\n",
      "[Parallel(n_jobs=-1)]: Done  56 tasks      | elapsed:    0.0s\n",
      "[Parallel(n_jobs=-1)]: Done 6640 tasks      | elapsed:    4.3s\n",
      "[Parallel(n_jobs=-1)]: Done 10666 tasks      | elapsed:   26.7s\n",
      "[Parallel(n_jobs=-1)]: Done 12628 tasks      | elapsed:   45.0s\n",
      "[Parallel(n_jobs=-1)]: Done 14920 tasks      | elapsed:  1.3min\n",
      "[Parallel(n_jobs=-1)]: Done 24612 tasks      | elapsed:  1.7min\n",
      "[Parallel(n_jobs=-1)]: Done 28712 tasks      | elapsed:  2.4min\n",
      "[Parallel(n_jobs=-1)]: Done 40018 tasks      | elapsed:  3.2min\n",
      "[Parallel(n_jobs=-1)]: Done 44457 tasks      | elapsed:  4.0min\n",
      "[Parallel(n_jobs=-1)]: Done 55956 tasks      | elapsed:  4.9min\n",
      "[Parallel(n_jobs=-1)]: Done 67224 tasks      | elapsed:  5.8min\n",
      "[Parallel(n_jobs=-1)]: Done 74368 tasks      | elapsed:  7.0min\n",
      "[Parallel(n_jobs=-1)]: Done 87816 tasks      | elapsed:  8.2min\n",
      "[Parallel(n_jobs=-1)]: Done 101788 tasks      | elapsed:  9.4min\n",
      "[Parallel(n_jobs=-1)]: Done 117169 tasks      | elapsed: 11.0min\n",
      "[Parallel(n_jobs=-1)]: Done 131024 tasks      | elapsed: 12.2min\n",
      "[Parallel(n_jobs=-1)]: Done 146762 tasks      | elapsed: 13.8min\n",
      "[Parallel(n_jobs=-1)]: Done 150000 out of 150000 | elapsed: 14.6min finished\n",
      "E:\\conda\\lib\\site-packages\\scipy\\optimize\\linesearch.py:477: LineSearchWarning: The line search algorithm did not converge\n",
      "  warn('The line search algorithm did not converge', LineSearchWarning)\n",
      "E:\\conda\\lib\\site-packages\\scipy\\optimize\\linesearch.py:327: LineSearchWarning: The line search algorithm did not converge\n",
      "  warn('The line search algorithm did not converge', LineSearchWarning)\n"
     ]
    }
   ],
   "source": [
    "best_clf=clf.fit(X_train,Y_train)"
   ]
  },
  {
   "cell_type": "code",
   "execution_count": 375,
   "metadata": {},
   "outputs": [
    {
     "data": {
      "text/plain": [
       "LogisticRegression(C=0.001, class_weight='balanced', max_iter=200,\n",
       "                   multi_class='multinomial', solver='newton-cg', tol=2.0001)"
      ]
     },
     "execution_count": 375,
     "metadata": {},
     "output_type": "execute_result"
    }
   ],
   "source": [
    "best_clf.best_estimator_"
   ]
  },
  {
   "cell_type": "code",
   "execution_count": 376,
   "metadata": {},
   "outputs": [],
   "source": [
    "lg = LogisticRegression(C=0.001, class_weight='balanced', max_iter=200,\n",
    "                   multi_class='multinomial', solver='newton-cg', tol=2.0001)"
   ]
  },
  {
   "cell_type": "code",
   "execution_count": 377,
   "metadata": {},
   "outputs": [
    {
     "data": {
      "text/plain": [
       "LogisticRegression(C=0.001, class_weight='balanced', max_iter=200,\n",
       "                   multi_class='multinomial', solver='newton-cg', tol=2.0001)"
      ]
     },
     "execution_count": 377,
     "metadata": {},
     "output_type": "execute_result"
    }
   ],
   "source": [
    "lg.fit(X_train_minmax,Y_train)"
   ]
  },
  {
   "cell_type": "code",
   "execution_count": 378,
   "metadata": {},
   "outputs": [],
   "source": [
    "lg_predictions = lg.predict(X_test_minmax)"
   ]
  },
  {
   "cell_type": "code",
   "execution_count": 379,
   "metadata": {},
   "outputs": [
    {
     "name": "stdout",
     "output_type": "stream",
     "text": [
      "              precision    recall  f1-score   support\n",
      "\n",
      "           0       0.91      0.99      0.95       162\n",
      "           1       0.99      0.91      0.95       168\n",
      "\n",
      "    accuracy                           0.95       330\n",
      "   macro avg       0.95      0.95      0.95       330\n",
      "weighted avg       0.95      0.95      0.95       330\n",
      "\n"
     ]
    }
   ],
   "source": [
    "print(classification_report(Y_test,lg_predictions))"
   ]
  },
  {
   "cell_type": "code",
   "execution_count": 313,
   "metadata": {},
   "outputs": [
    {
     "data": {
      "text/plain": [
       "0.9636363636363636"
      ]
     },
     "execution_count": 313,
     "metadata": {},
     "output_type": "execute_result"
    }
   ],
   "source": [
    "best_clf.score(X_test_minmax,Y_test)"
   ]
  },
  {
   "cell_type": "code",
   "execution_count": null,
   "metadata": {},
   "outputs": [],
   "source": []
  }
 ],
 "metadata": {
  "kernelspec": {
   "display_name": "Python 3",
   "language": "python",
   "name": "python3"
  },
  "language_info": {
   "codemirror_mode": {
    "name": "ipython",
    "version": 3
   },
   "file_extension": ".py",
   "mimetype": "text/x-python",
   "name": "python",
   "nbconvert_exporter": "python",
   "pygments_lexer": "ipython3",
   "version": "3.8.3"
  }
 },
 "nbformat": 4,
 "nbformat_minor": 4
}
